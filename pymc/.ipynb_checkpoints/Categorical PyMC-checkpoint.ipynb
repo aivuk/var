{
 "metadata": {
  "name": "Untitled0"
 },
 "nbformat": 3,
 "nbformat_minor": 0,
 "worksheets": [
  {
   "cells": [
    {
     "cell_type": "code",
     "collapsed": false,
     "input": [
      "%load model"
     ],
     "language": "python",
     "metadata": {},
     "outputs": [],
     "prompt_number": 163
    },
    {
     "cell_type": "code",
     "collapsed": false,
     "input": [
      "import pymc\n",
      "import numpy as np\n",
      "\n",
      "data = np.array([0 for i in range(0,500)] + [1] + [2 for i in range(0, 500)])\n",
      "\n",
      "c0 = len(data[data == 0])\n",
      "c1 = len(data[data == 1])\n",
      "c2 = len(data[data == 2])\n",
      "\n",
      "p = pymc.Dirichlet('prior', theta=[c0, c1, c2])\n",
      "choices = pymc.Categorical('choice', p=p, value=data, observed=True)\n",
      "choices_sim = pymc.Categorical('choice_sim', p=p) \n",
      "\n"
     ],
     "language": "python",
     "metadata": {},
     "outputs": []
    },
    {
     "cell_type": "code",
     "collapsed": false,
     "input": [
      "import model\n",
      "\n",
      "m = pymc.MCMC(model, db='pickle', dbname='model.pickle')\n"
     ],
     "language": "python",
     "metadata": {},
     "outputs": [],
     "prompt_number": 165
    },
    {
     "cell_type": "code",
     "collapsed": false,
     "input": [
      "m.sample(iter=10000, burn=1000, thin=1)"
     ],
     "language": "python",
     "metadata": {},
     "outputs": [
      {
       "output_type": "stream",
       "stream": "stdout",
       "text": [
        " \r",
        "[****************100%******************]  10000 of 10000 complete"
       ]
      },
      {
       "output_type": "stream",
       "stream": "stdout",
       "text": [
        "\n"
       ]
      }
     ],
     "prompt_number": 166
    },
    {
     "cell_type": "code",
     "collapsed": false,
     "input": [
      "1-sum(model.p.trace()[-1])"
     ],
     "language": "python",
     "metadata": {},
     "outputs": [
      {
       "metadata": {},
       "output_type": "pyout",
       "prompt_number": 169,
       "text": [
        "0.51344418322658703"
       ]
      }
     ],
     "prompt_number": 169
    },
    {
     "cell_type": "code",
     "collapsed": false,
     "input": [
      "model.p.trace()[-1]"
     ],
     "language": "python",
     "metadata": {},
     "outputs": [
      {
       "metadata": {},
       "output_type": "pyout",
       "prompt_number": 170,
       "text": [
        "array([ 0.48576677,  0.00078904])"
       ]
      }
     ],
     "prompt_number": 170
    }
   ],
   "metadata": {}
  }
 ]
}