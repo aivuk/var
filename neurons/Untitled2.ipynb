{
 "metadata": {
  "name": ""
 },
 "nbformat": 3,
 "nbformat_minor": 0,
 "worksheets": [
  {
   "cells": [
    {
     "cell_type": "code",
     "collapsed": false,
     "input": [
      "from itertools import chain\n",
      "from neuron import h"
     ],
     "language": "python",
     "metadata": {},
     "outputs": [],
     "prompt_number": 3
    },
    {
     "cell_type": "code",
     "collapsed": false,
     "input": [
      "Section = h.Section"
     ],
     "language": "python",
     "metadata": {},
     "outputs": [],
     "prompt_number": 2
    },
    {
     "cell_type": "code",
     "collapsed": false,
     "input": [
      "soma = Section ()\n",
      "apical = Section ()\n",
      "basilar = Section ()\n",
      "axon = Section ()"
     ],
     "language": "python",
     "metadata": {},
     "outputs": [],
     "prompt_number": 4
    },
    {
     "cell_type": "code",
     "collapsed": false,
     "input": [
      "apical.connect ( soma , 1, 0)\n",
      "basilar.connect ( soma , 0, 0)\n",
      "axon.connect ( soma , 0, 0)"
     ],
     "language": "python",
     "metadata": {},
     "outputs": [
      {
       "metadata": {},
       "output_type": "pyout",
       "prompt_number": 5,
       "text": [
        "<nrn.Section at 0x4037630>"
       ]
      }
     ],
     "prompt_number": 5
    },
    {
     "cell_type": "code",
     "collapsed": false,
     "input": [
      "soma.L = 30\n",
      "soma.nseg = 1\n",
      "soma.diam = 30"
     ],
     "language": "python",
     "metadata": {},
     "outputs": [],
     "prompt_number": 6
    },
    {
     "cell_type": "code",
     "collapsed": false,
     "input": [
      "apical.L = 600\n",
      "apical.nseg = 23\n",
      "apical.diam = 1"
     ],
     "language": "python",
     "metadata": {},
     "outputs": [],
     "prompt_number": 7
    },
    {
     "cell_type": "code",
     "collapsed": false,
     "input": [
      "basilar.L = 200\n",
      "basilar.nseg = 5\n",
      "basilar.diam = 2"
     ],
     "language": "python",
     "metadata": {},
     "outputs": [],
     "prompt_number": 9
    },
    {
     "cell_type": "code",
     "collapsed": false,
     "input": [
      "axon.L = 1000\n",
      "axon.nseg = 37\n",
      "axon.diam = 1"
     ],
     "language": "python",
     "metadata": {},
     "outputs": [],
     "prompt_number": 10
    },
    {
     "cell_type": "code",
     "collapsed": false,
     "input": [
      "for sec in h.allsec():\n",
      "    sec.Ra = 100\n",
      "    sec.cm = 1"
     ],
     "language": "python",
     "metadata": {},
     "outputs": [],
     "prompt_number": 11
    },
    {
     "cell_type": "code",
     "collapsed": false,
     "input": [
      "soma.insert('hh')\n",
      "apical.insert('pas')\n",
      "basilar.insert('pas')"
     ],
     "language": "python",
     "metadata": {},
     "outputs": [
      {
       "metadata": {},
       "output_type": "pyout",
       "prompt_number": 12,
       "text": [
        "<nrn.Section at 0x40374e0>"
       ]
      }
     ],
     "prompt_number": 12
    },
    {
     "cell_type": "code",
     "collapsed": false,
     "input": [
      "for seg in chain(apical, basilar):\n",
      "    seg.pas.g = 0.0002\n",
      "    seg.pas.e = -65"
     ],
     "language": "python",
     "metadata": {},
     "outputs": [],
     "prompt_number": 13
    },
    {
     "cell_type": "code",
     "collapsed": false,
     "input": [
      "axon.insert('hh')"
     ],
     "language": "python",
     "metadata": {},
     "outputs": [
      {
       "metadata": {},
       "output_type": "pyout",
       "prompt_number": 14,
       "text": [
        "<nrn.Section at 0x4037630>"
       ]
      }
     ],
     "prompt_number": 14
    },
    {
     "cell_type": "code",
     "collapsed": false,
     "input": [
      "syn = h.AlphaSynapse(0.5, sec=soma)\n",
      "syn.onset = 0.5\n",
      "syn.gmax = 0.05\n",
      "syn.e = 0"
     ],
     "language": "python",
     "metadata": {},
     "outputs": [],
     "prompt_number": 16
    },
    {
     "cell_type": "code",
     "collapsed": false,
     "input": [
      "g = h.Graph()\n",
      "g.size(0, 5, -80, 40)\n",
      "g.addvar('v(0.5)', sec=soma)"
     ],
     "language": "python",
     "metadata": {},
     "outputs": [
      {
       "metadata": {},
       "output_type": "pyout",
       "prompt_number": 18,
       "text": [
        "0.0"
       ]
      }
     ],
     "prompt_number": 18
    },
    {
     "cell_type": "code",
     "collapsed": false,
     "input": [
      "h.dt = 0.025\n",
      "tstop = 5\n",
      "v_init = -65\n",
      "\n",
      "def initialize():\n",
      "    h.finitialize(v_init)\n",
      "    h.fcurrent()\n",
      "    \n",
      "def integrate():\n",
      "    g.begin()\n",
      "    while h.t < tstop:\n",
      "        h.fadvance()\n",
      "        g.plot(h.t)\n",
      "    g.flush()\n",
      "    \n",
      "def go():\n",
      "    initialize()\n",
      "    integrate()"
     ],
     "language": "python",
     "metadata": {},
     "outputs": [],
     "prompt_number": 21
    },
    {
     "cell_type": "code",
     "collapsed": false,
     "input": [
      "go()"
     ],
     "language": "python",
     "metadata": {},
     "outputs": [],
     "prompt_number": 23
    },
    {
     "cell_type": "code",
     "collapsed": false,
     "input": [
      "axon."
     ],
     "language": "python",
     "metadata": {},
     "outputs": []
    }
   ],
   "metadata": {}
  }
 ]
}