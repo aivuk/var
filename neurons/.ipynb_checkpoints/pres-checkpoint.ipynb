{
 "metadata": {
  "name": ""
 },
 "nbformat": 3,
 "nbformat_minor": 0,
 "worksheets": [
  {
   "cells": [
    {
     "cell_type": "markdown",
     "metadata": {
      "slideshow": {
       "slide_type": "slide"
      }
     },
     "source": [
      "## Propaga\u00e7\u00e3o do potencial de a\u00e7\u00e3o ao longo do ax\u00f4nio"
     ]
    },
    {
     "cell_type": "markdown",
     "metadata": {
      "slideshow": {
       "slide_type": "-"
      }
     },
     "source": [
      "Modelo de Hodgkin e Huxley sem considerar corrente axial:\n",
      "\n",
      "$ C_m \\frac{\\partial V}{\\partial t} + \\overline{g_K} n^4(V - V_k) + \\overline{g_{Na}}m^3h(V - V_{Na}) + \\overline{g_l}(V - V_l)= 0 $\n",
      "\n",
      "Considerando a corrente no neur\u00f4nio com a aproxima\u00e7\u00e3o de cabo:\n",
      "\n",
      "$ C_ m\\frac{\\partial V}{\\partial t} + \\overline{g_K} n^4(V - V_k) + \\overline{g_{Na}}m^3h(V - V_{Na}) + \\overline{g_l}(V - V_l) = I $\n",
      "\n",
      "Com $I = \\frac{a}{2R} \\frac{\\partial^2V}{\\partial x^2} $\n",
      "\n",
      " * a = raio do cabo \n",
      " * R = resist\u00eancia do axoplasma\n"
     ]
    },
    {
     "cell_type": "markdown",
     "metadata": {
      "slideshow": {
       "slide_type": "subslide"
      }
     },
     "source": [
      "Que \u00e9 uma equa\u00e7\u00e3o de Rea\u00e7\u00e3o-Difus\u00e3o do tipo:\n",
      "\n",
      "$ \\partial_t\\textbf{q} = \\textbf{C}\\nabla^2\\textbf{q} + \\textbf{R}(\\textbf{q})$\n",
      "\n",
      "Cuja solu\u00e7\u00e3o computacional estava muito distante de ser conseguido com m\u00e9todos da d\u00e9cada de 50 por Hodgkin e Huxley. Eles suporam ent\u00e3o que na propaga\u00e7\u00e3o de um potencial de a\u00e7\u00e3o a forma do pontecial $V$ em fun\u00e7\u00e3o do tempo era aproximadamente a mesma forma que $V$ em fun\u00e7\u00e3o do espa\u00e7o e com isso obteram uma equa\u00e7\u00e3o descrevendo uma onda:\n",
      "\n",
      "$ \\frac{\\partial^2V}{\\partial^2x} = \\frac{1}{\\theta^2}\\frac{\\partial^2V}{\\partial^2t}$"
     ]
    },
    {
     "cell_type": "markdown",
     "metadata": {},
     "source": [
      "\n"
     ]
    },
    {
     "cell_type": "markdown",
     "metadata": {
      "slideshow": {
       "slide_type": "slide"
      }
     },
     "source": [
      "## Depend\u00eancia do potencial de a\u00e7\u00e3o com a temperatura"
     ]
    },
    {
     "cell_type": "code",
     "collapsed": false,
     "input": [],
     "language": "python",
     "metadata": {
      "slideshow": {
       "slide_type": "-"
      }
     },
     "outputs": []
    },
    {
     "cell_type": "markdown",
     "metadata": {
      "slideshow": {
       "slide_type": "slide"
      }
     },
     "source": [
      "## Aproxima\u00e7\u00f5es do modelo"
     ]
    },
    {
     "cell_type": "code",
     "collapsed": false,
     "input": [],
     "language": "python",
     "metadata": {
      "slideshow": {
       "slide_type": "-"
      }
     },
     "outputs": []
    }
   ],
   "metadata": {}
  }
 ]
}