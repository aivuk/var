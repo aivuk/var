{
 "metadata": {
  "name": ""
 },
 "nbformat": 3,
 "nbformat_minor": 0,
 "worksheets": [
  {
   "cells": [
    {
     "cell_type": "markdown",
     "metadata": {
      "slideshow": {
       "slide_type": "slide"
      }
     },
     "source": [
      "## Propaga\u00e7\u00e3o do potencial de a\u00e7\u00e3o ao longo do ax\u00f4nio"
     ]
    },
    {
     "cell_type": "markdown",
     "metadata": {
      "slideshow": {
       "slide_type": "-"
      }
     },
     "source": [
      "Modelo de Hodgkin e Huxley sem considerar corrente axial:\n",
      "\n",
      "$$C_m \\frac{\\partial V}{\\partial t} + \\overline{g_K} n^4(V - V_k) + \\overline{g_{Na}}m^3h(V - V_{Na}) + \\overline{g_l}(V - V_l)= 0 $$\n",
      "\n",
      "Considerando a corrente no neur\u00f4nio com a aproxima\u00e7\u00e3o de cabo:\n",
      "\n",
      "$$C_ m\\frac{\\partial V}{\\partial t} + \\overline{g_K} n^4(V - V_k) + \\overline{g_{Na}}m^3h(V - V_{Na}) + \\overline{g_l}(V - V_l) = I $$\n",
      "\n",
      "Com $I = \\frac{a}{2R} \\frac{\\partial^2V}{\\partial x^2} $\n",
      "\n",
      " * a = raio do cabo \n",
      " * R = resist\u00eancia do axoplasma\n"
     ]
    },
    {
     "cell_type": "markdown",
     "metadata": {
      "slideshow": {
       "slide_type": "subslide"
      }
     },
     "source": [
      "Que \u00e9 uma equa\u00e7\u00e3o de Rea\u00e7\u00e3o-Difus\u00e3o do tipo:\n",
      "\n",
      "$$ \\partial_t\\textbf{q} = \\textbf{C}\\nabla^2\\textbf{q} + \\textbf{R}(\\textbf{q})$$\n",
      "\n",
      "Cuja solu\u00e7\u00e3o computacional estava muito distante de ser conseguido com m\u00e9todos da d\u00e9cada de 50 por Hodgkin e Huxley. Eles suporam ent\u00e3o que na propaga\u00e7\u00e3o de um potencial de a\u00e7\u00e3o a forma do pontecial $V$ em fun\u00e7\u00e3o do tempo era aproximadamente a mesma forma que $V$ em fun\u00e7\u00e3o do espa\u00e7o e com isso obteram uma equa\u00e7\u00e3o descrevendo uma onda:\n",
      "\n",
      "$$ \\frac{\\partial^2V}{\\partial^2x} = \\frac{1}{\\theta^2}\\frac{\\partial^2V}{\\partial^2t}$$\n"
     ]
    },
    {
     "cell_type": "markdown",
     "metadata": {
      "slideshow": {
       "slide_type": "subslide"
      }
     },
     "source": [
      "$$ \\frac{1}{K}\\frac{\\partial^2V}{\\partial^2t} = \\frac{\\partial V}{\\partial t} + I_i$$\n",
      "\n",
      "Atrav\u00e9s de tentativa e erro Hodgkin e Huxley conseguiram encontrar um $\\theta$ que fosse solu\u00e7\u00e3o da equa\u00e7\u00e3o de onda dado os valores das contantes ($R$, $C_m$, $g_{Na}$, etc) para o neur\u00f4nio da lula gigante.\n",
      "\n",
      "\u00c9 poss\u00edvel ver como a velocidade de propaga\u00e7\u00e3o depender\u00e1 do di\u00e2metro do ax\u00f4nio apenas realizando uma an\u00e1lise dimensional da equa\u00e7\u00e3o acima e chegar que $u \\propto \\sqrt{d}$.\n"
     ]
    },
    {
     "cell_type": "markdown",
     "metadata": {
      "slideshow": {
       "slide_type": "slide"
      }
     },
     "source": [
      "## Depend\u00eancia do potencial de a\u00e7\u00e3o com a temperatura"
     ]
    },
    {
     "cell_type": "markdown",
     "metadata": {
      "slideshow": {
       "slide_type": "-"
      }
     },
     "source": [
      "![Varia\u00e7\u00e3o com diferentes temperaturas](temperature-dependence.png)\n",
      "\n",
      "$$ A:  T=32.5^oC, V = 74.5mV $$\n",
      "$$ B:  T=18.5^oC, V = 99mV $$\n",
      "$$ C:  T=5^oC, V 108.5mV$$\n",
      "\n",
      "Hodgkin e Katz, J Physiol. 1949 August 1; 109(1-2): 240\u2013249\n"
     ]
    },
    {
     "cell_type": "markdown",
     "metadata": {
      "slideshow": {
       "slide_type": "subslide"
      }
     },
     "source": [
      "![Potencial com temperatura](temperature-resting.png)"
     ]
    },
    {
     "cell_type": "markdown",
     "metadata": {
      "slideshow": {
       "slide_type": "subslide"
      }
     },
     "source": [
      "Com $Q_{10}$ sendo o coeficiente de temperatura, definido como a mudan\u00e7a de uma taxa dado uma varia\u00e7\u00e3o de temperature de $10^oC$, Hodgkin e Huxley verificaram que se os coeficientes $\\alpha$ e $\\beta$ de seu modelo obedecessem:\n",
      "\n",
      "$$ \\alpha(V,T_2) = \\alpha(V, T_1)Q_{10}^{\\frac{T_2-T_1}{10}}$$\n",
      "\n",
      "$$ \\beta(V,T_2) = \\beta(V, T_1)Q_{10}^{\\frac{T_2-T_1}{10}}$$\n",
      "\n",
      "Com $Q_{10} = 3$, obteriam matematicamente o comportamento verificado experimentalmente. \n",
      "\n",
      "A hist\u00f3ria real na verdade \u00e9 mais complicada j que o pr\u00f3prio $Q_{10}$ \u00e9 uma fun\u00e7\u00e3o da temperatura. Modelos para os canais i\u00f4nicos explicam essa depend\u00eancia e consequentemente permitem um modelo melhor para explicar a din\u00e2mica neural em diferentes temperaturas."
     ]
    },
    {
     "cell_type": "markdown",
     "metadata": {
      "slideshow": {
       "slide_type": "slide"
      }
     },
     "source": [
      "## Aproxima\u00e7\u00f5es do modelo"
     ]
    },
    {
     "cell_type": "markdown",
     "metadata": {
      "slideshow": {
       "slide_type": "-"
      }
     },
     "source": [
      "* Cada canal \u00e9 perme\u00e1vel para apenas um tipo de \u00edon\n",
      "* Cada corrente i\u00f4nica s\u00f3 depende da concentra\u00e7\u00e3o do mesmo tipo de \u00edon\n",
      "* O gr\u00e1fico da rela\u00e7\u00e3o da corrente com o pontecial em um instante ter\u00e1 um comportamente \u00f4hmico"
     ]
    },
    {
     "cell_type": "markdown",
     "metadata": {
      "slideshow": {
       "slide_type": "subslide"
      }
     },
     "source": [
      "## I-V instant\u00e2neo\n",
      "\n",
      "![](inst-iv.png)\n",
      "\n",
      "A. L. Hodgkin and A. F. Huxley, J Physiol. 1952 April 28; 116(4): 473\u2013496. "
     ]
    }
   ],
   "metadata": {}
  }
 ]
}