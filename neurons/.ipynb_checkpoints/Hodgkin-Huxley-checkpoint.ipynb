{
 "metadata": {
  "name": ""
 },
 "nbformat": 3,
 "nbformat_minor": 0,
 "worksheets": [
  {
   "cells": [
    {
     "cell_type": "code",
     "collapsed": false,
     "input": [
      "import numpy as np\n",
      "from scipy.integrate import ode"
     ],
     "language": "python",
     "metadata": {},
     "outputs": [],
     "prompt_number": 8
    },
    {
     "cell_type": "code",
     "collapsed": false,
     "input": [
      "def calc_v(t, x, C_m, g_L, E_L, g_Na, E_Na, g_K, E_K):\n",
      "    # x[0] = V\n",
      "    # x[1] = m\n",
      "    # x[2] = h\n",
      "    # x[3] = n\n",
      "    \n",
      "    delta_v = 1.0/C_m*(-g_L*(x[0] - E_L) - g_Na*x[1]**3*x[2]*(x[0] - E_Na) - g_K*x[3]**4*(x[0] - E_K))\n",
      "    \n",
      "    alpha_m = 0.1*(x[0] + 40)/(1 - np.exp(-(x[0] + 40)/10))\n",
      "    beta_m  = 4*np.exp(-(x[0] + 65)/18)\n",
      "    delta_m = alpha_m*(1 - x[1]) - beta_m*x[1] \n",
      "    \n",
      "    alpha_h = 0.07*np.exp(-(x[0] + 65)/20)\n",
      "    beta_h  = np.divide(1, np.exp(-(x[0] + 35)/10) + 1)\n",
      "    delta_h = alpha_h*(1 - x[2]) - beta_h*x[2]\n",
      "    \n",
      "    alpha_n = 0.01*np.divide(x[0] + 55, 1 - np.exp(-(x[0] + 55)/10))\n",
      "    beta_n  = 0.125*np.exp(-(x[0] + 65)/80)\n",
      "    delta_n = alpha_n*(1 - x[3]) - beta_n*x[3]\n",
      "    \n",
      "    return np.array([delta_v, delta_m, delta_h, delta_n])"
     ],
     "language": "python",
     "metadata": {},
     "outputs": [],
     "prompt_number": 13
    },
    {
     "cell_type": "code",
     "collapsed": false,
     "input": [
      "def integrate(func, v0, t0, tf, dt, *params):\n",
      "    r = ode(func).set_integrator('dopri5')\n",
      "    r.set_initial_value(v0, t0).set_f_params(*params)\n",
      "\n",
      "    series = []\n",
      "    while r.successful() and r.t < tf:\n",
      "        r.integrate(r.t + dt)\n",
      "        series.append(r.y)\n",
      "\n",
      "    return np.array(series)"
     ],
     "language": "python",
     "metadata": {},
     "outputs": [],
     "prompt_number": 14
    },
    {
     "cell_type": "code",
     "collapsed": false,
     "input": [
      "C_m  = 1\n",
      "\n",
      "E_Na = 50\n",
      "g_Na = 120\n",
      "\n",
      "E_K  = -77\n",
      "g_K  = 36\n",
      "\n",
      "E_L  = -54.4\n",
      "g_L  = 0.3\n",
      "\n",
      "x0 = np.array([-45, 0.053, 0.6, 0.32])\n",
      "out = integrate(calc_v, x0, 0, 100, 0.1, C_m, g_L, E_L, g_Na, E_Na, g_K, E_K)"
     ],
     "language": "python",
     "metadata": {},
     "outputs": [],
     "prompt_number": 171
    },
    {
     "cell_type": "code",
     "collapsed": false,
     "input": [
      "t = 60\n",
      "nx0 = out[:,:][t].copy()\n",
      "nx0[0] = 100\n",
      "out2 = integrate(calc_v, nx0, 0, 60, 0.1, C_m, g_L, E_L, g_Na, E_Na, g_K, E_K)\n"
     ],
     "language": "python",
     "metadata": {},
     "outputs": [],
     "prompt_number": 230
    },
    {
     "cell_type": "code",
     "collapsed": false,
     "input": [
      "plot(np.concatenate([out[:,0][:t], out2[:,0]]))"
     ],
     "language": "python",
     "metadata": {},
     "outputs": [
      {
       "metadata": {},
       "output_type": "pyout",
       "prompt_number": 231,
       "text": [
        "[<matplotlib.lines.Line2D at 0x1127cf50>]"
       ]
      },
      {
       "metadata": {},
       "output_type": "display_data",
       "png": "[encoded data removed]",
       "text": [
        "<matplotlib.figure.Figure at 0x10ee5090>"
       ]
      }
     ],
     "prompt_number": 231
    },
    {
     "cell_type": "code",
     "collapsed": false,
     "input": [
      "plot(out[:,1])\n",
      "plot(out[:,2])\n",
      "plot(out[:,3])"
     ],
     "language": "python",
     "metadata": {},
     "outputs": [
      {
       "metadata": {},
       "output_type": "pyout",
       "prompt_number": 232,
       "text": [
        "[<matplotlib.lines.Line2D at 0x116278d0>]"
       ]
      },
      {
       "metadata": {},
       "output_type": "display_data",
       "png": "[encoded data removed]",
       "text": [
        "<matplotlib.figure.Figure at 0x11284d10>"
       ]
      }
     ],
     "prompt_number": 232
    },
    {
     "cell_type": "code",
     "collapsed": false,
     "input": [],
     "language": "python",
     "metadata": {},
     "outputs": [],
     "prompt_number": 83
    }
   ],
   "metadata": {}
  }
 ]
}