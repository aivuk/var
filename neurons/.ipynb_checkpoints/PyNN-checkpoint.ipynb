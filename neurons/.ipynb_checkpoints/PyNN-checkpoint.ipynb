{
 "metadata": {
  "name": ""
 },
 "nbformat": 3,
 "nbformat_minor": 0,
 "worksheets": [
  {
   "cells": [
    {
     "cell_type": "code",
     "collapsed": false,
     "input": [
      "\"\"\"\n",
      "A single-compartment Hodgkin-Huxley neuron with exponential, conductance-based\n",
      "synapses, fed by two spike sources.\n",
      "\n",
      "Run as:\n",
      "\n",
      "$ python HH_cond_exp.py <simulator>\n",
      "\n",
      "where <simulator> is 'neuron', 'nest', etc\n",
      "\n",
      "Andrew Davison, UNIC, CNRS\n",
      "July 2007\n",
      "\n",
      "\"\"\"\n",
      "\n",
      "from pyNN.utility import get_script_args, normalized_filename\n",
      "from pyNN.neuron import *\n",
      "\n",
      "setup(timestep=0.01, min_delay=0.1, max_delay=4.0, quit_on_end=False)\n",
      "\n",
      "hhcell = create(HH_cond_exp())\n",
      "\n",
      "spike_sourceE = create(SpikeSourceArray(spike_times=[float(i) for i in range(1,100,1)]))\n",
      "spike_sourceI = create(SpikeSourceArray(spike_times=[float(i) for i in range(100,200,11)]))\n",
      "\n",
      "connE = connect(spike_sourceE, hhcell, weight=0.02, receptor_type='excitatory', delay=2.0)\n",
      "connI = connect(spike_sourceI, hhcell, weight=0.01, receptor_type='inhibitory', delay=4.0)\n",
      "\n",
      "filename = normalized_filename(\"Results\", \"HH_cond_exp\", \"pkl\", simulator_name)\n",
      "record(['v', 'gsyn_exc', 'gsyn_inh'], hhcell, filename,\n",
      "       annotations={'script_name': __file__})\n",
      "\n",
      "run(200.0)\n",
      "\n",
      "end()"
     ],
     "language": "python",
     "metadata": {},
     "outputs": [
      {
       "ename": "ImportError",
       "evalue": "cannot import name simulator",
       "output_type": "pyerr",
       "traceback": [
        "\u001b[1;31m---------------------------------------------------------------------------\u001b[0m\n\u001b[1;31mImportError\u001b[0m                               Traceback (most recent call last)",
        "\u001b[1;32m<ipython-input-2-c0d615397e3f>\u001b[0m in \u001b[0;36m<module>\u001b[1;34m()\u001b[0m\n\u001b[0;32m     15\u001b[0m \u001b[1;33m\u001b[0m\u001b[0m\n\u001b[0;32m     16\u001b[0m \u001b[1;32mfrom\u001b[0m \u001b[0mpyNN\u001b[0m\u001b[1;33m.\u001b[0m\u001b[0mutility\u001b[0m \u001b[1;32mimport\u001b[0m \u001b[0mget_script_args\u001b[0m\u001b[1;33m,\u001b[0m \u001b[0mnormalized_filename\u001b[0m\u001b[1;33m\u001b[0m\u001b[0m\n\u001b[1;32m---> 17\u001b[1;33m \u001b[1;32mfrom\u001b[0m \u001b[0mpyNN\u001b[0m\u001b[1;33m.\u001b[0m\u001b[0mneuron\u001b[0m \u001b[1;32mimport\u001b[0m \u001b[1;33m*\u001b[0m\u001b[1;33m\u001b[0m\u001b[0m\n\u001b[0m\u001b[0;32m     18\u001b[0m \u001b[1;33m\u001b[0m\u001b[0m\n\u001b[0;32m     19\u001b[0m \u001b[0msetup\u001b[0m\u001b[1;33m(\u001b[0m\u001b[0mtimestep\u001b[0m\u001b[1;33m=\u001b[0m\u001b[1;36m0.01\u001b[0m\u001b[1;33m,\u001b[0m \u001b[0mmin_delay\u001b[0m\u001b[1;33m=\u001b[0m\u001b[1;36m0.1\u001b[0m\u001b[1;33m,\u001b[0m \u001b[0mmax_delay\u001b[0m\u001b[1;33m=\u001b[0m\u001b[1;36m4.0\u001b[0m\u001b[1;33m,\u001b[0m \u001b[0mquit_on_end\u001b[0m\u001b[1;33m=\u001b[0m\u001b[0mFalse\u001b[0m\u001b[1;33m)\u001b[0m\u001b[1;33m\u001b[0m\u001b[0m\n",
        "\u001b[1;32m/home/walrus/.virtualenvs/py/local/lib/python2.7/site-packages/pyNN/neuron/__init__.py\u001b[0m in \u001b[0;36m<module>\u001b[1;34m()\u001b[0m\n\u001b[0;32m     13\u001b[0m \u001b[1;32mfrom\u001b[0m \u001b[0mpyNN\u001b[0m\u001b[1;33m.\u001b[0m\u001b[0mrecording\u001b[0m \u001b[1;32mimport\u001b[0m \u001b[0mget_io\u001b[0m\u001b[1;33m\u001b[0m\u001b[0m\n\u001b[0;32m     14\u001b[0m \u001b[1;32mfrom\u001b[0m \u001b[0mpyNN\u001b[0m\u001b[1;33m.\u001b[0m\u001b[0mspace\u001b[0m \u001b[1;32mimport\u001b[0m \u001b[0mSpace\u001b[0m\u001b[1;33m\u001b[0m\u001b[0m\n\u001b[1;32m---> 15\u001b[1;33m \u001b[1;32mfrom\u001b[0m \u001b[0mpyNN\u001b[0m\u001b[1;33m.\u001b[0m\u001b[0mneuron\u001b[0m \u001b[1;32mimport\u001b[0m \u001b[0msimulator\u001b[0m\u001b[1;33m\u001b[0m\u001b[0m\n\u001b[0m\u001b[0;32m     16\u001b[0m \u001b[1;32mfrom\u001b[0m \u001b[0mpyNN\u001b[0m\u001b[1;33m.\u001b[0m\u001b[0mneuron\u001b[0m\u001b[1;33m.\u001b[0m\u001b[0mstandardmodels\u001b[0m\u001b[1;33m.\u001b[0m\u001b[0mcells\u001b[0m \u001b[1;32mimport\u001b[0m \u001b[1;33m*\u001b[0m\u001b[1;33m\u001b[0m\u001b[0m\n\u001b[0;32m     17\u001b[0m \u001b[1;32mfrom\u001b[0m \u001b[0mpyNN\u001b[0m\u001b[1;33m.\u001b[0m\u001b[0mneuron\u001b[0m\u001b[1;33m.\u001b[0m\u001b[0mconnectors\u001b[0m \u001b[1;32mimport\u001b[0m \u001b[1;33m*\u001b[0m\u001b[1;33m\u001b[0m\u001b[0m\n",
        "\u001b[1;31mImportError\u001b[0m: cannot import name simulator"
       ]
      }
     ],
     "prompt_number": 2
    },
    {
     "cell_type": "code",
     "collapsed": false,
     "input": [
      "!ls"
     ],
     "language": "python",
     "metadata": {},
     "outputs": [],
     "prompt_number": 9
    },
    {
     "cell_type": "code",
     "collapsed": false,
     "input": [
      "import neuron as h"
     ],
     "language": "python",
     "metadata": {},
     "outputs": [],
     "prompt_number": 2
    },
    {
     "cell_type": "code",
     "collapsed": false,
     "input": [
      "h.hoc.HocObject."
     ],
     "language": "python",
     "metadata": {},
     "outputs": []
    }
   ],
   "metadata": {}
  }
 ]
}