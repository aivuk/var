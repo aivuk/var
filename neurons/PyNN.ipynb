{
 "metadata": {
  "name": ""
 },
 "nbformat": 3,
 "nbformat_minor": 0,
 "worksheets": [
  {
   "cells": [
    {
     "cell_type": "code",
     "collapsed": false,
     "input": [
      "\"\"\"\n",
      "A single-compartment Hodgkin-Huxley neuron with exponential, conductance-based\n",
      "synapses, fed by two spike sources.\n",
      "\n",
      "Run as:\n",
      "\n",
      "$ python HH_cond_exp.py <simulator>\n",
      "\n",
      "where <simulator> is 'neuron', 'nest', etc\n",
      "\n",
      "Andrew Davison, UNIC, CNRS\n",
      "July 2007\n",
      "\n",
      "\"\"\"\n",
      "\n",
      "from pyNN.utility import get_script_args, normalized_filename\n",
      "from pyNN.neuron import *\n",
      "\n",
      "setup(timestep=0.01, min_delay=0.1, max_delay=4.0, quit_on_end=False)\n",
      "\n",
      "hhcell = create(HH_cond_exp())\n",
      "\n",
      "spike_sourceE = create(SpikeSourceArray(spike_times=[float(i) for i in range(1,100,1)]))\n",
      "spike_sourceI = create(SpikeSourceArray(spike_times=[float(i) for i in range(100,200,11)]))\n",
      "\n",
      "connE = connect(spike_sourceE, hhcell, weight=0.02, receptor_type='excitatory', delay=2.0)\n",
      "connI = connect(spike_sourceI, hhcell, weight=0.01, receptor_type='inhibitory', delay=4.0)\n",
      "\n",
      "filename = normalized_filename(\"Results\", \"HH_cond_exp\", \"pkl\", simulator_name)\n",
      "record(['v', 'gsyn_exc', 'gsyn_inh'], hhcell, filename,\n",
      "       annotations={'script_name': __file__})\n",
      "\n",
      "run(200.0)\n",
      "\n",
      "end()"
     ],
     "language": "python",
     "metadata": {},
     "outputs": [
      {
       "ename": "AttributeError",
       "evalue": "'hoc.HocObject' object has no attribute 'ExpISyn'",
       "output_type": "pyerr",
       "traceback": [
        "\u001b[1;31m---------------------------------------------------------------------------\u001b[0m\n\u001b[1;31mAttributeError\u001b[0m                            Traceback (most recent call last)",
        "\u001b[1;32m<ipython-input-1-c0d615397e3f>\u001b[0m in \u001b[0;36m<module>\u001b[1;34m()\u001b[0m\n\u001b[0;32m     15\u001b[0m \u001b[1;33m\u001b[0m\u001b[0m\n\u001b[0;32m     16\u001b[0m \u001b[1;32mfrom\u001b[0m \u001b[0mpyNN\u001b[0m\u001b[1;33m.\u001b[0m\u001b[0mutility\u001b[0m \u001b[1;32mimport\u001b[0m \u001b[0mget_script_args\u001b[0m\u001b[1;33m,\u001b[0m \u001b[0mnormalized_filename\u001b[0m\u001b[1;33m\u001b[0m\u001b[0m\n\u001b[1;32m---> 17\u001b[1;33m \u001b[1;32mfrom\u001b[0m \u001b[0mpyNN\u001b[0m\u001b[1;33m.\u001b[0m\u001b[0mneuron\u001b[0m \u001b[1;32mimport\u001b[0m \u001b[1;33m*\u001b[0m\u001b[1;33m\u001b[0m\u001b[0m\n\u001b[0m\u001b[0;32m     18\u001b[0m \u001b[1;33m\u001b[0m\u001b[0m\n\u001b[0;32m     19\u001b[0m \u001b[0msetup\u001b[0m\u001b[1;33m(\u001b[0m\u001b[0mtimestep\u001b[0m\u001b[1;33m=\u001b[0m\u001b[1;36m0.01\u001b[0m\u001b[1;33m,\u001b[0m \u001b[0mmin_delay\u001b[0m\u001b[1;33m=\u001b[0m\u001b[1;36m0.1\u001b[0m\u001b[1;33m,\u001b[0m \u001b[0mmax_delay\u001b[0m\u001b[1;33m=\u001b[0m\u001b[1;36m4.0\u001b[0m\u001b[1;33m,\u001b[0m \u001b[0mquit_on_end\u001b[0m\u001b[1;33m=\u001b[0m\u001b[0mFalse\u001b[0m\u001b[1;33m)\u001b[0m\u001b[1;33m\u001b[0m\u001b[0m\n",
        "\u001b[1;32m/home/walrus/.virtualenvs/py/local/lib/python2.7/site-packages/pyNN/neuron/__init__.py\u001b[0m in \u001b[0;36m<module>\u001b[1;34m()\u001b[0m\n\u001b[0;32m     14\u001b[0m \u001b[1;32mfrom\u001b[0m \u001b[0mpyNN\u001b[0m\u001b[1;33m.\u001b[0m\u001b[0mspace\u001b[0m \u001b[1;32mimport\u001b[0m \u001b[0mSpace\u001b[0m\u001b[1;33m\u001b[0m\u001b[0m\n\u001b[0;32m     15\u001b[0m \u001b[1;32mfrom\u001b[0m \u001b[0mpyNN\u001b[0m\u001b[1;33m.\u001b[0m\u001b[0mneuron\u001b[0m \u001b[1;32mimport\u001b[0m \u001b[0msimulator\u001b[0m\u001b[1;33m\u001b[0m\u001b[0m\n\u001b[1;32m---> 16\u001b[1;33m \u001b[1;32mfrom\u001b[0m \u001b[0mpyNN\u001b[0m\u001b[1;33m.\u001b[0m\u001b[0mneuron\u001b[0m\u001b[1;33m.\u001b[0m\u001b[0mstandardmodels\u001b[0m\u001b[1;33m.\u001b[0m\u001b[0mcells\u001b[0m \u001b[1;32mimport\u001b[0m \u001b[1;33m*\u001b[0m\u001b[1;33m\u001b[0m\u001b[0m\n\u001b[0m\u001b[0;32m     17\u001b[0m \u001b[1;32mfrom\u001b[0m \u001b[0mpyNN\u001b[0m\u001b[1;33m.\u001b[0m\u001b[0mneuron\u001b[0m\u001b[1;33m.\u001b[0m\u001b[0mconnectors\u001b[0m \u001b[1;32mimport\u001b[0m \u001b[1;33m*\u001b[0m\u001b[1;33m\u001b[0m\u001b[0m\n\u001b[0;32m     18\u001b[0m \u001b[1;32mfrom\u001b[0m \u001b[0mpyNN\u001b[0m\u001b[1;33m.\u001b[0m\u001b[0mneuron\u001b[0m\u001b[1;33m.\u001b[0m\u001b[0mstandardmodels\u001b[0m\u001b[1;33m.\u001b[0m\u001b[0msynapses\u001b[0m \u001b[1;32mimport\u001b[0m \u001b[1;33m*\u001b[0m\u001b[1;33m\u001b[0m\u001b[0m\n",
        "\u001b[1;32m/home/walrus/.virtualenvs/py/local/lib/python2.7/site-packages/pyNN/neuron/standardmodels/cells.py\u001b[0m in \u001b[0;36m<module>\u001b[1;34m()\u001b[0m\n\u001b[0;32m      9\u001b[0m \u001b[1;33m\u001b[0m\u001b[0m\n\u001b[0;32m     10\u001b[0m \u001b[1;32mfrom\u001b[0m \u001b[0mpyNN\u001b[0m\u001b[1;33m.\u001b[0m\u001b[0mstandardmodels\u001b[0m \u001b[1;32mimport\u001b[0m \u001b[0mcells\u001b[0m \u001b[1;32mas\u001b[0m \u001b[0mbase_cells\u001b[0m\u001b[1;33m,\u001b[0m \u001b[0mbuild_translations\u001b[0m\u001b[1;33m\u001b[0m\u001b[0m\n\u001b[1;32m---> 11\u001b[1;33m from pyNN.neuron.cells import (StandardIF, SingleCompartmentTraub,\n\u001b[0m\u001b[0;32m     12\u001b[0m                                \u001b[0mRandomSpikeSource\u001b[0m\u001b[1;33m,\u001b[0m \u001b[0mVectorSpikeSource\u001b[0m\u001b[1;33m,\u001b[0m\u001b[1;33m\u001b[0m\u001b[0m\n\u001b[0;32m     13\u001b[0m                                BretteGerstnerIF, GsfaGrrIF, Izhikevich_)\n",
        "\u001b[1;32m/home/walrus/.virtualenvs/py/local/lib/python2.7/site-packages/pyNN/neuron/cells.py\u001b[0m in \u001b[0;36m<module>\u001b[1;34m()\u001b[0m\n\u001b[0;32m     43\u001b[0m \u001b[1;33m\u001b[0m\u001b[0m\n\u001b[0;32m     44\u001b[0m \u001b[1;33m\u001b[0m\u001b[0m\n\u001b[1;32m---> 45\u001b[1;33m \u001b[1;32mclass\u001b[0m \u001b[0mSingleCompartmentNeuron\u001b[0m\u001b[1;33m(\u001b[0m\u001b[0mnrn\u001b[0m\u001b[1;33m.\u001b[0m\u001b[0mSection\u001b[0m\u001b[1;33m)\u001b[0m\u001b[1;33m:\u001b[0m\u001b[1;33m\u001b[0m\u001b[0m\n\u001b[0m\u001b[0;32m     46\u001b[0m     \u001b[1;34m\"\"\"docstring\"\"\"\u001b[0m\u001b[1;33m\u001b[0m\u001b[0m\n\u001b[0;32m     47\u001b[0m \u001b[1;33m\u001b[0m\u001b[0m\n",
        "\u001b[1;32m/home/walrus/.virtualenvs/py/local/lib/python2.7/site-packages/pyNN/neuron/cells.py\u001b[0m in \u001b[0;36mSingleCompartmentNeuron\u001b[1;34m()\u001b[0m\n\u001b[0;32m     47\u001b[0m \u001b[1;33m\u001b[0m\u001b[0m\n\u001b[0;32m     48\u001b[0m     synapse_models = {\n\u001b[1;32m---> 49\u001b[1;33m         \u001b[1;34m'current'\u001b[0m\u001b[1;33m:\u001b[0m      \u001b[1;33m{\u001b[0m \u001b[1;34m'exp'\u001b[0m\u001b[1;33m:\u001b[0m \u001b[0mh\u001b[0m\u001b[1;33m.\u001b[0m\u001b[0mExpISyn\u001b[0m\u001b[1;33m,\u001b[0m \u001b[1;34m'alpha'\u001b[0m\u001b[1;33m:\u001b[0m \u001b[0mh\u001b[0m\u001b[1;33m.\u001b[0m\u001b[0mAlphaISyn\u001b[0m \u001b[1;33m}\u001b[0m\u001b[1;33m,\u001b[0m\u001b[1;33m\u001b[0m\u001b[0m\n\u001b[0m\u001b[0;32m     50\u001b[0m         \u001b[1;34m'conductance'\u001b[0m \u001b[1;33m:\u001b[0m \u001b[1;33m{\u001b[0m \u001b[1;34m'exp'\u001b[0m\u001b[1;33m:\u001b[0m \u001b[0mh\u001b[0m\u001b[1;33m.\u001b[0m\u001b[0mExpSyn\u001b[0m\u001b[1;33m,\u001b[0m  \u001b[1;34m'alpha'\u001b[0m\u001b[1;33m:\u001b[0m \u001b[0mh\u001b[0m\u001b[1;33m.\u001b[0m\u001b[0mAlphaSyn\u001b[0m \u001b[1;33m}\u001b[0m\u001b[1;33m,\u001b[0m\u001b[1;33m\u001b[0m\u001b[0m\n\u001b[0;32m     51\u001b[0m     }\n",
        "\u001b[1;31mAttributeError\u001b[0m: 'hoc.HocObject' object has no attribute 'ExpISyn'"
       ]
      }
     ],
     "prompt_number": 1
    },
    {
     "cell_type": "code",
     "collapsed": false,
     "input": [
      "import pyNN\n"
     ],
     "language": "python",
     "metadata": {},
     "outputs": [],
     "prompt_number": 2
    },
    {
     "cell_type": "code",
     "collapsed": false,
     "input": [
      "from pyNN.neuron import simulator"
     ],
     "language": "python",
     "metadata": {},
     "outputs": [
      {
       "ename": "ImportError",
       "evalue": "cannot import name simulator",
       "output_type": "pyerr",
       "traceback": [
        "\u001b[1;31m---------------------------------------------------------------------------\u001b[0m\n\u001b[1;31mImportError\u001b[0m                               Traceback (most recent call last)",
        "\u001b[1;32m<ipython-input-3-47698f8cc50d>\u001b[0m in \u001b[0;36m<module>\u001b[1;34m()\u001b[0m\n\u001b[1;32m----> 1\u001b[1;33m \u001b[1;32mfrom\u001b[0m \u001b[0mpyNN\u001b[0m\u001b[1;33m.\u001b[0m\u001b[0mneuron\u001b[0m \u001b[1;32mimport\u001b[0m \u001b[0msimulator\u001b[0m\u001b[1;33m\u001b[0m\u001b[0m\n\u001b[0m",
        "\u001b[1;32m/home/walrus/.virtualenvs/py/local/lib/python2.7/site-packages/pyNN/neuron/__init__.py\u001b[0m in \u001b[0;36m<module>\u001b[1;34m()\u001b[0m\n\u001b[0;32m     13\u001b[0m \u001b[1;32mfrom\u001b[0m \u001b[0mpyNN\u001b[0m\u001b[1;33m.\u001b[0m\u001b[0mrecording\u001b[0m \u001b[1;32mimport\u001b[0m \u001b[0mget_io\u001b[0m\u001b[1;33m\u001b[0m\u001b[0m\n\u001b[0;32m     14\u001b[0m \u001b[1;32mfrom\u001b[0m \u001b[0mpyNN\u001b[0m\u001b[1;33m.\u001b[0m\u001b[0mspace\u001b[0m \u001b[1;32mimport\u001b[0m \u001b[0mSpace\u001b[0m\u001b[1;33m\u001b[0m\u001b[0m\n\u001b[1;32m---> 15\u001b[1;33m \u001b[1;32mfrom\u001b[0m \u001b[0mpyNN\u001b[0m\u001b[1;33m.\u001b[0m\u001b[0mneuron\u001b[0m \u001b[1;32mimport\u001b[0m \u001b[0msimulator\u001b[0m\u001b[1;33m\u001b[0m\u001b[0m\n\u001b[0m\u001b[0;32m     16\u001b[0m \u001b[1;32mfrom\u001b[0m \u001b[0mpyNN\u001b[0m\u001b[1;33m.\u001b[0m\u001b[0mneuron\u001b[0m\u001b[1;33m.\u001b[0m\u001b[0mstandardmodels\u001b[0m\u001b[1;33m.\u001b[0m\u001b[0mcells\u001b[0m \u001b[1;32mimport\u001b[0m \u001b[1;33m*\u001b[0m\u001b[1;33m\u001b[0m\u001b[0m\n\u001b[0;32m     17\u001b[0m \u001b[1;32mfrom\u001b[0m \u001b[0mpyNN\u001b[0m\u001b[1;33m.\u001b[0m\u001b[0mneuron\u001b[0m\u001b[1;33m.\u001b[0m\u001b[0mconnectors\u001b[0m \u001b[1;32mimport\u001b[0m \u001b[1;33m*\u001b[0m\u001b[1;33m\u001b[0m\u001b[0m\n",
        "\u001b[1;31mImportError\u001b[0m: cannot import name simulator"
       ]
      }
     ],
     "prompt_number": 3
    },
    {
     "cell_type": "code",
     "collapsed": false,
     "input": [
      "import pyNN.neuron"
     ],
     "language": "python",
     "metadata": {},
     "outputs": [
      {
       "ename": "ImportError",
       "evalue": "cannot import name simulator",
       "output_type": "pyerr",
       "traceback": [
        "\u001b[1;31m---------------------------------------------------------------------------\u001b[0m\n\u001b[1;31mImportError\u001b[0m                               Traceback (most recent call last)",
        "\u001b[1;32m<ipython-input-4-21d32da57f96>\u001b[0m in \u001b[0;36m<module>\u001b[1;34m()\u001b[0m\n\u001b[1;32m----> 1\u001b[1;33m \u001b[1;32mimport\u001b[0m \u001b[0mpyNN\u001b[0m\u001b[1;33m.\u001b[0m\u001b[0mneuron\u001b[0m\u001b[1;33m\u001b[0m\u001b[0m\n\u001b[0m",
        "\u001b[1;32m/home/walrus/.virtualenvs/py/local/lib/python2.7/site-packages/pyNN/neuron/__init__.py\u001b[0m in \u001b[0;36m<module>\u001b[1;34m()\u001b[0m\n\u001b[0;32m     13\u001b[0m \u001b[1;32mfrom\u001b[0m \u001b[0mpyNN\u001b[0m\u001b[1;33m.\u001b[0m\u001b[0mrecording\u001b[0m \u001b[1;32mimport\u001b[0m \u001b[0mget_io\u001b[0m\u001b[1;33m\u001b[0m\u001b[0m\n\u001b[0;32m     14\u001b[0m \u001b[1;32mfrom\u001b[0m \u001b[0mpyNN\u001b[0m\u001b[1;33m.\u001b[0m\u001b[0mspace\u001b[0m \u001b[1;32mimport\u001b[0m \u001b[0mSpace\u001b[0m\u001b[1;33m\u001b[0m\u001b[0m\n\u001b[1;32m---> 15\u001b[1;33m \u001b[1;32mfrom\u001b[0m \u001b[0mpyNN\u001b[0m\u001b[1;33m.\u001b[0m\u001b[0mneuron\u001b[0m \u001b[1;32mimport\u001b[0m \u001b[0msimulator\u001b[0m\u001b[1;33m\u001b[0m\u001b[0m\n\u001b[0m\u001b[0;32m     16\u001b[0m \u001b[1;32mfrom\u001b[0m \u001b[0mpyNN\u001b[0m\u001b[1;33m.\u001b[0m\u001b[0mneuron\u001b[0m\u001b[1;33m.\u001b[0m\u001b[0mstandardmodels\u001b[0m\u001b[1;33m.\u001b[0m\u001b[0mcells\u001b[0m \u001b[1;32mimport\u001b[0m \u001b[1;33m*\u001b[0m\u001b[1;33m\u001b[0m\u001b[0m\n\u001b[0;32m     17\u001b[0m \u001b[1;32mfrom\u001b[0m \u001b[0mpyNN\u001b[0m\u001b[1;33m.\u001b[0m\u001b[0mneuron\u001b[0m\u001b[1;33m.\u001b[0m\u001b[0mconnectors\u001b[0m \u001b[1;32mimport\u001b[0m \u001b[1;33m*\u001b[0m\u001b[1;33m\u001b[0m\u001b[0m\n",
        "\u001b[1;31mImportError\u001b[0m: cannot import name simulator"
       ]
      }
     ],
     "prompt_number": 4
    },
    {
     "cell_type": "code",
     "collapsed": false,
     "input": [
      "import pyNN"
     ],
     "language": "python",
     "metadata": {},
     "outputs": [],
     "prompt_number": 10
    },
    {
     "cell_type": "code",
     "collapsed": false,
     "input": [
      "pyNN."
     ],
     "language": "python",
     "metadata": {},
     "outputs": []
    }
   ],
   "metadata": {}
  }
 ]
}