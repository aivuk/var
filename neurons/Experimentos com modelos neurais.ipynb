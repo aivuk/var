{
 "metadata": {
  "name": ""
 },
 "nbformat": 3,
 "nbformat_minor": 0,
 "worksheets": [
  {
   "cells": [
    {
     "cell_type": "heading",
     "level": 1,
     "metadata": {},
     "source": [
      "Preliminares"
     ]
    },
    {
     "cell_type": "markdown",
     "metadata": {},
     "source": [
      "Vamos inicialmente definir algumas fun\u00e7\u00f5es que iremos utilizar ao longo de nossos experimentos e importar as bibliotecas numpy e scipy do Python."
     ]
    },
    {
     "cell_type": "code",
     "collapsed": false,
     "input": [
      "import numpy as np\n",
      "from scipy.integrate import ode"
     ],
     "language": "python",
     "metadata": {},
     "outputs": [],
     "prompt_number": 2
    },
    {
     "cell_type": "markdown",
     "metadata": {},
     "source": [
      "Queremos analisar a resposta de um neur\u00f4nio em termos de seu potencial eltrico com um modelo passivo. Neste caso, aplicando a primeira lei de Kirchoff a um circuito el\u00e9trico com comportamento aproximado a de um neur\u00f4nio, teremos:\n",
      "\n",
      "$\\tau \\frac{dV_m}{dt} = -(1 + Rg_{syn}(t))V_m + Rg_{syn}(t)E_{syn} +V_{rest}$\n",
      "\n",
      "onde $V_m$ \u00e9 o potencial do neur\u00f4nio, $V_{rest}$ o potencial de repouso dele, ou seja, o potencial onde n\u00e3o existe fluxo de \u00edons na membrana celular, $R$ a resist\u00eancia el\u00e9trica entre o interior do neur\u00f4nio e seu exterior, ...\n",
      "\n",
      "Primeiramente iremos analisar a resposta do neur\u00f4nio \u00e0 uma inje\u00e7\u00e3o de corrente de curta dura\u00e7\u00e3o modelada pela fun\u00e7\u00e3o:\n",
      "\n",
      "$g_{syn}(t) = const\\times te^{-t/t_{peak}}$\n",
      "\n",
      "Que pode ser facilmente representada computacionalmente pela fun\u00e7\u00e3o em Python:"
     ]
    },
    {
     "cell_type": "code",
     "collapsed": false,
     "input": [
      "def g_syn(t):\n",
      "    g_m = 5.43\n",
      "    t_pico = 0.5\n",
      "    return g_m*t*np.exp(-t/t_pico)"
     ],
     "language": "python",
     "metadata": {},
     "outputs": [],
     "prompt_number": 3
    },
    {
     "cell_type": "markdown",
     "metadata": {},
     "source": [
      "Vamos analisar o gr\u00e1fico dessa fun\u00e7\u00e3o no intervalo de tempo de 0 \u00e0 40:"
     ]
    },
    {
     "cell_type": "code",
     "collapsed": false,
     "input": [
      "t = np.arange(0, 40, 0.1)\n",
      "plot(t, map(g_syn,t))"
     ],
     "language": "python",
     "metadata": {},
     "outputs": [
      {
       "metadata": {},
       "output_type": "pyout",
       "prompt_number": 4,
       "text": [
        "[<matplotlib.lines.Line2D at 0x4607050>]"
       ]
      },
      {
       "metadata": {},
       "output_type": "display_data",
       "png": "[encoded data removed]",
       "text": [
        "<matplotlib.figure.Figure at 0x45ecc50>"
       ]
      }
     ],
     "prompt_number": 4
    },
    {
     "cell_type": "markdown",
     "metadata": {},
     "source": [
      "Posteriormente queremos analisar a resposta do mesmo modelo neural a uma sequ\u00eancia temporal de inje\u00e7\u00f5es de corrente. Para isso criaremos uma fun\u00e7\u00e3o que dado uma corrente representada pela fun\u00e7\u00e3o $g$, uma lista $list_t$ de intervalos de tempo representados como $[t_0, t_1 ... t_n]$, retornar\u00e1 uma nova fun\u00e7\u00e3o onde a fun\u00e7\u00e3o $g$ \u00e9 repetida nesses intervalos."
     ]
    },
    {
     "cell_type": "code",
     "collapsed": false,
     "input": [
      "def repeat_g(g, list_t):\n",
      "    def g_sum(t):\n",
      "        t0 = list_t[0]\n",
      "        for ti in list_t[1:]:\n",
      "            if t >= t0 and t < ti:\n",
      "                return g(t - t0)\n",
      "            t0 = ti\n",
      "        return g(t-list_t[-1])\n",
      "    return g_sum"
     ],
     "language": "python",
     "metadata": {},
     "outputs": [],
     "prompt_number": 5
    },
    {
     "cell_type": "markdown",
     "metadata": {},
     "source": [
      "Vamos agora fazer um simples teste da nossa fun\u00e7\u00e3o $repeat_g$ aplicada a fun\u00e7\u00e3o $g_{syn}$ que criamos anteriormente:"
     ]
    },
    {
     "cell_type": "code",
     "collapsed": false,
     "input": [
      "g_sum = repeat_g(g_syn, [0,2,4,6])"
     ],
     "language": "python",
     "metadata": {},
     "outputs": [],
     "prompt_number": 6
    },
    {
     "cell_type": "code",
     "collapsed": false,
     "input": [
      "t = np.arange(0, 40, 0.1)\n",
      "\n",
      "plot(t, map(g_sum,t))"
     ],
     "language": "python",
     "metadata": {},
     "outputs": [
      {
       "metadata": {},
       "output_type": "pyout",
       "prompt_number": 7,
       "text": [
        "[<matplotlib.lines.Line2D at 0x46721d0>]"
       ]
      },
      {
       "metadata": {},
       "output_type": "display_data",
       "png": "[encoded data removed]",
       "text": [
        "<matplotlib.figure.Figure at 0x45ecad0>"
       ]
      }
     ],
     "prompt_number": 7
    },
    {
     "cell_type": "markdown",
     "metadata": {},
     "source": [
      "Que funciona de acordo com o esperado. Agora para simular o neur\u00f4nio iremos definir o modelo:\n",
      "\n",
      "$\\tau \\frac{dV_m}{dt} = -(1 + Rg_{syn}(t))V_m + Rg_{syn}(t)E_{syn} +V_{rest}$\n",
      "\n",
      "como uma fun\u00e7\u00e3o da $f(t, v)$ para usarmos um dos integradores num\u00e9ricos da biblioteca scipy que integra a equa\u00e7\u00e3o:\n",
      "\n",
      "$\\frac{dy}{dt} = f(t,v)$"
     ]
    },
    {
     "cell_type": "code",
     "collapsed": false,
     "input": [
      "def func2(t, v, tau, v_rest, e_sym, r):\n",
      "    return (-(1 + r*g_sum(t))*v + r*g_sum(t)*e_sym + v_rest)/tau"
     ],
     "language": "python",
     "metadata": {},
     "outputs": [],
     "prompt_number": 252
    },
    {
     "cell_type": "markdown",
     "metadata": {},
     "source": [
      "Note que a fun\u00e7\u00e3o $func2$ recebe tamb\u00e9m como argumento os par\u00e2metros $\\tau$, $V_{rest}$, $E_{syn}$ e $R$. Esses par\u00e2metros s\u00e3o constantes pra designar diferentes tipos de neur\u00f4nios e ser\u00e3o passados antes da integra\u00e7\u00e3o num\u00e9rica de facto.\n",
      "E criaremos tamb\u00e9m a fun\u00e7\u00e3o integrate que receber\u00e1 essa fun\u00e7\u00e3o e integrar\u00e1 atrav\u00e9s do m\u00e9todo runge-kutta de ordem 5:"
     ]
    },
    {
     "cell_type": "code",
     "collapsed": false,
     "input": [
      "def integrate(func, v0, t0, tf, dt, *params):\n",
      "    r = ode(func).set_integrator('dopri5')\n",
      "    r.set_initial_value(v0, t0).set_f_params(*params)\n",
      "\n",
      "    series = []\n",
      "    while r.successful() and r.t < tf:\n",
      "        r.integrate(r.t + dt)\n",
      "        series.append(r.y)\n",
      "\n",
      "    return np.array(series)"
     ],
     "language": "python",
     "metadata": {},
     "outputs": [],
     "prompt_number": 6
    },
    {
     "cell_type": "heading",
     "level": 2,
     "metadata": {},
     "source": [
      "Soma\u00e7\u00e3o temporal"
     ]
    },
    {
     "cell_type": "code",
     "collapsed": false,
     "input": [
      "v0 = -80\n",
      "t0 = 0\n",
      "tf = 40\n",
      "dt = 0.1\n",
      "tau = 10\n",
      "v_rest = -80\n",
      "r = 100\n",
      "\n",
      "out1 = integrate(func2, v0, t0, tf, dt, tau, v_rest, 0, r)\n",
      "out2 = integrate(func2, v0, t0, tf, dt, tau, v_rest, -60, r)\n",
      "out3 = integrate(func2, v0, t0, tf, dt, tau, v_rest, -100, r)"
     ],
     "language": "python",
     "metadata": {},
     "outputs": [],
     "prompt_number": 324
    },
    {
     "cell_type": "code",
     "collapsed": false,
     "input": [
      "t = np.arange(0, 40, 0.1)\n",
      "plot(out1)\n",
      "plot(out2)\n",
      "plot(out3)\n",
      "hlines(0,0, 400, linestyles='dashed')\n",
      "#ylim([-1.5,1.5])\n",
      "xlim([0,400])"
     ],
     "language": "python",
     "metadata": {},
     "outputs": [
      {
       "metadata": {},
       "output_type": "pyout",
       "prompt_number": 325,
       "text": [
        "(0, 400)"
       ]
      },
      {
       "metadata": {},
       "output_type": "display_data",
       "png": "[encoded data removed]",
       "text": [
        "<matplotlib.figure.Figure at 0xe415610>"
       ]
      }
     ],
     "prompt_number": 325
    },
    {
     "cell_type": "markdown",
     "metadata": {},
     "source": [
      "$\\tau \\frac{dV_m}{dt} = \\sum\\limits_{i=0}^{n} g_{syn,i}(t)(E_{syn,i} - V_m)+\\frac{V_{rest}-V_m}{R}$"
     ]
    },
    {
     "cell_type": "code",
     "collapsed": false,
     "input": [
      "def makeFunc(gs):\n",
      "    def f(t, v, tau, v_rest, r):\n",
      "        return (r*np.sum(map(lambda g: g[0](t)*(g[1] - v), gs)) + v_rest - v)/tau\n",
      "    return f"
     ],
     "language": "python",
     "metadata": {},
     "outputs": [],
     "prompt_number": 4
    },
    {
     "cell_type": "heading",
     "level": 2,
     "metadata": {},
     "source": [
      "N\u00e3o linearidade na soma das respostas de duas sinapses"
     ]
    },
    {
     "cell_type": "code",
     "collapsed": false,
     "input": [
      "v0 = -80\n",
      "t0 = 0\n",
      "tf = 40\n",
      "dt = 0.1\n",
      "tau = 10\n",
      "v_rest = -70\n",
      "r = 100"
     ],
     "language": "python",
     "metadata": {},
     "outputs": [],
     "prompt_number": 11
    },
    {
     "cell_type": "markdown",
     "metadata": {},
     "source": [
      "Vamos criar uma fun\u00e7\u00e3o $fs$ que ser\u00e1 igual a soma de duas sinapses, uma com potencial de revers\u00e3o $-5mV$ e outra com potencial de revers\u00e3o $-80mV$"
     ]
    },
    {
     "cell_type": "code",
     "collapsed": false,
     "input": [
      "fs = makeFunc([(g_syn, -5), (g_syn, -80)])\n",
      "f1 = makeFunc([(g_syn, -5)])\n",
      "f2 = makeFunc([(g_syn, -80)])\n",
      "\n",
      "out1 = integrate(fs, v0, t0, tf, dt, tau, v_rest, r)\n",
      "out2 = integrate(f1, v0, t0, tf, dt, tau, v_rest, r)\n",
      "out3 = integrate(f2, v0, t0, tf, dt, tau, v_rest, r)"
     ],
     "language": "python",
     "metadata": {},
     "outputs": [],
     "prompt_number": 12
    },
    {
     "cell_type": "code",
     "collapsed": false,
     "input": [
      "plot(out1)\n",
      "plot(out2)\n",
      "plot(out3)\n",
      "plot(out2+out3)"
     ],
     "language": "python",
     "metadata": {},
     "outputs": [
      {
       "metadata": {},
       "output_type": "pyout",
       "prompt_number": 17,
       "text": [
        "[<matplotlib.lines.Line2D at 0x457bb50>]"
       ]
      },
      {
       "metadata": {},
       "output_type": "display_data",
       "png": "[encoded data removed]",
       "text": [
        "<matplotlib.figure.Figure at 0x3d9a7d0>"
       ]
      }
     ],
     "prompt_number": 17
    },
    {
     "cell_type": "markdown",
     "metadata": {},
     "source": [
      "A linha mais abaixo representa a resposta que o neur\u00f4nio teria caso sua resposta fosse linear em rela\u00e7\u00e3o as entradas sin\u00e1pticas. Claramente esta linha \u00e9 diferente da resposta real esperado representado no gr\u00e1fico acima pela linha verde."
     ]
    },
    {
     "cell_type": "heading",
     "level": 2,
     "metadata": {},
     "source": [
      "Shunting inhibition"
     ]
    },
    {
     "cell_type": "code",
     "collapsed": false,
     "input": [
      "v0 = -80\n",
      "t0 = 0\n",
      "tf = 40\n",
      "dt = 0.1\n",
      "tau = 10\n",
      "v_rest = -80\n",
      "r = 100\n",
      "\n",
      "fs = func3([(g_syn, -5), (g_syn, -80)])\n",
      "f1 = func3([(g_syn, -5)])\n",
      "f2 = func3([(g_syn, -80)])\n",
      "\n",
      "out1 = integrate(fs, v0, t0, tf, dt, tau, v_rest, r)\n",
      "out2 = integrate(f1, v0, t0, tf, dt, tau, v_rest, r)\n",
      "out3 = integrate(f2, v0, t0, tf, dt, tau, v_rest, r)"
     ],
     "language": "python",
     "metadata": {},
     "outputs": [],
     "prompt_number": 395
    },
    {
     "cell_type": "code",
     "collapsed": false,
     "input": [
      "plot(out1)\n",
      "plot(out2)\n",
      "plot(out3)"
     ],
     "language": "python",
     "metadata": {},
     "outputs": [
      {
       "metadata": {},
       "output_type": "pyout",
       "prompt_number": 396,
       "text": [
        "[<matplotlib.lines.Line2D at 0x120b9d10>]"
       ]
      },
      {
       "metadata": {},
       "output_type": "display_data",
       "png": "[encoded data removed]",
       "text": [
        "<matplotlib.figure.Figure at 0x113ed850>"
       ]
      }
     ],
     "prompt_number": 396
    }
   ],
   "metadata": {}
  }
 ]
}