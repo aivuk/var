{
 "cells": [
  {
   "cell_type": "code",
   "execution_count": 4,
   "metadata": {
    "collapsed": true
   },
   "outputs": [],
   "source": [
    "import pandas as pd"
   ]
  },
  {
   "cell_type": "markdown",
   "metadata": {},
   "source": [
    "# Load the CSV"
   ]
  },
  {
   "cell_type": "code",
   "execution_count": 5,
   "metadata": {
    "collapsed": true
   },
   "outputs": [],
   "source": [
    "d = pd.read_csv('./Haushalt_Moers.csv', sep=';', encoding='iso8859-1')"
   ]
  },
  {
   "cell_type": "code",
   "execution_count": 7,
   "metadata": {
    "collapsed": true
   },
   "outputs": [],
   "source": [
    "# Dictionary for the HH Art\n",
    "\n",
    "dt = {\n",
    "1 : 'Erträge',\n",
    "2 : 'Aufwendungen',\n",
    "3 : 'Finanzergebnis',\n",
    "4 : 'Erträge (interne Leistungsbeziehungen)',\n",
    "5 : 'Aufwendungen (interne Leistungsbeziehungen)',\n",
    "0 : ''\n",
    "}"
   ]
  },
  {
   "cell_type": "markdown",
   "metadata": {},
   "source": [
    "# Use the dictionary above to update the column 'HH Art'"
   ]
  },
  {
   "cell_type": "code",
   "execution_count": 10,
   "metadata": {
    "collapsed": true
   },
   "outputs": [],
   "source": [
    "da = d['Art']\n",
    "# Put 0 on NA (Not a Number)\n",
    "da = da.fillna(0)\n",
    "# Update the column HH Art using the dict 'dt'\n",
    "d['HH Art'] = [dt[i] for i in da.values]\n",
    "\n",
    "# Save it\n",
    "d.to_csv('Haushalt_Moers-new.csv')"
   ]
  }
 ],
 "metadata": {
  "kernelspec": {
   "display_name": "Python 3",
   "language": "python",
   "name": "python3"
  },
  "language_info": {
   "codemirror_mode": {
    "name": "ipython",
    "version": 3
   },
   "file_extension": ".py",
   "mimetype": "text/x-python",
   "name": "python",
   "nbconvert_exporter": "python",
   "pygments_lexer": "ipython3",
   "version": "3.6.1"
  }
 },
 "nbformat": 4,
 "nbformat_minor": 2
}
