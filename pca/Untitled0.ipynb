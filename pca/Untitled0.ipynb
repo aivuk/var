{
 "metadata": {
  "name": "",
  "signature": "sha256:d75a95182a3b6a74dd9ee665f3e07f9f7e4e5be998108e847d7baef6193376cb"
 },
 "nbformat": 3,
 "nbformat_minor": 0,
 "worksheets": [
  {
   "cells": [
    {
     "cell_type": "code",
     "collapsed": false,
     "input": [
      "%pylab inline\n",
      "import numpy as np"
     ],
     "language": "python",
     "metadata": {},
     "outputs": [
      {
       "output_type": "stream",
       "stream": "stdout",
       "text": [
        "Populating the interactive namespace from numpy and matplotlib\n"
       ]
      }
     ],
     "prompt_number": 2
    },
    {
     "cell_type": "heading",
     "level": 1,
     "metadata": {},
     "source": [
      "Fun\u00e7\u00e3o para criar conjun\u00e7\u00f5es aleat\u00f3rias"
     ]
    },
    {
     "cell_type": "markdown",
     "metadata": {},
     "source": [
      "A fun\u00e7\u00e3o `make_conjunction` abaixo consegue criar conjun\u00e7\u00f5es com $k$ vari\u00e1veis de um espa\u00e7o de $n$ vari\u00e1veis:"
     ]
    },
    {
     "cell_type": "code",
     "collapsed": false,
     "input": [
      "def make_conjunction(n=6, k=4):\n",
      "    rand_vars = np.random.choice(range(n), k, replace=False)\n",
      "    neg_number = np.random.randint(k)\n",
      "\n",
      "    def conj(vec):\n",
      "        return all(map(lambda i: not vec[i], rand_vars[:neg_number]) + map(lambda i: vec[i], rand_vars[neg_number:]))\n",
      "\n",
      "    def show():\n",
      "        sn = ' \u2227 '.join(['~X[{}]'.format(i) for i in rand_vars[:neg_number]])\n",
      "        s = ' \u2227 '.join(['X[{}]'.format(i) for i in rand_vars[neg_number:]])\n",
      "        \n",
      "        return sn + ' \u2227 ' + s if len(sn) > 1 else s\n",
      "    \n",
      "    conj.neg_number = neg_number\n",
      "    conj.rand_vars = rand_vars\n",
      "    conj.show = show\n",
      "    \n",
      "    return conj"
     ],
     "language": "python",
     "metadata": {},
     "outputs": [],
     "prompt_number": 4
    },
    {
     "cell_type": "code",
     "collapsed": false,
     "input": [
      "c = make_conjunction(n=25, k=4)"
     ],
     "language": "python",
     "metadata": {},
     "outputs": [],
     "prompt_number": 5
    },
    {
     "cell_type": "markdown",
     "metadata": {},
     "source": [
      "O m\u00e9todo `.show` \u00e9 utilizado para imprimir de forma textual qual conjun\u00e7\u00e3o foi criada:"
     ]
    },
    {
     "cell_type": "code",
     "collapsed": false,
     "input": [
      "print c.show()"
     ],
     "language": "python",
     "metadata": {},
     "outputs": [
      {
       "output_type": "stream",
       "stream": "stdout",
       "text": [
        "X[2] \u2227 X[3] \u2227 X[12] \u2227 X[16]\n"
       ]
      }
     ],
     "prompt_number": 6
    },
    {
     "cell_type": "heading",
     "level": 1,
     "metadata": {},
     "source": [
      "Gerando uma hip\u00f3tese"
     ]
    },
    {
     "cell_type": "markdown",
     "metadata": {},
     "source": [
      "O c\u00f3digo a seguir foi o criado para a lista de exerc\u00edcios. Ele consiste da fun\u00e7\u00e3o `create_h` que \u00e9 utilizado para criar uma hip\u00f3tese dado um conjunto de exemplos."
     ]
    },
    {
     "cell_type": "code",
     "collapsed": false,
     "input": [
      "from operator import and_\n",
      "\n",
      "def calc_U(ex, U):\n",
      "    for i in range(len(ex)):\n",
      "        if ex[i]:\n",
      "            if 2*i + 1 in U:\n",
      "                U.remove(2*i + 1)\n",
      "        else:\n",
      "            if 2*i in U:\n",
      "                U.remove(2*i)\n",
      "    return U\n",
      "\n",
      "def create_h(examples):\n",
      "    U = set(range(2*len(examples[0][0])))\n",
      "    for ex, kind in examples:\n",
      "        if kind == True:\n",
      "            U = calc_U(ex, U)\n",
      "    return (U, lambda x: reduce(and_, [x[u/2] if u % 2 == 0 else not x[u/2] for u in U]))\n"
     ],
     "language": "python",
     "metadata": {},
     "outputs": [],
     "prompt_number": 279
    },
    {
     "cell_type": "heading",
     "level": 1,
     "metadata": {},
     "source": [
      "Criando exemplos positivos aleat\u00f3rios"
     ]
    },
    {
     "cell_type": "code",
     "collapsed": false,
     "input": [
      "num_examples = 100\n",
      "examples = []\n",
      "num_total_vars = 15\n",
      "num_conj_vars = 5\n",
      "conj = make_conjunction(n=num_total_vars, k=num_conj_vars)\n",
      "\n",
      "\n",
      "def create_examples(conj, num_examples, positive=True):\n",
      "    examples = []\n",
      "    for _ in range(num_examples):\n",
      "        ex = np.random.choice([True, False], num_total_vars)\n",
      "        if positive:\n",
      "            ex[conj.rand_vars[:conj.neg_number]] = False\n",
      "            ex[conj.rand_vars[conj.neg_number:]] = True\n",
      "        examples += [(ex, conj(ex))]\n",
      "    return examples"
     ],
     "language": "python",
     "metadata": {},
     "outputs": [],
     "prompt_number": 231
    },
    {
     "cell_type": "code",
     "collapsed": false,
     "input": [
      "num_examples_positives = 5\n",
      "num_examples = 100\n",
      "num_total_vars = 30\n",
      "num_conj_vars = 5\n",
      "conj = make_conjunction(n=num_total_vars, k=num_conj_vars)\n",
      "\n",
      "examples_positives = create_examples(conj, num_examples_positives)\n",
      "examples = create_examples(conj, num_examples)\n",
      "\n",
      "errors = []\n",
      "for i in range(1,100):\n",
      "    h = create_h(examples_positives[:i])\n",
      "    print h[0]\n",
      "    errors += [([ex[1] == h[1](ex[0]) for ex in examples].count(False))/float(len(examples))]"
     ],
     "language": "python",
     "metadata": {},
     "outputs": [
      {
       "output_type": "stream",
       "stream": "stdout",
       "text": [
        "set([0, 2, 4, 6, 8, 11, 12, 15, 16, 19, 21, 23, 24, 26, 28, 31, 33, 35, 36, 38, 41, 42, 45, 46, 49, 51, 52, 55, 56, 58])\n",
        "set([4, 6, 11, 15, 16, 19, 21, 23, 24, 35, 36, 38, 49, 51, 55, 56])\n",
        "set([6, 16, 19, 23, 35, 36, 49, 51])\n",
        "set([6, 16, 19, 23, 35, 36, 49, 51])\n",
        "set([6, 16, 19, 23, 35, 36, 51])\n",
        "set([6, 16, 19, 23, 35, 36, 51])\n",
        "set([6, 16, 19, 23, 35, 36, 51])\n",
        "set([6, 16, 19, 23, 35, 36, 51])\n",
        "set([6, 16, 19, 23, 35, 36, 51])\n",
        "set([6, 16, 19, 23, 35, 36, 51])\n",
        "set([6, 16, 19, 23, 35, 36, 51])\n",
        "set([6, 16, 19, 23, 35, 36, 51])\n",
        "set([6, 16, 19, 23, 35, 36, 51])\n",
        "set([6, 16, 19, 23, 35, 36, 51])\n",
        "set([6, 16, 19, 23, 35, 36, 51])\n",
        "set([6, 16, 19, 23, 35, 36, 51])\n",
        "set([6, 16, 19, 23, 35, 36, 51])\n",
        "set([6, 16, 19, 23, 35, 36, 51])"
       ]
      },
      {
       "output_type": "stream",
       "stream": "stdout",
       "text": [
        "\n",
        "set([6, 16, 19, 23, 35, 36, 51])\n",
        "set([6, 16, 19, 23, 35, 36, 51])\n",
        "set([6, 16, 19, 23, 35, 36, 51])\n",
        "set([6, 16, 19, 23, 35, 36, 51])\n",
        "set([6, 16, 19, 23, 35, 36, 51])\n",
        "set([6, 16, 19, 23, 35, 36, 51])\n",
        "set([6, 16, 19, 23, 35, 36, 51])\n",
        "set([6, 16, 19, 23, 35, 36, 51])\n",
        "set([6, 16, 19, 23, 35, 36, 51])\n",
        "set([6, 16, 19, 23, 35, 36, 51])\n",
        "set([6, 16, 19, 23, 35, 36, 51])\n",
        "set([6, 16, 19, 23, 35, 36, 51])\n",
        "set([6, 16, 19, 23, 35, 36, 51])\n",
        "set([6, 16, 19, 23, 35, 36, 51])\n",
        "set([6, 16, 19, 23, 35, 36, 51])\n",
        "set([6, 16, 19, 23, 35, 36, 51])\n",
        "set([6, 16, 19, 23, 35, 36, 51])\n",
        "set([6, 16, 19, 23, 35, 36, 51])\n",
        "set([6, 16, 19, 23, 35, 36, 51])\n",
        "set([6, 16, 19, 23, 35, 36, 51])"
       ]
      },
      {
       "output_type": "stream",
       "stream": "stdout",
       "text": [
        "\n",
        "set([6, 16, 19, 23, 35, 36, 51])\n",
        "set([6, 16, 19, 23, 35, 36, 51])\n",
        "set([6, 16, 19, 23, 35, 36, 51])\n",
        "set([6, 16, 19, 23, 35, 36, 51])\n",
        "set([6, 16, 19, 23, 35, 36, 51])\n",
        "set([6, 16, 19, 23, 35, 36, 51])\n",
        "set([6, 16, 19, 23, 35, 36, 51])\n",
        "set([6, 16, 19, 23, 35, 36, 51])\n",
        "set([6, 16, 19, 23, 35, 36, 51])\n",
        "set([6, 16, 19, 23, 35, 36, 51])\n",
        "set([6, 16, 19, 23, 35, 36, 51])\n",
        "set([6, 16, 19, 23, 35, 36, 51])\n",
        "set([6, 16, 19, 23, 35, 36, 51])\n",
        "set([6, 16, 19, 23, 35, 36, 51])\n",
        "set([6, 16, 19, 23, 35, 36, 51])\n",
        "set([6, 16, 19, 23, 35, 36, 51])\n",
        "set([6, 16, 19, 23, 35, 36, 51])\n",
        "set([6, 16, 19, 23, 35, 36, 51])\n",
        "set([6, 16, 19, 23, 35, 36, 51])"
       ]
      },
      {
       "output_type": "stream",
       "stream": "stdout",
       "text": [
        "\n",
        "set([6, 16, 19, 23, 35, 36, 51])\n",
        "set([6, 16, 19, 23, 35, 36, 51])\n",
        "set([6, 16, 19, 23, 35, 36, 51])\n",
        "set([6, 16, 19, 23, 35, 36, 51])\n",
        "set([6, 16, 19, 23, 35, 36, 51])\n",
        "set([6, 16, 19, 23, 35, 36, 51])\n",
        "set([6, 16, 19, 23, 35, 36, 51])\n",
        "set([6, 16, 19, 23, 35, 36, 51])\n",
        "set([6, 16, 19, 23, 35, 36, 51])\n",
        "set([6, 16, 19, 23, 35, 36, 51])\n",
        "set([6, 16, 19, 23, 35, 36, 51])\n",
        "set([6, 16, 19, 23, 35, 36, 51])\n",
        "set([6, 16, 19, 23, 35, 36, 51])\n",
        "set([6, 16, 19, 23, 35, 36, 51])\n",
        "set([6, 16, 19, 23, 35, 36, 51])\n",
        "set([6, 16, 19, 23, 35, 36, 51])\n",
        "set([6, 16, 19, 23, 35, 36, 51])\n",
        "set([6, 16, 19, 23, 35, 36, 51])\n",
        "set([6, 16, 19, 23, 35, 36, 51])"
       ]
      },
      {
       "output_type": "stream",
       "stream": "stdout",
       "text": [
        "\n",
        "set([6, 16, 19, 23, 35, 36, 51])\n",
        "set([6, 16, 19, 23, 35, 36, 51])\n",
        "set([6, 16, 19, 23, 35, 36, 51])\n",
        "set([6, 16, 19, 23, 35, 36, 51])\n",
        "set([6, 16, 19, 23, 35, 36, 51])\n",
        "set([6, 16, 19, 23, 35, 36, 51])\n",
        "set([6, 16, 19, 23, 35, 36, 51])\n",
        "set([6, 16, 19, 23, 35, 36, 51])\n",
        "set([6, 16, 19, 23, 35, 36, 51])\n",
        "set([6, 16, 19, 23, 35, 36, 51])\n",
        "set([6, 16, 19, 23, 35, 36, 51])\n",
        "set([6, 16, 19, 23, 35, 36, 51])\n",
        "set([6, 16, 19, 23, 35, 36, 51])\n",
        "set([6, 16, 19, 23, 35, 36, 51])\n",
        "set([6, 16, 19, 23, 35, 36, 51])\n",
        "set([6, 16, 19, 23, 35, 36, 51])\n",
        "set([6, 16, 19, 23, 35, 36, 51])\n",
        "set([6, 16, 19, 23, 35, 36, 51])\n",
        "set([6, 16, 19, 23, 35, 36, 51])\n",
        "set([6, 16, 19, 23, 35, 36, 51])"
       ]
      },
      {
       "output_type": "stream",
       "stream": "stdout",
       "text": [
        "\n",
        "set([6, 16, 19, 23, 35, 36, 51])\n",
        "set([6, 16, 19, 23, 35, 36, 51])\n",
        "set([6, 16, 19, 23, 35, 36, 51])\n"
       ]
      }
     ],
     "prompt_number": 296
    },
    {
     "cell_type": "code",
     "collapsed": false,
     "input": [
      "print conj.show()"
     ],
     "language": "python",
     "metadata": {},
     "outputs": [
      {
       "output_type": "stream",
       "stream": "stdout",
       "text": [
        "~X[8] \u2227 X[5] \u2227 X[11] \u2227 X[29] \u2227 X[19]\n"
       ]
      }
     ],
     "prompt_number": 295
    },
    {
     "cell_type": "code",
     "collapsed": false,
     "input": [
      "num_total_vars = 30\n",
      "num_conj_vars = 5\n",
      "\n",
      "epsilon = 0.01\n",
      "delta = 0.01\n",
      "\n",
      "def calc_m(epsilon, delta, h_size):\n",
      "    return (1.0/epsilon)*np.log(h_size/delta)\n",
      "\n",
      "h = (2**num_conj_vars)*30*29*28*27*26/(5*4*3*2)\n",
      "\n",
      "m = calc_m(epsilon, delta, h)"
     ],
     "language": "python",
     "metadata": {},
     "outputs": [],
     "prompt_number": 306
    },
    {
     "cell_type": "code",
     "collapsed": false,
     "input": [
      "m"
     ],
     "language": "python",
     "metadata": {},
     "outputs": [
      {
       "metadata": {},
       "output_type": "pyout",
       "prompt_number": 307,
       "text": [
        "1993.8045471855417"
       ]
      }
     ],
     "prompt_number": 307
    },
    {
     "cell_type": "code",
     "collapsed": false,
     "input": [
      "num_examples = 100\n",
      "conj = make_conjunction(n=num_total_vars, k=num_conj_vars)\n",
      "\n",
      "errors = {}\n",
      "\n",
      "train_examples = []\n",
      "for _ in range(num_examples):\n",
      "    ex = np.random.choice([True, False], num_total_vars)\n",
      "    ex[conj.rand_vars[:conj.neg_number]] = False\n",
      "    ex[conj.rand_vars[conj.neg_number:]] = True\n",
      "    train_examples += [(ex, conj(ex))]\n",
      "\n",
      "all_examples = []\n",
      "for _ in range(num_examples):\n",
      "    ex = np.random.choice([True, False], num_total_vars)\n",
      "    all_examples += [(ex, conj(ex))]    \n",
      "\n",
      "pos_examples = []\n",
      "for _ in range(num_examples):\n",
      "    ex = np.random.choice([True, False], num_total_vars)\n",
      "    ex[conj.rand_vars[:conj.neg_number]] = False\n",
      "    ex[conj.rand_vars[conj.neg_number:]] = True\n",
      "    pos_examples += [(ex, conj(ex))]  \n",
      "    \n",
      "for r in range(1, 100):\n",
      "    # Cria uma hip\u00f3tese a partir dos exemplos\n",
      "    h = create_h(train_examples[:r])\n",
      "    #print h(examples[0][0]), examples[0][1]\n",
      "    errors[r] = ([ex[1] == h(ex[0]) for ex in all_examples].count(False))/float(len(all_examples))"
     ],
     "language": "python",
     "metadata": {},
     "outputs": [],
     "prompt_number": 227
    },
    {
     "cell_type": "code",
     "collapsed": false,
     "input": [
      "errors.values()"
     ],
     "language": "python",
     "metadata": {},
     "outputs": [
      {
       "metadata": {},
       "output_type": "pyout",
       "prompt_number": 228,
       "text": [
        "[0.26,\n",
        " 0.22,\n",
        " 0.22,\n",
        " 0.13,\n",
        " 0.13,\n",
        " 0.13,\n",
        " 0.0,\n",
        " 0.0,\n",
        " 0.0,\n",
        " 0.0,\n",
        " 0.0,\n",
        " 0.0,\n",
        " 0.0,\n",
        " 0.0,\n",
        " 0.0,\n",
        " 0.0,\n",
        " 0.0,\n",
        " 0.0,\n",
        " 0.0,\n",
        " 0.0,\n",
        " 0.0,\n",
        " 0.0,\n",
        " 0.0,\n",
        " 0.0,\n",
        " 0.0,\n",
        " 0.0,\n",
        " 0.0,\n",
        " 0.0,\n",
        " 0.0,\n",
        " 0.0,\n",
        " 0.0,\n",
        " 0.0,\n",
        " 0.0,\n",
        " 0.0,\n",
        " 0.0,\n",
        " 0.0,\n",
        " 0.0,\n",
        " 0.0,\n",
        " 0.0,\n",
        " 0.0,\n",
        " 0.0,\n",
        " 0.0,\n",
        " 0.0,\n",
        " 0.0,\n",
        " 0.0,\n",
        " 0.0,\n",
        " 0.0,\n",
        " 0.0,\n",
        " 0.0,\n",
        " 0.0,\n",
        " 0.0,\n",
        " 0.0,\n",
        " 0.0,\n",
        " 0.0,\n",
        " 0.0,\n",
        " 0.0,\n",
        " 0.0,\n",
        " 0.0,\n",
        " 0.0,\n",
        " 0.0,\n",
        " 0.0,\n",
        " 0.0,\n",
        " 0.0,\n",
        " 0.0,\n",
        " 0.0,\n",
        " 0.0,\n",
        " 0.0,\n",
        " 0.0,\n",
        " 0.0,\n",
        " 0.0,\n",
        " 0.0,\n",
        " 0.0,\n",
        " 0.0,\n",
        " 0.0,\n",
        " 0.0,\n",
        " 0.0,\n",
        " 0.0,\n",
        " 0.0,\n",
        " 0.0,\n",
        " 0.0,\n",
        " 0.0,\n",
        " 0.0,\n",
        " 0.0,\n",
        " 0.0,\n",
        " 0.0,\n",
        " 0.0,\n",
        " 0.0,\n",
        " 0.0,\n",
        " 0.0,\n",
        " 0.0,\n",
        " 0.0,\n",
        " 0.0,\n",
        " 0.0,\n",
        " 0.0,\n",
        " 0.0,\n",
        " 0.0,\n",
        " 0.0,\n",
        " 0.0,\n",
        " 0.0]"
       ]
      }
     ],
     "prompt_number": 228
    },
    {
     "cell_type": "code",
     "collapsed": false,
     "input": [
      "num_examples = 30\n",
      "\n",
      "# Cria os exemplos\n",
      "examples = []\n",
      "for _ in range(num_examples):\n",
      "    ex = np.random.choice([True, False], num_total_vars)\n",
      "    ex[conj.rand_vars[:conj.neg_number]] = False\n",
      "    ex[conj.rand_vars[conj.neg_number:]] = True\n",
      "    examples += [(ex, conj(ex))]"
     ],
     "language": "python",
     "metadata": {},
     "outputs": [],
     "prompt_number": 163
    },
    {
     "cell_type": "code",
     "collapsed": false,
     "input": [
      "h = create_h(examples)"
     ],
     "language": "python",
     "metadata": {},
     "outputs": [],
     "prompt_number": 164
    },
    {
     "cell_type": "code",
     "collapsed": false,
     "input": [
      "map(lambda x: h(x[0]) == x[1], examples).count(False)"
     ],
     "language": "python",
     "metadata": {},
     "outputs": [
      {
       "metadata": {},
       "output_type": "pyout",
       "prompt_number": 68,
       "text": [
        "19"
       ]
      }
     ],
     "prompt_number": 68
    },
    {
     "cell_type": "code",
     "collapsed": false,
     "input": [
      "ex = np.random.choice([True, False], 10)\n",
      "c(ex)"
     ],
     "language": "python",
     "metadata": {},
     "outputs": [
      {
       "metadata": {},
       "output_type": "pyout",
       "prompt_number": 49,
       "text": [
        "False"
       ]
      }
     ],
     "prompt_number": 49
    },
    {
     "cell_type": "code",
     "collapsed": false,
     "input": [
      "ex"
     ],
     "language": "python",
     "metadata": {},
     "outputs": [
      {
       "metadata": {},
       "output_type": "pyout",
       "prompt_number": 12,
       "text": [
        "array([False, False,  True, False, False, False,  True, False, False, False], dtype=bool)"
       ]
      }
     ],
     "prompt_number": 12
    },
    {
     "cell_type": "code",
     "collapsed": false,
     "input": [
      "print c.show()"
     ],
     "language": "python",
     "metadata": {},
     "outputs": [
      {
       "output_type": "stream",
       "stream": "stdout",
       "text": [
        "~X[5] \u2227 X[9] \u2227 X[2] \u2227 X[3] \u2227 X[0]\n"
       ]
      }
     ],
     "prompt_number": 21
    },
    {
     "cell_type": "code",
     "collapsed": false,
     "input": [
      "ex[c.rand_vars] = True"
     ],
     "language": "python",
     "metadata": {},
     "outputs": [],
     "prompt_number": 17
    },
    {
     "cell_type": "code",
     "collapsed": false,
     "input": [
      "ex"
     ],
     "language": "python",
     "metadata": {},
     "outputs": [
      {
       "metadata": {},
       "output_type": "pyout",
       "prompt_number": 18,
       "text": [
        "array([False, False,  True,  True, False,  True,  True,  True,  True, False], dtype=bool)"
       ]
      }
     ],
     "prompt_number": 18
    },
    {
     "cell_type": "code",
     "collapsed": false,
     "input": [
      "c(ex)"
     ],
     "language": "python",
     "metadata": {},
     "outputs": [
      {
       "metadata": {},
       "output_type": "pyout",
       "prompt_number": 22,
       "text": [
        "False"
       ]
      }
     ],
     "prompt_number": 22
    },
    {
     "cell_type": "code",
     "collapsed": false,
     "input": [
      "nex = ex.copy()"
     ],
     "language": "python",
     "metadata": {},
     "outputs": [],
     "prompt_number": 23
    },
    {
     "cell_type": "code",
     "collapsed": false,
     "input": [
      "nex[c.rand_vars[:c.neg_number]] = False\n",
      "nex[c.rand_vars[c.neg_number:]] = True\n"
     ],
     "language": "python",
     "metadata": {},
     "outputs": [],
     "prompt_number": 25
    },
    {
     "cell_type": "code",
     "collapsed": false,
     "input": [
      "nex[:0] = True"
     ],
     "language": "python",
     "metadata": {},
     "outputs": [],
     "prompt_number": 33
    },
    {
     "cell_type": "code",
     "collapsed": false,
     "input": [
      "nex"
     ],
     "language": "python",
     "metadata": {},
     "outputs": [
      {
       "metadata": {},
       "output_type": "pyout",
       "prompt_number": 34,
       "text": [
        "array([ True, False,  True,  True, False, False,  True,  True,  True,  True], dtype=bool)"
       ]
      }
     ],
     "prompt_number": 34
    },
    {
     "cell_type": "code",
     "collapsed": false,
     "input": [],
     "language": "python",
     "metadata": {},
     "outputs": []
    }
   ],
   "metadata": {}
  }
 ]
}