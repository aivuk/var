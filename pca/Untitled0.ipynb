{
 "metadata": {
  "name": "",
  "signature": "sha256:4576b2b78727f54aacecbacecde4ede9319680100659d91dcb3c418b63362155"
 },
 "nbformat": 3,
 "nbformat_minor": 0,
 "worksheets": [
  {
   "cells": [
    {
     "cell_type": "code",
     "collapsed": false,
     "input": [
      "%pylab inline\n",
      "import numpy as np"
     ],
     "language": "python",
     "metadata": {},
     "outputs": [
      {
       "output_type": "stream",
       "stream": "stdout",
       "text": [
        "Populating the interactive namespace from numpy and matplotlib\n"
       ]
      },
      {
       "output_type": "stream",
       "stream": "stderr",
       "text": [
        "WARNING: pylab import has clobbered these variables: ['conj']\n",
        "`%matplotlib` prevents importing * from pylab and numpy\n"
       ]
      }
     ],
     "prompt_number": 328
    },
    {
     "cell_type": "heading",
     "level": 1,
     "metadata": {},
     "source": [
      "Fun\u00e7\u00e3o para criar conjun\u00e7\u00f5es aleat\u00f3rias"
     ]
    },
    {
     "cell_type": "markdown",
     "metadata": {},
     "source": [
      "A fun\u00e7\u00e3o `make_conjunction` abaixo consegue criar conjun\u00e7\u00f5es com $k$ vari\u00e1veis de um espa\u00e7o de $n$ vari\u00e1veis:"
     ]
    },
    {
     "cell_type": "code",
     "collapsed": false,
     "input": [
      "def make_conjunction(n=6, k=4):\n",
      "    rand_vars = np.random.choice(range(n), k, replace=False)\n",
      "    neg_number = np.random.randint(k)\n",
      "\n",
      "    def conj(vec):\n",
      "        return all(map(lambda i: not vec[i], rand_vars[:neg_number]) + map(lambda i: vec[i], rand_vars[neg_number:]))\n",
      "\n",
      "    def show():\n",
      "        sn = ' \u2227 '.join(['~X[{}]'.format(i) for i in rand_vars[:neg_number]])\n",
      "        s = ' \u2227 '.join(['X[{}]'.format(i) for i in rand_vars[neg_number:]])\n",
      "        \n",
      "        return sn + ' \u2227 ' + s if len(sn) > 1 else s\n",
      "    \n",
      "    conj.neg_number = neg_number\n",
      "    conj.rand_vars = rand_vars\n",
      "    conj.show = show\n",
      "    \n",
      "    return conj"
     ],
     "language": "python",
     "metadata": {},
     "outputs": [],
     "prompt_number": 344
    },
    {
     "cell_type": "code",
     "collapsed": false,
     "input": [
      "c = make_conjunction(n=25, k=4)"
     ],
     "language": "python",
     "metadata": {},
     "outputs": [],
     "prompt_number": 345
    },
    {
     "cell_type": "markdown",
     "metadata": {},
     "source": [
      "O m\u00e9todo `.show` \u00e9 utilizado para imprimir de forma textual qual conjun\u00e7\u00e3o foi criada:"
     ]
    },
    {
     "cell_type": "code",
     "collapsed": false,
     "input": [
      "print c.show()"
     ],
     "language": "python",
     "metadata": {},
     "outputs": [
      {
       "output_type": "stream",
       "stream": "stdout",
       "text": [
        "~X[21] \u2227 X[2] \u2227 X[10] \u2227 X[1]\n"
       ]
      }
     ],
     "prompt_number": 346
    },
    {
     "cell_type": "heading",
     "level": 1,
     "metadata": {},
     "source": [
      "Gerando uma hip\u00f3tese"
     ]
    },
    {
     "cell_type": "markdown",
     "metadata": {},
     "source": [
      "O c\u00f3digo a seguir foi o criado para a lista de exerc\u00edcios. Ele consiste da fun\u00e7\u00e3o `create_h` que \u00e9 utilizado para criar uma hip\u00f3tese dado um conjunto de exemplos."
     ]
    },
    {
     "cell_type": "code",
     "collapsed": false,
     "input": [
      "from operator import and_\n",
      "\n",
      "def calc_U(ex, U):\n",
      "    for i in range(len(ex)):\n",
      "        if ex[i]:\n",
      "            if 2*i + 1 in U:\n",
      "                U.remove(2*i + 1)\n",
      "        else:\n",
      "            if 2*i in U:\n",
      "                U.remove(2*i)\n",
      "    return U\n",
      "\n",
      "def create_h(examples):\n",
      "    U = set(range(2*len(examples[0][0])))\n",
      "    for ex, kind in examples:\n",
      "        if kind == True:\n",
      "            U = calc_U(ex, U)\n",
      "    return lambda x: reduce(and_, [x[u/2] if u % 2 == 0 else not x[u/2] for u in U])\n"
     ],
     "language": "python",
     "metadata": {},
     "outputs": [],
     "prompt_number": 347
    },
    {
     "cell_type": "heading",
     "level": 1,
     "metadata": {},
     "source": [
      "Criando exemplos aleat\u00f3rios"
     ]
    },
    {
     "cell_type": "code",
     "collapsed": false,
     "input": [
      "num_examples = 1000\n",
      "examples = []\n",
      "num_total_vars = 30\n",
      "num_conj_vars = 2\n",
      "conj = make_conjunction(n=num_total_vars, k=num_conj_vars)\n",
      "\n",
      "for _ in range(num_examples):\n",
      "    ex = np.random.choice([True, False], num_total_vars)\n",
      "    examples += [(ex, c(ex))]"
     ],
     "language": "python",
     "metadata": {},
     "outputs": [],
     "prompt_number": 422
    },
    {
     "cell_type": "code",
     "collapsed": false,
     "input": [
      "errors = []\n",
      "for i in range(1,100):\n",
      "    h = create_h(examples[:i])\n",
      "    errors += [([ex[1] == h(ex[0]) for ex in examples].count(False))/float(len(examples))]"
     ],
     "language": "python",
     "metadata": {},
     "outputs": [],
     "prompt_number": 423
    },
    {
     "cell_type": "code",
     "collapsed": false,
     "input": [
      "plot(errors)"
     ],
     "language": "python",
     "metadata": {},
     "outputs": [
      {
       "metadata": {},
       "output_type": "pyout",
       "prompt_number": 424,
       "text": [
        "[<matplotlib.lines.Line2D at 0x6ba6610>]"
       ]
      },
      {
       "metadata": {},
       "output_type": "display_data",
       "png": "[encoded data removed]",
       "text": [
        "<matplotlib.figure.Figure at 0x68aba50>"
       ]
      }
     ],
     "prompt_number": 424
    },
    {
     "cell_type": "code",
     "collapsed": false,
     "input": [
      "num_total_vars = 15\n",
      "num_conj_vars = 5\n",
      "\n",
      "epsilon = 0.5\n",
      "delta = 0.5\n",
      "\n",
      "def calc_m(epsilon, delta, h_size):\n",
      "    return (1.0/epsilon)*np.log(h_size/delta)\n",
      "\n",
      "h = 3**num_total_vars\n",
      "\n",
      "m = calc_m(epsilon, delta, h)"
     ],
     "language": "python",
     "metadata": {},
     "outputs": [],
     "prompt_number": 471
    },
    {
     "cell_type": "code",
     "collapsed": false,
     "input": [
      "m"
     ],
     "language": "python",
     "metadata": {},
     "outputs": [
      {
       "metadata": {},
       "output_type": "pyout",
       "prompt_number": 472,
       "text": [
        "34.344663021163178"
       ]
      }
     ],
     "prompt_number": 472
    },
    {
     "cell_type": "code",
     "collapsed": false,
     "input": [
      "num_examples = int(m + 5)\n",
      "num_examples = 2\n",
      "conj = make_conjunction(n=num_total_vars, k=num_conj_vars)\n",
      "\n",
      "errors = {}\n",
      "\n",
      "for r in range(100):\n",
      "    \n",
      "    # Cria os exemplos\n",
      "    examples = []\n",
      "    for _ in range(num_examples):\n",
      "        ex = np.random.choice([True, False], num_total_vars)\n",
      "        examples += [(ex, conj(ex))]\n",
      "    \n",
      "    # Cria uma hip\u00f3tese a partir dos exemplos\n",
      "    h = create_h(examples)\n",
      "    print h(examples[0][0]), examples[0][1]\n",
      "    errors[r] = ([ex[1] == h(ex[0]) for ex in examples].count(False))/float(len(examples))"
     ],
     "language": "python",
     "metadata": {},
     "outputs": [
      {
       "output_type": "stream",
       "stream": "stdout",
       "text": [
        "False False\n",
        "False False\n",
        "False False\n",
        "False False\n",
        "False False\n",
        "False False\n",
        "False False\n",
        "False False\n",
        "False False\n",
        "False False\n",
        "False False\n",
        "False False\n",
        "False False\n",
        "False False\n",
        "False False\n",
        "False False\n",
        "False False\n",
        "False False\n",
        "False False\n",
        "False False\n",
        "False False\n",
        "False False\n",
        "False False\n",
        "False False\n",
        "False False\n",
        "False False\n",
        "False False\n",
        "False False\n",
        "False False\n",
        "False False\n",
        "False False\n",
        "False False\n",
        "False False\n",
        "False False\n",
        "False False\n",
        "False False\n",
        "False False\n",
        "False False\n",
        "False False\n",
        "True True\n",
        "False False\n",
        "False False\n",
        "False False\n",
        "False False\n",
        "False False\n",
        "False False\n",
        "False False\n",
        "False False\n",
        "False False\n",
        "False False\n",
        "False False\n",
        "False False\n",
        "False False\n",
        "False False\n",
        "False False\n",
        "False False\n",
        "False False\n",
        "False False\n",
        "False False\n",
        "False False\n",
        "False False\n",
        "False False\n",
        "False False\n",
        "False False\n",
        "False False\n",
        "False False\n",
        "False False\n",
        "False False\n",
        "False False\n",
        "False False\n",
        "True True\n",
        "False False\n",
        "False False\n",
        "False False\n",
        "False False\n",
        "False False\n",
        "False False\n",
        "False False\n",
        "False False\n",
        "False False\n",
        "False False\n",
        "False False\n",
        "False False\n",
        "False False\n",
        "False False\n",
        "True True\n",
        "False False\n",
        "False False\n",
        "True True\n",
        "False False\n",
        "False False\n",
        "False False\n",
        "False False\n",
        "False False\n",
        "False False\n",
        "False False\n",
        "False False\n",
        "False False\n",
        "False False\n",
        "False False\n"
       ]
      }
     ],
     "prompt_number": 478
    },
    {
     "cell_type": "code",
     "collapsed": false,
     "input": [
      "print conj.show()"
     ],
     "language": "python",
     "metadata": {},
     "outputs": [
      {
       "output_type": "stream",
       "stream": "stdout",
       "text": [
        "~X[4] \u2227 ~X[12] \u2227 ~X[6] \u2227 X[0] \u2227 X[11]\n"
       ]
      }
     ],
     "prompt_number": 479
    },
    {
     "cell_type": "code",
     "collapsed": false,
     "input": [
      "examples"
     ],
     "language": "python",
     "metadata": {},
     "outputs": [
      {
       "metadata": {},
       "output_type": "pyout",
       "prompt_number": 480,
       "text": [
        "[(array([ True,  True, False,  True, False, False, False,  True, False,\n",
        "         False,  True,  True,  True,  True, False], dtype=bool), False),\n",
        " (array([ True,  True,  True, False, False,  True,  True, False,  True,\n",
        "          True, False,  True,  True,  True,  True], dtype=bool), False)]"
       ]
      }
     ],
     "prompt_number": 480
    },
    {
     "cell_type": "code",
     "collapsed": false,
     "input": [],
     "language": "python",
     "metadata": {},
     "outputs": []
    }
   ],
   "metadata": {}
  }
 ]
}