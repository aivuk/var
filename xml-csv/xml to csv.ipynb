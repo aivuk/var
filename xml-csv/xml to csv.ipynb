{
 "metadata": {
  "name": ""
 },
 "nbformat": 3,
 "nbformat_minor": 0,
 "worksheets": [
  {
   "cells": [
    {
     "cell_type": "code",
     "collapsed": false,
     "input": [
      "import csv\n",
      "import sys\n",
      "import xml.etree.ElementTree as etree\n",
      "\n",
      "file_name = 'Catalog_Paris_Lemuriformes(1).xml'\n",
      "csv_file_name = '.'.join(file_name.split('.')[:-1] + [\"csv\"])\n",
      "\n",
      "root = etree.parse(file_name).getroot()\n",
      "\n",
      "with open(csv_file_name, 'w') as file_:\n",
      "    writer = csv.writer(file_, delimiter=\",\")\n",
      "\n",
      "    header = True\n",
      "    for n in root:\n",
      "        if header:\n",
      "            h = [c.tag for c in n.getchildren()]  \n",
      "            writer.writerow(h)\n",
      "            header = False\n",
      "        lines = [c.text.encode('utf8') if c.text else '' for c in n.getchildren()]    \n",
      "        writer.writerow(lines)"
     ],
     "language": "python",
     "metadata": {},
     "outputs": [],
     "prompt_number": 39
    },
    {
     "cell_type": "code",
     "collapsed": false,
     "input": [],
     "language": "python",
     "metadata": {},
     "outputs": []
    }
   ],
   "metadata": {}
  }
 ]
}