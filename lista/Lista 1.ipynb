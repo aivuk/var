{
 "metadata": {
  "name": "",
  "signature": "sha256:533c7057cc0af7d7da86cdd14be20e0e889b8f737a9697b5b56736aa887ca786"
 },
 "nbformat": 3,
 "nbformat_minor": 0,
 "worksheets": [
  {
   "cells": [
    {
     "cell_type": "code",
     "collapsed": false,
     "input": [
      "%pylab inline\n",
      "\n",
      "from IPython.display import Image\n",
      "import numpy as np"
     ],
     "language": "python",
     "metadata": {},
     "outputs": [
      {
       "output_type": "stream",
       "stream": "stdout",
       "text": [
        "Populating the interactive namespace from numpy and matplotlib\n"
       ]
      }
     ],
     "prompt_number": 4
    },
    {
     "cell_type": "markdown",
     "metadata": {},
     "source": [
      "# \u00cdndice das resolu\u00e7\u00f5es dos problemas\n",
      "\n",
      "* [Problema 1](#Problema-1)\n",
      "* [Problema 2](#Problema-2)\n",
      "* [Problema 3](#Problema-3)\n",
      "* [Problema 4](#Problema-4)\n",
      "* [Problema 5](#Problema-5)\n",
      "* [Problema 6](#Problema-6)\n",
      "* [Problema 7](#Problema-7)\n",
      "* [Problema 8](#Problema-8)\n",
      "* [Problema 9](#Problema-9)\n",
      "* [Problema 10](#Problema-10)"
     ]
    },
    {
     "cell_type": "heading",
     "level": 1,
     "metadata": {},
     "source": [
      "Problema 1"
     ]
    },
    {
     "cell_type": "code",
     "collapsed": false,
     "input": [
      "def create_parity_examples(num_examples, string_size, parity=1):\n",
      "    ''' Retorna exemplos de strings bin\u00e1rias com paridade par ou \u00edmpar \n",
      "    \n",
      "    num_examples: N\u00famero de exemplos\n",
      "    string_size: Tamanho das strings que ser\u00e3o geradas\n",
      "    parity: Paridade das strings (1 para par, 0 caso contr\u00e1rio)\n",
      "    \n",
      "    '''\n",
      "    examples = []\n",
      "    for i in range(num_examples):\n",
      "        if parity == 1:\n",
      "            ones = 2*np.random.randint(1, string_size / 2 + 1)\n",
      "        else:\n",
      "            ones = 2*np.random.randint(0, string_size / 2) + 1\n",
      "        zeroes = string_size - ones\n",
      "        ex = ones*[1] + zeroes*[0]\n",
      "        examples.append(np.random.permutation(ex))\n",
      "    return examples"
     ],
     "language": "python",
     "metadata": {},
     "outputs": [],
     "prompt_number": 61
    },
    {
     "cell_type": "code",
     "collapsed": false,
     "input": [
      "examples1 = create_parity_examples(10, 7, 1)\n",
      "examples1"
     ],
     "language": "python",
     "metadata": {},
     "outputs": [
      {
       "metadata": {},
       "output_type": "pyout",
       "prompt_number": 63,
       "text": [
        "[array([0, 0, 0, 1, 1, 0, 0]),\n",
        " array([1, 0, 0, 1, 1, 0, 1]),\n",
        " array([1, 0, 1, 1, 1, 1, 1]),\n",
        " array([1, 0, 0, 0, 1, 0, 0]),\n",
        " array([1, 1, 0, 1, 1, 1, 1]),\n",
        " array([0, 0, 0, 1, 1, 1, 1]),\n",
        " array([0, 0, 1, 1, 0, 0, 0]),\n",
        " array([1, 0, 1, 1, 1, 0, 0]),\n",
        " array([0, 1, 0, 0, 0, 1, 0]),\n",
        " array([0, 0, 0, 0, 0, 1, 1])]"
       ]
      }
     ],
     "prompt_number": 63
    },
    {
     "cell_type": "markdown",
     "metadata": {},
     "source": [
      "Confere se os exemplos criados acima s\u00e3o exemplos positivos:"
     ]
    },
    {
     "cell_type": "code",
     "collapsed": false,
     "input": [
      "for ex in examples1:\n",
      "    if len(filter(lambda x: x == 1, ex)) % 2 == 0:\n",
      "        is_even = '\u00c9'\n",
      "    else:\n",
      "        is_even = 'N\u00e3o \u00e9'\n",
      "    print '{}: {} um exemplo par'.format(ex, is_palindrome) "
     ],
     "language": "python",
     "metadata": {},
     "outputs": [
      {
       "output_type": "stream",
       "stream": "stdout",
       "text": [
        "[0 0 0 1 1 0 0]: \u00c9 um exemplo par\n",
        "[1 0 0 1 1 0 1]: \u00c9 um exemplo par\n",
        "[1 0 1 1 1 1 1]: \u00c9 um exemplo par\n",
        "[1 0 0 0 1 0 0]: \u00c9 um exemplo par\n",
        "[1 1 0 1 1 1 1]: \u00c9 um exemplo par\n",
        "[0 0 0 1 1 1 1]: \u00c9 um exemplo par\n",
        "[0 0 1 1 0 0 0]: \u00c9 um exemplo par\n",
        "[1 0 1 1 1 0 0]: \u00c9 um exemplo par\n",
        "[0 1 0 0 0 1 0]: \u00c9 um exemplo par\n",
        "[0 0 0 0 0 1 1]: \u00c9 um exemplo par\n"
       ]
      }
     ],
     "prompt_number": 69
    },
    {
     "cell_type": "heading",
     "level": 1,
     "metadata": {},
     "source": [
      "Problema 2"
     ]
    },
    {
     "cell_type": "code",
     "collapsed": false,
     "input": [
      "def create_palindromes_examples(num_examples, string_size):\n",
      "    ''' Retorna exemplos de strings pal\u00edndromas\n",
      "    \n",
      "    num_examples: N\u00famero de exemplos\n",
      "    string_size: Tamanho das strings\n",
      "    \n",
      "    '''\n",
      "    examples = [np.random.randint(0, 2, size=string_size / 2) for _ in range(num_examples)]\n",
      "    examples = map(lambda x: list(x) + list(x[::-1]), examples)\n",
      "    return examples"
     ],
     "language": "python",
     "metadata": {},
     "outputs": [],
     "prompt_number": 64
    },
    {
     "cell_type": "code",
     "collapsed": false,
     "input": [
      "examples2 = create_palindromes_examples(10, 10)\n",
      "examples2"
     ],
     "language": "python",
     "metadata": {},
     "outputs": [
      {
       "metadata": {},
       "output_type": "pyout",
       "prompt_number": 65,
       "text": [
        "[[1, 0, 0, 0, 1, 1, 0, 0, 0, 1],\n",
        " [1, 1, 1, 1, 1, 1, 1, 1, 1, 1],\n",
        " [1, 0, 1, 1, 0, 0, 1, 1, 0, 1],\n",
        " [1, 0, 1, 1, 0, 0, 1, 1, 0, 1],\n",
        " [1, 0, 0, 0, 0, 0, 0, 0, 0, 1],\n",
        " [1, 0, 1, 0, 0, 0, 0, 1, 0, 1],\n",
        " [0, 1, 0, 1, 1, 1, 1, 0, 1, 0],\n",
        " [1, 0, 0, 0, 0, 0, 0, 0, 0, 1],\n",
        " [0, 1, 1, 0, 1, 1, 0, 1, 1, 0],\n",
        " [1, 0, 0, 1, 0, 0, 1, 0, 0, 1]]"
       ]
      }
     ],
     "prompt_number": 65
    },
    {
     "cell_type": "markdown",
     "metadata": {},
     "source": [
      "Confere se os exemplos criados acima s\u00e3o pal\u00edndromos:"
     ]
    },
    {
     "cell_type": "code",
     "collapsed": false,
     "input": [
      "for ex in examples2:\n",
      "    if ex[:len(ex)/2][::-1] ==  ex[len(ex)/2:]:\n",
      "        is_palindrome = '\u00c9'\n",
      "    else:\n",
      "        is_palindrome = 'N\u00e3o \u00e9'\n",
      "        \n",
      "    print '{}: {} pal\u00edndromo'.format(ex, is_palindrome) "
     ],
     "language": "python",
     "metadata": {},
     "outputs": [
      {
       "output_type": "stream",
       "stream": "stdout",
       "text": [
        "[1, 0, 0, 0, 1, 1, 0, 0, 0, 1]: \u00c9 pal\u00edndromo\n",
        "[1, 1, 1, 1, 1, 1, 1, 1, 1, 1]: \u00c9 pal\u00edndromo\n",
        "[1, 0, 1, 1, 0, 0, 1, 1, 0, 1]: \u00c9 pal\u00edndromo\n",
        "[1, 0, 1, 1, 0, 0, 1, 1, 0, 1]: \u00c9 pal\u00edndromo\n",
        "[1, 0, 0, 0, 0, 0, 0, 0, 0, 1]: \u00c9 pal\u00edndromo\n",
        "[1, 0, 1, 0, 0, 0, 0, 1, 0, 1]: \u00c9 pal\u00edndromo\n",
        "[0, 1, 0, 1, 1, 1, 1, 0, 1, 0]: \u00c9 pal\u00edndromo\n",
        "[1, 0, 0, 0, 0, 0, 0, 0, 0, 1]: \u00c9 pal\u00edndromo\n",
        "[0, 1, 1, 0, 1, 1, 0, 1, 1, 0]: \u00c9 pal\u00edndromo\n",
        "[1, 0, 0, 1, 0, 0, 1, 0, 0, 1]: \u00c9 pal\u00edndromo\n"
       ]
      }
     ],
     "prompt_number": 66
    },
    {
     "cell_type": "heading",
     "level": 1,
     "metadata": {},
     "source": [
      "Problema 3"
     ]
    },
    {
     "cell_type": "code",
     "collapsed": false,
     "input": [
      "def inside_points(radius=1, dim=2, num=100):\n",
      "    num_inside = 0\n",
      "    points = []\n",
      "    \n",
      "    while num_inside < num:\n",
      "        orig = -radius*np.ones((num - num_inside, dim))\n",
      "        rs = 2*radius*np.random.random((num - num_inside, dim))\n",
      "        rs = orig + rs\n",
      "        inside_rs = filter(lambda x: np.sqrt(np.sum(x**2)) <= radius, rs)\n",
      "        points += inside_rs\n",
      "        num_inside += len(inside_rs)\n",
      "    return np.array(points)"
     ],
     "language": "python",
     "metadata": {},
     "outputs": [],
     "prompt_number": 387
    },
    {
     "cell_type": "markdown",
     "metadata": {},
     "source": [
      "Exemplos positivos:"
     ]
    },
    {
     "cell_type": "code",
     "collapsed": false,
     "input": [
      "positive_examples = inside_points(radius=1, dim=5, num=20)\n",
      "positive_examples"
     ],
     "language": "python",
     "metadata": {},
     "outputs": [
      {
       "metadata": {},
       "output_type": "pyout",
       "prompt_number": 388,
       "text": [
        "array([[ -4.01322664e-01,  -5.40208456e-01,   2.89324941e-01,\n",
        "          4.02375925e-02,  -4.73359139e-01],\n",
        "       [  3.95189956e-01,   9.43225890e-02,   1.18870678e-01,\n",
        "         -1.00266079e-01,   8.95093864e-01],\n",
        "       [  4.26950152e-01,   5.64335842e-01,  -6.16701841e-01,\n",
        "          8.83436817e-02,   1.83419812e-01],\n",
        "       [  4.81570999e-01,   2.53516422e-01,   1.48169264e-01,\n",
        "         -1.77639442e-01,  -2.87313536e-01],\n",
        "       [ -3.46456169e-01,  -2.68947147e-01,   1.03291210e-01,\n",
        "         -2.02940766e-01,  -5.68285009e-01],\n",
        "       [  3.32411971e-01,   3.38431178e-01,   1.08042953e-01,\n",
        "          4.71790019e-01,  -2.35532736e-02],\n",
        "       [  1.40541511e-01,  -8.38348312e-02,   1.40171108e-02,\n",
        "          1.48497982e-01,  -6.68584045e-01],\n",
        "       [ -9.78669314e-02,  -8.01569552e-01,  -4.55004394e-01,\n",
        "          3.38784463e-02,   1.55015021e-01],\n",
        "       [  6.22894023e-01,   1.75251551e-01,   5.80390998e-01,\n",
        "          2.53329932e-01,   2.18849083e-01],\n",
        "       [  4.22679621e-01,  -4.28914076e-01,   1.49209809e-01,\n",
        "          5.09084468e-01,  -4.65730055e-04],\n",
        "       [ -8.04729358e-01,   4.26412239e-01,  -2.39744797e-02,\n",
        "         -1.50697861e-01,  -1.63773892e-01],\n",
        "       [  9.00414563e-02,   2.05371469e-01,   5.85429014e-01,\n",
        "         -3.86576351e-01,   6.70850219e-01],\n",
        "       [ -4.43496833e-01,   1.46204069e-01,  -4.24478366e-01,\n",
        "          5.15688337e-02,   4.31318754e-01],\n",
        "       [  2.55716972e-02,  -1.68360054e-01,  -5.92758727e-01,\n",
        "         -1.71013163e-01,   4.00850156e-01],\n",
        "       [  3.01640003e-01,  -4.70263257e-01,  -1.92442647e-01,\n",
        "         -4.55396804e-01,   2.86182056e-01],\n",
        "       [ -1.07536398e-01,   2.00683137e-01,  -6.38822008e-01,\n",
        "         -1.33749056e-01,  -2.15683324e-01],\n",
        "       [  4.88971189e-01,   1.93126241e-02,   3.78403748e-01,\n",
        "         -6.73933116e-01,   3.10033652e-01],\n",
        "       [ -4.39622134e-01,   2.72242906e-01,  -6.90011793e-01,\n",
        "         -3.02208844e-01,   1.79542704e-01],\n",
        "       [  2.55904796e-03,   1.54204907e-01,  -5.31899827e-01,\n",
        "         -5.94219496e-01,   7.55335967e-02],\n",
        "       [ -5.42556367e-02,  -3.47491626e-01,  -2.90032384e-01,\n",
        "         -2.36469351e-01,  -4.34088642e-01]])"
       ]
      }
     ],
     "prompt_number": 388
    },
    {
     "cell_type": "markdown",
     "metadata": {},
     "source": [
      "Confere que todos s\u00e3o exemplos positivos:"
     ]
    },
    {
     "cell_type": "code",
     "collapsed": false,
     "input": [
      "for i, ex in enumerate(positive_examples):\n",
      "    print i, sum(ex**2) <= 1"
     ],
     "language": "python",
     "metadata": {},
     "outputs": [
      {
       "output_type": "stream",
       "stream": "stdout",
       "text": [
        "0 True\n",
        "1 True\n",
        "2 True\n",
        "3 True\n",
        "4 True\n",
        "5 True\n",
        "6 True\n",
        "7 True\n",
        "8 True\n",
        "9 True\n",
        "10 True\n",
        "11 True\n",
        "12 True\n",
        "13 True\n",
        "14 True\n",
        "15 True\n",
        "16 True\n",
        "17 True\n",
        "18 True\n",
        "19 True\n"
       ]
      }
     ],
     "prompt_number": 389
    },
    {
     "cell_type": "markdown",
     "metadata": {},
     "source": [
      "Para criar os exemplos negativos criei uma fun\u00e7\u00e3o que gera pontos aleat\u00f3rios em um anel de raio m\u00ednimo 'ring_min' e raio m\u00e1ximo 'ring_max'."
     ]
    },
    {
     "cell_type": "code",
     "collapsed": false,
     "input": [
      "def outside_points(radius_min=1, radius_max=2, dim=2, num=100):\n",
      "    num_inside = 0\n",
      "    points = []\n",
      "    \n",
      "    while num_inside < num:\n",
      "        orig = -radius_max*np.ones((num - num_inside, dim))\n",
      "        rs = 2*radius_max*np.random.random((num - num_inside, dim))\n",
      "        rs = orig + rs\n",
      "        inside_rs = filter(lambda x:  radius_min < np.sqrt(np.sum(x**2)) <= radius_max, rs)\n",
      "        points += inside_rs\n",
      "        num_inside += len(inside_rs)\n",
      "    return np.array(points)\n",
      "\n",
      "negative_examples = outside_points(radius_min=1, radius_max=5, dim=5, num=20)\n",
      "negative_examples"
     ],
     "language": "python",
     "metadata": {},
     "outputs": [
      {
       "metadata": {},
       "output_type": "pyout",
       "prompt_number": 391,
       "text": [
        "array([[-0.52433465,  0.29655509,  1.54320786, -1.89144456,  4.11488823],\n",
        "       [ 1.12236462, -0.83730132,  3.0200522 , -0.39366593, -0.55809002],\n",
        "       [ 0.20012323,  0.11111317, -1.77806436, -4.50149358,  0.29279529],\n",
        "       [-1.23749345, -1.50249665, -2.7670737 ,  2.51041296,  0.66611808],\n",
        "       [ 0.40030981, -2.25998368, -1.01207468,  2.57118178, -3.16410529],\n",
        "       [-2.8502464 ,  0.97454599,  0.40601016,  3.61709135,  1.0512035 ],\n",
        "       [-2.46018971, -2.97971884, -2.12404212,  0.99018643,  1.34153287],\n",
        "       [ 0.02973964,  2.71450124, -1.61188375, -1.02930032, -3.71586091],\n",
        "       [-0.21251176,  0.27003626,  1.38051739,  4.26135904,  2.16160392],\n",
        "       [-0.85773968, -2.58629407,  0.39473496,  0.42562011, -4.02929858],\n",
        "       [-2.33906828, -0.81223432, -0.44574332,  0.57632348, -0.98035833],\n",
        "       [-0.34966259, -0.98936505,  3.03906023, -2.07143658, -0.80810774],\n",
        "       [ 2.8509463 ,  1.92012568, -2.97619127,  1.24406106, -0.51882408],\n",
        "       [ 0.76720118,  1.63168309, -0.3093555 ,  3.17934712, -2.54728322],\n",
        "       [-0.70142075,  2.08566466,  3.93762729, -0.09237518,  1.68462572],\n",
        "       [-0.75087583,  3.29757501,  1.77005817,  0.85428478, -2.95732359],\n",
        "       [ 1.15789714, -0.71956162,  1.17664151,  3.71162004, -2.12451339],\n",
        "       [-2.74543666,  2.05586165, -0.8643639 ,  0.05750147,  1.20978701],\n",
        "       [-1.47770441, -2.52408786, -1.57585762,  1.03653914, -0.82491052],\n",
        "       [ 0.78749679,  0.44016174, -0.08460526,  2.65652355,  3.01859425]])"
       ]
      }
     ],
     "prompt_number": 391
    },
    {
     "cell_type": "markdown",
     "metadata": {},
     "source": [
      "Confere que todos os pontos est\u00e3o dentro do anel:"
     ]
    },
    {
     "cell_type": "code",
     "collapsed": false,
     "input": [
      "for i, ex in enumerate(negative_examples):\n",
      "    print i, 1 < np.sqrt(sum(ex**2)) <= 5"
     ],
     "language": "python",
     "metadata": {},
     "outputs": [
      {
       "output_type": "stream",
       "stream": "stdout",
       "text": [
        "0 True\n",
        "1 True\n",
        "2 True\n",
        "3 True\n",
        "4 True\n",
        "5 True\n",
        "6 True\n",
        "7 True\n",
        "8 True\n",
        "9 True\n",
        "10 True\n",
        "11 True\n",
        "12 True\n",
        "13 True\n",
        "14 True\n",
        "15 True\n",
        "16 True\n",
        "17 True\n",
        "18 True\n",
        "19 True\n"
       ]
      }
     ],
     "prompt_number": 392
    },
    {
     "cell_type": "heading",
     "level": 1,
     "metadata": {},
     "source": [
      "Problema 4"
     ]
    },
    {
     "cell_type": "code",
     "collapsed": false,
     "input": [
      "examples4 = [([1,0,0,1,1,1,1], True),\n",
      "             ([1,0,1,1,1,0,1], True),\n",
      "             ([1,0,1,1,0,0,1], True),\n",
      "             ([0,1,1,0,1,1,0], False)]"
     ],
     "language": "python",
     "metadata": {},
     "outputs": [],
     "prompt_number": 71
    },
    {
     "cell_type": "code",
     "collapsed": false,
     "input": [
      "from operator import and_\n",
      "\n",
      "def calc_U(ex, U=set()):\n",
      "    if not U:\n",
      "        U = set(range(2*len(ex)))\n",
      "    for i in range(len(ex)):\n",
      "        if ex[i] == 1:\n",
      "            if 2*i + 1 in U:\n",
      "                U.remove(2*i + 1)\n",
      "        else:\n",
      "            if 2*i in U:\n",
      "                U.remove(2*i)\n",
      "    return U\n",
      "\n",
      "def create_h(examples):\n",
      "    U = set()\n",
      "    for ex, kind in examples:\n",
      "        if kind == True:\n",
      "            U = calc_U(ex, U)\n",
      "    return lambda x: reduce(and_, [x[u/2] == 1 if u % 2 == 0 else x[u/2] == 0 for u in U])\n"
     ],
     "language": "python",
     "metadata": {},
     "outputs": [],
     "prompt_number": 72
    },
    {
     "cell_type": "code",
     "collapsed": false,
     "input": [
      "h = create_h(examples4)"
     ],
     "language": "python",
     "metadata": {},
     "outputs": [],
     "prompt_number": 73
    },
    {
     "cell_type": "code",
     "collapsed": false,
     "input": [
      "for ex, kind in examples4:\n",
      "    print \"Classifica\u00e7\u00e3o correta para o exemplo {}?\\n{}\\n\".format(ex, h(ex) == kind)"
     ],
     "language": "python",
     "metadata": {},
     "outputs": [
      {
       "output_type": "stream",
       "stream": "stdout",
       "text": [
        "Classifica\u00e7\u00e3o correta para o exemplo [1, 0, 0, 1, 1, 1, 1]?\n",
        "True\n",
        "\n",
        "Classifica\u00e7\u00e3o correta para o exemplo [1, 0, 1, 1, 1, 0, 1]?\n",
        "True\n",
        "\n",
        "Classifica\u00e7\u00e3o correta para o exemplo [1, 0, 1, 1, 0, 0, 1]?\n",
        "True\n",
        "\n",
        "Classifica\u00e7\u00e3o correta para o exemplo [0, 1, 1, 0, 1, 1, 0]?\n",
        "True\n",
        "\n"
       ]
      }
     ],
     "prompt_number": 74
    },
    {
     "cell_type": "heading",
     "level": 1,
     "metadata": {},
     "source": [
      "Problema 5"
     ]
    },
    {
     "cell_type": "markdown",
     "metadata": {},
     "source": [
      "Podemos representar como uma tabela verdade uma fun\u00e7\u00e3o booleana $f : B^N \\rightarrow B$ de N vari\u00e1veis booleanas:"
     ]
    },
    {
     "cell_type": "markdown",
     "metadata": {},
     "source": [
      "<table>\n",
      "<thead>\n",
      "<th>$x_1$</th><th>$x_2$</th><th> ...</th><th> $x_n$</th><th> $y$</th>\n",
      "</thead>\n",
      "<tbody>\n",
      "<tr>\n",
      "<td>0 </td> <td>0</td> <td>...</td><td>0</td><td>1</td>\n",
      "</tr>\n",
      "<tr>\n",
      "<td colspan=\"5\">...</td>\n",
      "</tr>\n",
      "<tr>\n",
      "<td>1 </td> <td>1</td> <td>...</td><td>1</td><td>0</td>\n",
      "</tr>\n",
      "</tbody>\n",
      "</table>\n"
     ]
    },
    {
     "cell_type": "markdown",
     "metadata": {},
     "source": [
      "Por exemplo, se tiv\u00e9ssemo a fun\u00e7\u00e3o AND (e l\u00f3gico) de duas vari\u00e1veis, poder\u00edamos represent\u00e1-la como:"
     ]
    },
    {
     "cell_type": "markdown",
     "metadata": {},
     "source": [
      "<table>\n",
      "<thead>\n",
      "<th>$x_1$</th><th>$x_2$</th><th> $y$</th>\n",
      "</thead>\n",
      "<tbody>\n",
      "<tr>\n",
      "<td>0 </td> <td>0</td><td>0</td>\n",
      "</tr>\n",
      "<tr>\n",
      "<td>0 </td> <td>1</td><td>0</td>\n",
      "</tr>\n",
      "<tr>\n",
      "<td>1 </td> <td>0</td><td>0</td>\n",
      "</tr>\n",
      "<tr>\n",
      "<td>1 </td> <td>1</td><td>1</td>\n",
      "</tr>\n",
      "</tbody>\n",
      "</table>"
     ]
    },
    {
     "cell_type": "markdown",
     "metadata": {},
     "source": [
      "Podemos tamb\u00e9m representar uma fun\u00e7\u00e3o booleana como um circuito l\u00f3gico com portas l\u00f3gicas como nos seguintes exemplos:"
     ]
    },
    {
     "cell_type": "code",
     "collapsed": false,
     "input": [
      "Image('./dois_exemplos.png')"
     ],
     "language": "python",
     "metadata": {},
     "outputs": [
      {
       "metadata": {},
       "output_type": "pyout",
       "png": "[encoded data removed]",
       "prompt_number": 5,
       "text": [
        "<IPython.core.display.Image at 0x4a5e110>"
       ]
      }
     ],
     "prompt_number": 5
    },
    {
     "cell_type": "markdown",
     "metadata": {},
     "source": [
      "E finalmente podemos representar a fun\u00e7\u00e3o num reticulado booleano, representando o valor da fun\u00e7\u00e3o em um determinado v\u00e9rtice de acordo com a cor do v\u00e9rtice. Por exemplo o seguinte gr\u00e1fico de uma fun\u00e7\u00e3o AND de tr\u00eas vari\u00e1veis:"
     ]
    },
    {
     "cell_type": "code",
     "collapsed": false,
     "input": [
      "Image('./3and.png')"
     ],
     "language": "python",
     "metadata": {},
     "outputs": [
      {
       "metadata": {},
       "output_type": "pyout",
       "png": "[encoded data removed]",
       "prompt_number": 394,
       "text": [
        "<IPython.core.display.Image at 0x116c8390>"
       ]
      }
     ],
     "prompt_number": 394
    },
    {
     "cell_type": "heading",
     "level": 1,
     "metadata": {},
     "source": [
      "Problema 6"
     ]
    },
    {
     "cell_type": "code",
     "collapsed": false,
     "input": [
      "# w*x + b >= 0   \n",
      "# x >= theta\n",
      "\n",
      "def calc_perceptron(theta, lower=True, y=(0,1)):\n",
      "    if lower:\n",
      "        return lambda x: y[1] if x >= theta else y[0]\n",
      "    else:\n",
      "        return lambda x: y[1] if x > theta else y[0]"
     ],
     "language": "python",
     "metadata": {},
     "outputs": [],
     "prompt_number": 10
    },
    {
     "cell_type": "code",
     "collapsed": false,
     "input": [
      "p = calc_perceptron(3.14)\n",
      "x = linspace(0,10, 500)\n",
      "yax = plt.gca()\n",
      "yax.set_ylim(0,1.2)\n",
      "axvline(3.14, color='r')\n",
      "plot(x, map(p,x))"
     ],
     "language": "python",
     "metadata": {},
     "outputs": [
      {
       "metadata": {},
       "output_type": "pyout",
       "prompt_number": 52,
       "text": [
        "[<matplotlib.lines.Line2D at 0x5ffd750>]"
       ]
      },
      {
       "metadata": {},
       "output_type": "display_data",
       "png": "[encoded data removed]",
       "text": [
        "<matplotlib.figure.Figure at 0x5edbe90>"
       ]
      }
     ],
     "prompt_number": 52
    },
    {
     "cell_type": "heading",
     "level": 1,
     "metadata": {},
     "source": [
      "Problema 7"
     ]
    },
    {
     "cell_type": "code",
     "collapsed": false,
     "input": [
      "def calc_perceptrons(theta1, theta2):\n",
      "    p1 = calc_perceptron(theta1)\n",
      "    p2 = calc_perceptron(theta2, lower=False, y=(1,0))\n",
      "    return lambda x: p1(x) * p2(x)"
     ],
     "language": "python",
     "metadata": {},
     "outputs": [],
     "prompt_number": 12
    },
    {
     "cell_type": "code",
     "collapsed": false,
     "input": [
      "ps = calc_perceptrons(3,5)\n",
      "x = linspace(0,9,500)\n",
      "yax = plt.gca()\n",
      "yax.set_ylim((0, 1.2))\n",
      "plt.plot(x, map(ps,x))\n"
     ],
     "language": "python",
     "metadata": {},
     "outputs": [
      {
       "metadata": {},
       "output_type": "pyout",
       "prompt_number": 51,
       "text": [
        "[<matplotlib.lines.Line2D at 0x69df1d0>]"
       ]
      },
      {
       "metadata": {},
       "output_type": "display_data",
       "png": "[encoded data removed]",
       "text": [
        "<matplotlib.figure.Figure at 0x6000910>"
       ]
      }
     ],
     "prompt_number": 51
    },
    {
     "cell_type": "heading",
     "level": 1,
     "metadata": {},
     "source": [
      "Problema 8"
     ]
    },
    {
     "cell_type": "markdown",
     "metadata": {},
     "source": [
      "Existem $3^k$ mon\u00f4mios com pelo menos $k$ literais. Poderemos ter ent\u00e3o no m\u00e1ximo $3^{nk}$ combina\u00e7\u00f5es de $n$ mon\u00f4mios. Assim\n",
      "teremos:\n",
      "\n",
      "$|H| = 3^{nk}$\n",
      "\n",
      "$m_0(\\epsilon, \\delta) = \\frac{1}{\\epsilon} log \\frac{|H|}{\\delta} = \\frac{1}{\\epsilon} (nk log3 + log\\frac{1}{\\delta})$"
     ]
    },
    {
     "cell_type": "heading",
     "level": 1,
     "metadata": {},
     "source": [
      "Problema 9"
     ]
    },
    {
     "cell_type": "code",
     "collapsed": false,
     "input": [
      "def make_rand_points(alpha, xs):\n",
      "    bs = np.random.random(len(xs))\n",
      "    ys = xs*alpha + bs\n",
      "    return ys"
     ],
     "language": "python",
     "metadata": {},
     "outputs": [],
     "prompt_number": 75
    },
    {
     "cell_type": "code",
     "collapsed": false,
     "input": [
      "num_points = 20\n",
      "xs = np.linspace(0.1, 1, num_points)\n",
      "ys = make_rand_points(-2, xs)"
     ],
     "language": "python",
     "metadata": {},
     "outputs": [],
     "prompt_number": 94
    },
    {
     "cell_type": "code",
     "collapsed": false,
     "input": [
      "plot(ys, marker='o', ls='')"
     ],
     "language": "python",
     "metadata": {},
     "outputs": [
      {
       "metadata": {},
       "output_type": "pyout",
       "prompt_number": 95,
       "text": [
        "[<matplotlib.lines.Line2D at 0x4931c10>]"
       ]
      },
      {
       "metadata": {},
       "output_type": "display_data",
       "png": "[encoded data removed]",
       "text": [
        "<matplotlib.figure.Figure at 0x4b146d0>"
       ]
      }
     ],
     "prompt_number": 95
    },
    {
     "cell_type": "code",
     "collapsed": false,
     "input": [
      "A = np.vstack([xs, np.ones(len(xs))]).T\n",
      "alpha, beta = np.linalg.lstsq(A, ys)[0]"
     ],
     "language": "python",
     "metadata": {},
     "outputs": [],
     "prompt_number": 141
    },
    {
     "cell_type": "code",
     "collapsed": false,
     "input": [
      "plot(xs, ys, 'o', label='Dados originais', markersize=10)\n",
      "plot(xs, alpha*xs + beta, 'r', label='Reta ajustada')\n",
      "legend()\n",
      "show()"
     ],
     "language": "python",
     "metadata": {},
     "outputs": [
      {
       "metadata": {},
       "output_type": "display_data",
       "png": "[encoded data removed]",
       "text": [
        "<matplotlib.figure.Figure at 0x49de9d0>"
       ]
      }
     ],
     "prompt_number": 143
    },
    {
     "cell_type": "heading",
     "level": 2,
     "metadata": {},
     "source": [
      "Parabolic curve fitting"
     ]
    },
    {
     "cell_type": "code",
     "collapsed": false,
     "input": [
      "xp = np.linspace(-4, 4, 10)\n",
      "\n",
      "def random_parabole(a, b, max_noise, xs):\n",
      "    ys = a*xs**2 + b*xs + max_noise*np.random.random(xs.shape[0])\n",
      "    return ys\n",
      "\n",
      "yp = random_parabole(-10, 5, 40, xp)\n"
     ],
     "language": "python",
     "metadata": {},
     "outputs": [],
     "prompt_number": 205
    },
    {
     "cell_type": "code",
     "collapsed": false,
     "input": [
      "plot(xp, yp, 'o')"
     ],
     "language": "python",
     "metadata": {},
     "outputs": [
      {
       "metadata": {},
       "output_type": "pyout",
       "prompt_number": 206,
       "text": [
        "[<matplotlib.lines.Line2D at 0x79f8c90>]"
       ]
      },
      {
       "metadata": {},
       "output_type": "display_data",
       "png": "[encoded data removed]",
       "text": [
        "<matplotlib.figure.Figure at 0x7615210>"
       ]
      }
     ],
     "prompt_number": 206
    },
    {
     "cell_type": "markdown",
     "metadata": {},
     "source": [
      "Par\u00e2metros ajustados pelo m\u00e9todo do m\u00ednimo quadrado para um polin\u00f4mio do segundo grau no conjunto de pares de pontos (xs,ys):"
     ]
    },
    {
     "cell_type": "code",
     "collapsed": false,
     "input": [
      "c = np.polyfit(xp, yp, 2)\n",
      "c"
     ],
     "language": "python",
     "metadata": {},
     "outputs": [
      {
       "metadata": {},
       "output_type": "pyout",
       "prompt_number": 207,
       "text": [
        "array([-8.38287542,  6.46389473,  4.60481759])"
       ]
      }
     ],
     "prompt_number": 207
    },
    {
     "cell_type": "code",
     "collapsed": false,
     "input": [
      "pol = np.poly1d(c)"
     ],
     "language": "python",
     "metadata": {},
     "outputs": [],
     "prompt_number": 208
    },
    {
     "cell_type": "code",
     "collapsed": false,
     "input": [
      "plot(xp, yp, '.', xp, pol(xp), '-')"
     ],
     "language": "python",
     "metadata": {},
     "outputs": [
      {
       "metadata": {},
       "output_type": "pyout",
       "prompt_number": 209,
       "text": [
        "[<matplotlib.lines.Line2D at 0x7c120d0>,\n",
        " <matplotlib.lines.Line2D at 0x7c12310>]"
       ]
      },
      {
       "metadata": {},
       "output_type": "display_data",
       "png": "[encoded data removed]",
       "text": [
        "<matplotlib.figure.Figure at 0x762a110>"
       ]
      }
     ],
     "prompt_number": 209
    },
    {
     "cell_type": "heading",
     "level": 1,
     "metadata": {},
     "source": [
      "Problema 10"
     ]
    },
    {
     "cell_type": "heading",
     "level": 2,
     "metadata": {},
     "source": [
      "Parte 1"
     ]
    },
    {
     "cell_type": "markdown",
     "metadata": {},
     "source": [
      "Primeiro vamos criar os pontos acima e abaixo de uma reta, dados os par\u00e2metros que definem a reta. Para isso iremos aplicar um ru\u00eddo de tamanho m\u00e1ximo $\\gamma$ para classe A e um ru\u00eddo negativo de tamanho m\u00e1ximo $-\\gamma$ para a classe B."
     ]
    },
    {
     "cell_type": "code",
     "collapsed": false,
     "input": [
      "def make_line(a, b):\n",
      "    ''' Retorna uma fun\u00e7\u00e3o f(x) = a*x + b '''\n",
      "    def reta(x):\n",
      "        return a*x + b\n",
      "    return np.vectorize(reta)"
     ],
     "language": "python",
     "metadata": {},
     "outputs": [],
     "prompt_number": 10
    },
    {
     "cell_type": "code",
     "collapsed": false,
     "input": [
      "r = make_line(3, 10)\n",
      "x = np.linspace(0, 40)\n",
      "gamma = 30\n",
      "margin = 10"
     ],
     "language": "python",
     "metadata": {},
     "outputs": [],
     "prompt_number": 58
    },
    {
     "cell_type": "code",
     "collapsed": false,
     "input": [
      "# Cria pontos da classe A\n",
      "\n",
      "a_points = r(x) + gamma*np.random.random(len(x)) + margin"
     ],
     "language": "python",
     "metadata": {},
     "outputs": [],
     "prompt_number": 59
    },
    {
     "cell_type": "code",
     "collapsed": false,
     "input": [
      "# Cria pontos da classe B\n",
      "\n",
      "b_points = r(x) - gamma*np.random.random(len(x)) - margin"
     ],
     "language": "python",
     "metadata": {},
     "outputs": [],
     "prompt_number": 60
    },
    {
     "cell_type": "code",
     "collapsed": false,
     "input": [
      "scatter(x, a_points)\n",
      "scatter(x, b_points)\n",
      "plot(x, r(x))\n"
     ],
     "language": "python",
     "metadata": {},
     "outputs": [
      {
       "metadata": {},
       "output_type": "pyout",
       "prompt_number": 61,
       "text": [
        "[<matplotlib.lines.Line2D at 0x78276d0>]"
       ]
      },
      {
       "metadata": {},
       "output_type": "display_data",
       "png": "[encoded data removed]",
       "text": [
        "<matplotlib.figure.Figure at 0x527be90>"
       ]
      }
     ],
     "prompt_number": 61
    },
    {
     "cell_type": "markdown",
     "metadata": {},
     "source": [
      "Para encontrar o hiperplano que melhor separa tais pontos, vamos utilizar uma biblioteca de optimiza\u00e7\u00e3o quadr\u00e1tica e mapear o problema acima para a forma [dual](https://en.wikipedia.org/wiki/Support_vector_machine#Dual_form). Para a resolu\u00e7\u00e3o do problema de optimiza\u00e7\u00e3o quadr\u00e1tica utilizei a fun\u00e7\u00e3o [qp](http://cvxopt.org/userguide/coneprog.html#quadratic-programming) da biblioteca [CVXOPT](http://cvxopt.org/) do Python."
     ]
    },
    {
     "cell_type": "code",
     "collapsed": false,
     "input": [
      "from cvxopt import matrix, solvers"
     ],
     "language": "python",
     "metadata": {},
     "outputs": [],
     "prompt_number": 62
    },
    {
     "cell_type": "code",
     "collapsed": false,
     "input": [
      "P = matrix(np.diag([1.0,1,0]))\n",
      "q = matrix([0.0]*3)\n",
      "b1 = np.array([map(float, b) for b in zip(x, a_points)])\n",
      "b2 = np.array([map(float, b) for b in zip(x, b_points)])\n",
      "h = matrix(-1*np.ones(b1.shape[0] + b2.shape[0]))\n",
      "G1 = np.column_stack([b1, np.ones(b1.shape[0])])\n",
      "G2 = -1.0*np.column_stack([b2, np.ones(b2.shape[0])])\n",
      "G = matrix(np.vstack([G1, G2]))\n",
      "\n",
      "try:\n",
      "    sol = solvers.qp(P, q, G, h)\n",
      "except:\n",
      "    pass\n",
      "\n",
      "if sol['status'] == 'optimal':\n",
      "    w = np.array(sol['x']).reshape((1,3))[0]\n",
      "    w_mod = np.sqrt(w.T.dot(w))"
     ],
     "language": "python",
     "metadata": {},
     "outputs": [
      {
       "output_type": "stream",
       "stream": "stdout",
       "text": [
        "     pcost       dcost       gap    pres   dres\n",
        " 0:  6.2258e-03  2.9228e+01  2e+02  2e+00  4e+03\n",
        " 1:  4.9838e-02 -2.6749e+01  4e+01  3e-01  6e+02\n",
        " 2:  6.9644e-02 -1.2563e+00  1e+00  1e-02  2e+01\n",
        " 3:  6.5082e-02  2.2482e-02  4e-02  1e-15  4e-15\n",
        " 4:  4.6520e-02  3.6547e-02  1e-02  9e-16  3e-14\n",
        " 5:  4.5782e-02  4.0995e-02  5e-03  1e-15  1e-14\n",
        " 6:  4.4929e-02  4.4847e-02  8e-05  1e-15  2e-14\n",
        " 7:  4.4909e-02  4.4908e-02  8e-07  1e-15  3e-14\n",
        " 8:  4.4908e-02  4.4908e-02  8e-09  8e-16  3e-14\n",
        "Optimal solution found.\n"
       ]
      }
     ],
     "prompt_number": 74
    },
    {
     "cell_type": "code",
     "collapsed": false,
     "input": [
      "# Calcula os par\u00e2metros da reta encontrados pelo m\u00e9todo de optimiza\u00e7\u00e3o quadr\u00e1tica\n",
      "a = - w[0] / w[1]\n",
      "b = - w[2] / w[1]\n",
      "yspace = a * x + b \n",
      "b1 = (1 - w[2]) / w[1]\n",
      "b2 = (- 1 - w[2]) / w[1]\n",
      "yspace_a = a * x + b1\n",
      "yspace_b = a * x + b2\n",
      "\n",
      "# Desenha reta encontrada\n",
      "plot(x,yspace, 'k-')\n",
      "# Desenha margem superior\n",
      "plot(x,yspace_a, 'k--')\n",
      "# Desenha margem inferior\n",
      "plot(x,yspace_b, 'k--')\n",
      "\n",
      "# Desenha pontos da classe A\n",
      "scatter(x, a_points, c='r')\n",
      "# Desenha pontos da classe B\n",
      "scatter(x, b_points)"
     ],
     "language": "python",
     "metadata": {},
     "outputs": [
      {
       "metadata": {},
       "output_type": "pyout",
       "prompt_number": 135,
       "text": [
        "<matplotlib.collections.PathCollection at 0xbd5c190>"
       ]
      },
      {
       "metadata": {},
       "output_type": "display_data",
       "png": "[encoded data removed]",
       "text": [
        "<matplotlib.figure.Figure at 0xb746a50>"
       ]
      }
     ],
     "prompt_number": 135
    },
    {
     "cell_type": "heading",
     "level": 2,
     "metadata": {},
     "source": [
      "Parte 2"
     ]
    },
    {
     "cell_type": "markdown",
     "metadata": {},
     "source": [
      "Podemos resolver o problema acima tamb\u00e9m mapeando o problema em um problema de optimiza\u00e7\u00e3o quadr\u00e1tica, mas agora considerando que alguns pontos poder\u00e3o ser ru\u00eddos e estarem no lado errado do hiperplano. Para isso utilizamos o m\u00e9todo do SVM com [Soft Margin](https://en.wikipedia.org/wiki/Support_vector_machine#Soft_margin), tamb\u00e9m escrevendo o problema em sua [forma dual](https://en.wikipedia.org/wiki/Support_vector_machine#Dual_form_2) e depois resolvendo via optimiza\u00e7\u00e3o quadr\u00e1tica."
     ]
    },
    {
     "cell_type": "code",
     "collapsed": false,
     "input": [
      "C = 1000\n",
      "d = 2\n",
      "\n",
      "n_data = a_points.shape[0] + b_points.shape[0]\n",
      "h = matrix([-1.0] * n_data + [0] * n_data)\n",
      "q = matrix([0.0] * (d + 1) + [C] * n_data)\n",
      "P = matrix(np.diag(d*[1.0] + (n_data + 1)*[0.0]))\n",
      "ones = np.array([1.0]*a_points.shape[0] + [-1.0]*b_points.shape[0]).reshape((n_data, 1))\n",
      "V1 = np.hstack([np.vstack([zip(x, a_points), zip(-x, -b_points)]), ones, -1*np.identity(n_data)])\n",
      "V2 = np.hstack([np.zeros([n_data, d + 1]), -np.identity(n_data)])\n",
      "G = matrix(np.vstack([V1,V2]))\n",
      "\n",
      "try:\n",
      "    sol = solvers.qp(P, q, G, h)\n",
      "except:\n",
      "    pass"
     ],
     "language": "python",
     "metadata": {},
     "outputs": [
      {
       "output_type": "stream",
       "stream": "stdout",
       "text": [
        "     pcost       dcost       gap    pres   dres\n",
        " 0: -9.3973e+07  2.1754e+07  6e+07  2e+03  5e+01\n",
        " 1: -8.2763e+06 -2.2591e+06  5e+06  2e+02  5e+00\n",
        " 2: -6.7197e+04 -4.1322e+04  9e+04  2e+00  5e-02\n",
        " 3:  3.2138e+03 -3.8129e+03  8e+03  1e-02  4e-04\n",
        " 4:  5.9633e+02 -5.3643e+02  1e+03  3e-13  9e-16\n",
        " 5:  8.6107e+01 -7.6156e+01  2e+02  1e-13  4e-16\n",
        " 6:  1.2613e+01 -1.0636e+01  2e+01  4e-14  4e-16\n",
        " 7:  1.9153e+00 -1.4122e+00  3e+00  2e-14  4e-16\n",
        " 8:  3.2034e-01 -1.5195e-01  5e-01  6e-15  6e-16\n",
        " 9:  6.9959e-02  7.8250e-03  6e-02  2e-15  1e-15\n",
        "10:  4.8656e-02  2.6713e-02  2e-02  1e-15  4e-16\n",
        "11:  5.0745e-02  3.0623e-02  2e-02  1e-15  3e-16\n",
        "12:  4.7364e-02  4.3160e-02  4e-03  1e-15  3e-16\n",
        "13:  4.4956e-02  4.4875e-02  8e-05  2e-15  2e-16\n",
        "14:  4.4909e-02  4.4908e-02  8e-07  1e-15  2e-16\n",
        "15:  4.4908e-02  4.4908e-02  8e-09  1e-15  2e-16\n",
        "Optimal solution found.\n"
       ]
      }
     ],
     "prompt_number": 136
    },
    {
     "cell_type": "markdown",
     "metadata": {},
     "source": [
      "A seguir o gr\u00e1fico do hiperplano encontrado e das margens:"
     ]
    },
    {
     "cell_type": "code",
     "collapsed": false,
     "input": [
      "w = sol['x']\n",
      "\n",
      "a = - w[0] / w[1]\n",
      "b = - w[2] / w[1]\n",
      "yspace = a * x + b \n",
      "b1 = (1 - w[2]) / (w[1])\n",
      "b2 = (- 1 - w[2]) / (w[1])\n",
      "yspace_a = a * x + b1\n",
      "yspace_b = a * x + b2\n",
      "\n",
      "plot(x,yspace, 'k-')\n",
      "plot(x,yspace_a, 'k--')\n",
      "plot(x,yspace_b, 'k--')\n",
      "\n",
      "scatter(x, a_points, c='r')\n",
      "scatter(x, b_points)"
     ],
     "language": "python",
     "metadata": {},
     "outputs": [
      {
       "metadata": {},
       "output_type": "pyout",
       "prompt_number": 137,
       "text": [
        "<matplotlib.collections.PathCollection at 0xbf632d0>"
       ]
      },
      {
       "metadata": {},
       "output_type": "display_data",
       "png": "[encoded data removed]",
       "text": [
        "<matplotlib.figure.Figure at 0x85a04d0>"
       ]
      }
     ],
     "prompt_number": 137
    },
    {
     "cell_type": "heading",
     "level": 2,
     "metadata": {},
     "source": [
      "Parte 3"
     ]
    },
    {
     "cell_type": "code",
     "collapsed": false,
     "input": [
      "from sklearn.svm import SVC"
     ],
     "language": "python",
     "metadata": {},
     "outputs": [],
     "prompt_number": 141
    },
    {
     "cell_type": "markdown",
     "metadata": {},
     "source": [
      "Primeiro criamos pontos dentro de um raio 3 (`a_points`) e depois pontos dentro de um anel de raio m\u00ednimo 4 e raio m\u00e1ximo 10 (`b_points`):"
     ]
    },
    {
     "cell_type": "code",
     "collapsed": false,
     "input": [
      "# Classe A\n",
      "a_points = inside_points(3, dim=2, num=100)\n",
      "\n",
      "# Classe B\n",
      "b_points = outside_points(radius_min=4, radius_max=10, dim=2, num=100)"
     ],
     "language": "python",
     "metadata": {},
     "outputs": [],
     "prompt_number": 377
    },
    {
     "cell_type": "markdown",
     "metadata": {},
     "source": [
      "Visualizamos os pontos criados:"
     ]
    },
    {
     "cell_type": "code",
     "collapsed": false,
     "input": [
      "scatter(a_points[:,0], a_points[:,1])\n",
      "scatter(b_points[:,0], b_points[:,1], c='r')\n",
      "xlim(-10,10)\n",
      "ylim(-10,10)"
     ],
     "language": "python",
     "metadata": {},
     "outputs": [
      {
       "metadata": {},
       "output_type": "pyout",
       "prompt_number": 378,
       "text": [
        "(-10, 10)"
       ]
      },
      {
       "metadata": {},
       "output_type": "display_data",
       "png": "[encoded data removed]",
       "text": [
        "<matplotlib.figure.Figure at 0x10ca6b90>"
       ]
      }
     ],
     "prompt_number": 378
    },
    {
     "cell_type": "markdown",
     "metadata": {},
     "source": [
      "Utilizei a fun\u00e7\u00e3o SVM com o kernel RBF da biblioteca [Scikit Learn](http://scikit-learn.org/dev/modules/svm.html) do Python para achar o hiperplano e superf\u00edcie de decis\u00e3o para os pontos criados acima:"
     ]
    },
    {
     "cell_type": "code",
     "collapsed": false,
     "input": [
      "X_data = np.vstack([a_points, b_points])\n",
      "Y_data = np.concatenate([np.zeros(len(a_points)), np.ones(len(b_points))])\n",
      "clf = SVC(C=1.0,gamma=1.0)\n",
      "clf.fit(X_data, Y_data)"
     ],
     "language": "python",
     "metadata": {},
     "outputs": [
      {
       "metadata": {},
       "output_type": "pyout",
       "prompt_number": 380,
       "text": [
        "SVC(C=1.0, cache_size=200, class_weight=None, coef0=0.0, degree=3, gamma=1.0,\n",
        "  kernel='rbf', max_iter=-1, probability=False, shrinking=True, tol=0.001,\n",
        "  verbose=False)"
       ]
      }
     ],
     "prompt_number": 380
    },
    {
     "cell_type": "markdown",
     "metadata": {},
     "source": [
      "E finalmente podemos visualizar a superf\u00edcie de decis\u00e3o:"
     ]
    },
    {
     "cell_type": "code",
     "collapsed": false,
     "input": [
      "npontos = len(a_points)\n",
      "xspace = np.linspace(-10, 10, npontos)\n",
      "yspace = np.linspace(-10, 10, npontos)\n",
      "xx, yy = np.meshgrid(xspace, yspace)\n",
      "Z = clf.decision_function(np.c_[xx.ravel(), yy.ravel()])\n",
      "Z = Z.reshape(xx.shape)\n",
      "sc = plt.pcolormesh(xx, yy, Z, cmap=plt.cm.jet)\n",
      "plt.colorbar(sc)\n"
     ],
     "language": "python",
     "metadata": {},
     "outputs": [
      {
       "metadata": {},
       "output_type": "pyout",
       "prompt_number": 393,
       "text": [
        "<matplotlib.colorbar.Colorbar instance at 0x11d8f1b8>"
       ]
      },
      {
       "metadata": {},
       "output_type": "display_data",
       "png": "[encoded data removed]",
       "text": [
        "<matplotlib.figure.Figure at 0x11a67350>"
       ]
      }
     ],
     "prompt_number": 393
    }
   ],
   "metadata": {}
  }
 ]
}