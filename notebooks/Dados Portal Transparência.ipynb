{
 "metadata": {
  "name": "",
  "signature": "sha256:f71f586a566cd5821ea8a26d4cc4116bfb870215108e1d8af4b9017954fa44aa"
 },
 "nbformat": 3,
 "nbformat_minor": 0,
 "worksheets": [
  {
   "cells": [
    {
     "cell_type": "code",
     "collapsed": false,
     "input": [
      "import pandas as pd"
     ],
     "language": "python",
     "metadata": {},
     "outputs": [],
     "prompt_number": 165
    },
    {
     "cell_type": "code",
     "collapsed": false,
     "input": [
      "dados = pd.read_csv('201401_Transferencias.csv', delimiter='\\t+', decimal='.', thousands=',')"
     ],
     "language": "python",
     "metadata": {},
     "outputs": [],
     "prompt_number": 166
    },
    {
     "cell_type": "code",
     "collapsed": false,
     "input": [
      "dados[dados['Nome Municipio'] == 'BELO HORIZONTE']['Valor Parcela'].sum()"
     ],
     "language": "python",
     "metadata": {},
     "outputs": [
      {
       "metadata": {},
       "output_type": "pyout",
       "prompt_number": 167,
       "text": [
        "244240718.58999994"
       ]
      }
     ],
     "prompt_number": 167
    },
    {
     "cell_type": "code",
     "collapsed": false,
     "input": [
      "h= defaultdict(int)\n",
      "\n",
      "for d in dados[dados['Nome Municipio'] == 'BELO HORIZONTE']['Nome Sub Funcao']:\n",
      "    h[d] += 1"
     ],
     "language": "python",
     "metadata": {},
     "outputs": [],
     "prompt_number": 168
    },
    {
     "cell_type": "code",
     "collapsed": false,
     "input": [
      "h.items()"
     ],
     "language": "python",
     "metadata": {},
     "outputs": [
      {
       "metadata": {},
       "output_type": "pyout",
       "prompt_number": 169,
       "text": [
        "[('Suporte Profil\\xe1tico e Terap\\xeautico', 1),\n",
        " ('Assist\\xeancia Hospitalar e Ambulatorial', 82),\n",
        " ('Ensino Superior', 6),\n",
        " ('Desenvolvimento Tecnol\\xf3gico e Engenharia', 1),\n",
        " ('Aten\\xe7\\xe3o B\\xe1sica', 5),\n",
        " ('Educa\\xe7\\xe3o Infantil', 5),\n",
        " ('Vigil\\xe2ncia Epidemiol\\xf3gica', 1),\n",
        " ('Saneamento B\\xe1sico Urbano', 2),\n",
        " ('Transfer\\xeancias', 8)]"
       ]
      }
     ],
     "prompt_number": 169
    },
    {
     "cell_type": "code",
     "collapsed": false,
     "input": [],
     "language": "python",
     "metadata": {},
     "outputs": []
    }
   ],
   "metadata": {}
  }
 ]
}