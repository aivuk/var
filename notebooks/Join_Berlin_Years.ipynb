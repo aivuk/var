{
 "cells": [
  {
   "cell_type": "code",
   "execution_count": 1,
   "metadata": {},
   "outputs": [],
   "source": [
    "import pandas as pd"
   ]
  },
  {
   "cell_type": "code",
   "execution_count": 2,
   "metadata": {},
   "outputs": [
    {
     "name": "stdout",
     "output_type": "stream",
     "text": [
      "2015_Ist.csv  hpl1415.csv  hpl1819.csv\n",
      "2016_Ist.csv  hpl1617.csv  Untitled.ipynb\n"
     ]
    }
   ],
   "source": [
    "!ls"
   ]
  },
  {
   "cell_type": "code",
   "execution_count": 64,
   "metadata": {},
   "outputs": [],
   "source": [
    "ist2015 = pd.read_csv('2015_Ist.csv')\n",
    "ist2016 = pd.read_csv('2016_Ist.csv')\n",
    "plan2015 = pd.read_csv('hpl1415.csv')\n",
    "plan2017= pd.read_csv('hpl1617.csv')\n",
    "plan2019 = pd.read_csv('hpl1819.csv')\n"
   ]
  },
  {
   "cell_type": "code",
   "execution_count": 65,
   "metadata": {},
   "outputs": [],
   "source": [
    "del ist2015['Ansatz']\n",
    "ist2015['Jahr'] = 2015\n",
    "ist2015['BetragTyp'] = 'Ist'\n",
    "ist2015 = ist2015.rename(columns = {'Ist': 'Betrag'})"
   ]
  },
  {
   "cell_type": "code",
   "execution_count": 66,
   "metadata": {},
   "outputs": [],
   "source": [
    "del ist2016['Ansatz']\n",
    "ist2016['Jahr'] = 2016\n",
    "ist2016['BetragTyp'] = 'Ist'\n",
    "ist2016 = ist2016.rename(columns = {'Ist': 'Betrag'})"
   ]
  },
  {
   "cell_type": "code",
   "execution_count": 67,
   "metadata": {},
   "outputs": [],
   "source": [
    "plan2014 = plan2015.rename(columns={'Ansatz 2014 in €': 'Betrag'}).copy()\n",
    "del plan2014['Ansatz 2015 €']\n",
    "plan2014['Jahr'] = 2014\n",
    "plan2014['BetragTyp'] = 'Plan'"
   ]
  },
  {
   "cell_type": "code",
   "execution_count": 68,
   "metadata": {},
   "outputs": [],
   "source": [
    "plan2015 = plan2015.rename(columns={'Ansatz 2015 €': 'Betrag'})\n",
    "del plan2015['Ansatz 2014 in €']\n",
    "plan2015['Jahr'] = 2015\n",
    "plan2015['BetragTyp'] = 'Plan'"
   ]
  },
  {
   "cell_type": "code",
   "execution_count": 69,
   "metadata": {},
   "outputs": [],
   "source": [
    "plan2016 = plan2017.rename(columns={'Ansatz 2016 in €': 'Betrag'}).copy()\n",
    "del plan2016['Ansatz 2017 in €']\n",
    "plan2016['Jahr'] = 2016\n",
    "plan2016['BetragTyp'] = 'Plan'"
   ]
  },
  {
   "cell_type": "code",
   "execution_count": 70,
   "metadata": {},
   "outputs": [],
   "source": [
    "plan2017 = plan2017.rename(columns={'Ansatz 2017 in €': 'Betrag'}).copy()\n",
    "del plan2017['Ansatz 2016 in €']\n",
    "plan2017['Jahr'] = 2017\n",
    "plan2017['BetragTyp'] = 'Plan'"
   ]
  },
  {
   "cell_type": "code",
   "execution_count": 71,
   "metadata": {},
   "outputs": [],
   "source": [
    "plan2018 = plan2019.rename(columns={'Ansatz 2018 in €': 'Betrag'}).copy()\n",
    "del plan2018['Ansatz 2019 in €']\n",
    "plan2018['Jahr'] = 2018\n",
    "plan2018['BetragTyp'] = 'Plan'"
   ]
  },
  {
   "cell_type": "code",
   "execution_count": 74,
   "metadata": {},
   "outputs": [],
   "source": [
    "plan2019 = plan2019.rename(columns={'Ansatz 2019 in €': 'Betrag'})\n",
    "del plan2019['Ansatz 2018 in €']\n",
    "plan2019['Jahr'] = 2019\n",
    "plan2019['BetragTyp'] = 'Plan'"
   ]
  },
  {
   "cell_type": "code",
   "execution_count": 78,
   "metadata": {},
   "outputs": [],
   "source": [
    "all_years = pd.concat([ist2015, ist2016, plan2014, plan2015, plan2016, plan2017, plan2018, plan2019])"
   ]
  },
  {
   "cell_type": "code",
   "execution_count": 80,
   "metadata": {},
   "outputs": [],
   "source": [
    "all_years.to_csv('Berlin-15-19.csv')"
   ]
  },
  {
   "cell_type": "code",
   "execution_count": 83,
   "metadata": {},
   "outputs": [],
   "source": [
    "all_years.to_excel('Berlin-15-19.xlsx')"
   ]
  }
 ],
 "metadata": {
  "kernelspec": {
   "display_name": "Python 3",
   "language": "python",
   "name": "python3"
  },
  "language_info": {
   "codemirror_mode": {
    "name": "ipython",
    "version": 3
   },
   "file_extension": ".py",
   "mimetype": "text/x-python",
   "name": "python",
   "nbconvert_exporter": "python",
   "pygments_lexer": "ipython3",
   "version": "3.6.3"
  }
 },
 "nbformat": 4,
 "nbformat_minor": 2
}
