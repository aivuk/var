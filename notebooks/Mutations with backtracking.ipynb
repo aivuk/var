{
 "cells": [
  {
   "cell_type": "code",
   "execution_count": 22,
   "metadata": {
    "collapsed": true
   },
   "outputs": [],
   "source": [
    "import numpy as np\n",
    "from collections import Counter, defaultdict\n"
   ]
  },
  {
   "cell_type": "markdown",
   "metadata": {},
   "source": [
    "A idéia é a seguinte, estou utilizando um vetor chamado 'classes', onde a primeira dimensão representa o número de classes/tipos de mutantes numa determinada geraçao, e cada classe é representada pelo número de indivíduos nela:\n",
    "\n",
    "```\n",
    "classes[geracao] = {tipo da classe, valor numérico: quantos existem desta classe} \n",
    "```\n",
    "O objeto 'historia', indexado por t, possui como índice uma tupla `(n_i, n_(i+1), total_transicoes)`, onde:\n",
    " \n",
    "```\n",
    " t: Geração \n",
    " n_i  e n_(i+1): classe n_i na geração (t-1) que mudou pra classe n_(i+1) na geração (t+1)\n",
    " total_transicoes: total de transições de n_i pra n_(i+1)\n",
    "```\n",
    "\n",
    " "
   ]
  },
  {
   "cell_type": "code",
   "execution_count": 72,
   "metadata": {
    "collapsed": false
   },
   "outputs": [],
   "source": [
    "historia = []\n",
    "historia.append({(1,1): 100})\n",
    "classes = [{1: 100}]\n",
    "\n",
    "for geracao in range(1,10):\n",
    "    classes.append(defaultdict(int))\n",
    "    historia.append({})\n",
    "    for nome_classe, quantidade_classe in classes[-2].items():\n",
    "        mutacoes = np.random.randint(-3, 3, quantidade_classe)\n",
    "        hist = Counter(mutacoes)\n",
    "        for htipo, hvalor in hist.items():\n",
    "            novo_tipo_classe = nome_classe + htipo\n",
    "            historia[-1][(nome_classe, novo_tipo_classe, hvalor)] = hvalor\n",
    "            classes[-1][novo_tipo_classe] += hvalor"
   ]
  },
  {
   "cell_type": "markdown",
   "metadata": {},
   "source": [
    "# Classes na última geração"
   ]
  },
  {
   "cell_type": "code",
   "execution_count": 73,
   "metadata": {
    "collapsed": false
   },
   "outputs": [
    {
     "name": "stdout",
     "output_type": "stream",
     "text": [
      "Classe 0: 3\n",
      "Classe 1: 2\n",
      "Classe 2: 5\n",
      "Classe 3: 5\n",
      "Classe 4: 2\n",
      "Classe 5: 3\n",
      "Classe 7: 1\n",
      "Classe -13: 2\n",
      "Classe -12: 1\n",
      "Classe -1: 12\n",
      "Classe -10: 2\n",
      "Classe -9: 2\n",
      "Classe -8: 6\n",
      "Classe -7: 9\n",
      "Classe -6: 7\n",
      "Classe -5: 10\n",
      "Classe -4: 13\n",
      "Classe -3: 5\n",
      "Classe -2: 5\n",
      "Classe -11: 5\n"
     ]
    }
   ],
   "source": [
    "for c, c_num  in classes[-1].items():\n",
    "    print \"Classe {}: {}\".format(c, c_num)"
   ]
  },
  {
   "cell_type": "markdown",
   "metadata": {},
   "source": [
    "# Transições na última geração"
   ]
  },
  {
   "cell_type": "code",
   "execution_count": 74,
   "metadata": {
    "collapsed": false
   },
   "outputs": [
    {
     "data": {
      "text/plain": [
       "{(-13, -11, 1): 1,\n",
       " (-11, -13, 2): 2,\n",
       " (-11, -10, 1): 1,\n",
       " (-10, -12, 1): 1,\n",
       " (-10, -8, 2): 2,\n",
       " (-9, -11, 3): 3,\n",
       " (-8, -11, 1): 1,\n",
       " (-8, -7, 1): 1,\n",
       " (-7, -10, 1): 1,\n",
       " (-7, -7, 1): 1,\n",
       " (-7, -6, 1): 1,\n",
       " (-7, -5, 2): 2,\n",
       " (-6, -9, 2): 2,\n",
       " (-6, -6, 2): 2,\n",
       " (-6, -5, 3): 3,\n",
       " (-6, -4, 3): 3,\n",
       " (-5, -8, 4): 4,\n",
       " (-5, -7, 2): 2,\n",
       " (-5, -6, 1): 1,\n",
       " (-5, -5, 1): 1,\n",
       " (-5, -4, 1): 1,\n",
       " (-4, -7, 5): 5,\n",
       " (-4, -6, 1): 1,\n",
       " (-4, -5, 2): 2,\n",
       " (-4, -4, 2): 2,\n",
       " (-4, -3, 2): 2,\n",
       " (-4, -2, 2): 2,\n",
       " (-3, -6, 2): 2,\n",
       " (-3, -5, 1): 1,\n",
       " (-3, -4, 2): 2,\n",
       " (-3, -3, 1): 1,\n",
       " (-3, -2, 2): 2,\n",
       " (-3, -1, 1): 1,\n",
       " (-2, -5, 1): 1,\n",
       " (-2, -4, 1): 1,\n",
       " (-2, -3, 1): 1,\n",
       " (-2, -1, 1): 1,\n",
       " (-1, -4, 4): 4,\n",
       " (-1, -3, 1): 1,\n",
       " (-1, -1, 3): 3,\n",
       " (-1, 0, 1): 1,\n",
       " (0, -1, 1): 1,\n",
       " (0, 0, 2): 2,\n",
       " (0, 1, 2): 2,\n",
       " (0, 2, 1): 1,\n",
       " (1, -2, 1): 1,\n",
       " (1, -1, 3): 3,\n",
       " (1, 2, 1): 1,\n",
       " (1, 3, 2): 2,\n",
       " (2, -1, 3): 3,\n",
       " (2, 4, 1): 1,\n",
       " (3, 3, 2): 2,\n",
       " (3, 5, 2): 2,\n",
       " (4, 2, 3): 3,\n",
       " (5, 4, 1): 1,\n",
       " (6, 3, 1): 1,\n",
       " (8, 5, 1): 1,\n",
       " (9, 7, 1): 1}"
      ]
     },
     "execution_count": 74,
     "metadata": {},
     "output_type": "execute_result"
    }
   ],
   "source": [
    "historia[-1]"
   ]
  },
  {
   "cell_type": "code",
   "execution_count": null,
   "metadata": {
    "collapsed": true
   },
   "outputs": [],
   "source": []
  }
 ],
 "metadata": {
  "kernelspec": {
   "display_name": "Python 2",
   "language": "python",
   "name": "python2"
  },
  "language_info": {
   "codemirror_mode": {
    "name": "ipython",
    "version": 2
   },
   "file_extension": ".py",
   "mimetype": "text/x-python",
   "name": "python",
   "nbconvert_exporter": "python",
   "pygments_lexer": "ipython2",
   "version": "2.7.9"
  }
 },
 "nbformat": 4,
 "nbformat_minor": 0
}
