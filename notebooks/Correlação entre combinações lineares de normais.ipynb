{
 "metadata": {
  "name": "Correla\u00e7\u00e3o entre combina\u00e7\u00f5es lineares de normais"
 },
 "nbformat": 3,
 "nbformat_minor": 0,
 "worksheets": [
  {
   "cells": [
    {
     "cell_type": "markdown",
     "metadata": {},
     "source": [
      "$ x \\sim N(0,1) = \\frac{e^{-\\frac{x^2}{2}}}{\\sqrt{2\\pi}} $\n",
      "\n",
      "$ y \\sim N(0,1) = \\frac{e^{-\\frac{y^2}{2}}}{\\sqrt{2\\pi}} $\n",
      "\n",
      "$ u = x + y $\n",
      "\n",
      "$ v = x - y $\n",
      "\n",
      "Para sabermos a $Corr(u,v) = \\frac{Cov(u,v)}{\\sigma_u\\sigma_v} $, vou primeiro chegar em $p(u)$ e $p(v)$. Primeiro:\n",
      "\n",
      "$ p(u) = \\int_{-\\infty}^{\\infty} p(u - x)p(x)dx $\n",
      "\n",
      "\n",
      "$ = \\int_{-\\infty}^{\\infty} \\frac{e^{-\\frac{(u-x)^2}{2}}}{\\sqrt{2\\pi}} \\frac{e^{-\\frac{x^2}{2}}}{\\sqrt{2\\pi}} dx $\n",
      "\n",
      "e essa parte \u00e9 simples apesar de meio chata, mas basta completar o quadrado. No final vai cair numa outra normal, mas desta vez\n",
      "$N(0, 2)$. Na Wikipedia tem a passagem matem\u00e1tica:\n",
      "\n",
      "http://en.wikipedia.org/wiki/Sum_of_normally_distributed_random_variables\n",
      "\n",
      "Quanto a:\n",
      "\n",
      "$ p(v) = \\int_{-\\infty}^{\\infty} p(v + x)p(x)dx $\n",
      "\n",
      "data tamb\u00e9m $N(0,2)$ (usei o resultado para combina\u00e7\u00f5es lineares de distribui\u00e7\u00f5es normais, veja o exemplo 3 [aqui](http://www.statlect.com/normal_distribution_linear_combinations.htm)). Com isso podemos calcular a covari\u00e2ncia de $u$ com $v$:\n",
      "\n",
      "$ Cov(u,v) = \\mathbb{E} \\left[(u - \\mathbb{E}[u])(v - \\mathbb{E}[v])\\right] $\n",
      "\n",
      "$ = \\mathbb{E}[uv] = \\int_{-\\infty}^{\\infty}\\int_{-\\infty}^{\\infty} uvp(u)p(v)dudv $\n",
      "\n",
      "$ = \\int_{-\\infty}^{\\infty}\\int_{-\\infty}^{\\infty} u\\frac{e^{-\\frac{u^2}{8}}}{\\sqrt{2\\pi}} v\\frac{e^{-\\frac{v^2}{8}}}{\\sqrt{2\\pi}}dudv$ que dar\u00e1 $0$ pois $\\int_{-\\infty}^{\\infty}ue^{-\\frac{u^2}{8}} = 0$.\n",
      "\n",
      "Bom, com certeza existe uma forma mais simples de ver esse resultado, mas a forma acima com certeza \u00e9 a mais bra\u00e7al e pregui\u00e7osa! :^P\n"
     ]
    },
    {
     "cell_type": "code",
     "collapsed": false,
     "input": [
      "import numpy as np"
     ],
     "language": "python",
     "metadata": {},
     "outputs": [],
     "prompt_number": 1
    },
    {
     "cell_type": "code",
     "collapsed": false,
     "input": [
      "x1 = np.random.randn(10000000)\n",
      "y1 = np.random.randn(10000000)\n",
      "u = x1 + y1\n",
      "\n",
      "x2 = np.random.randn(10000000)\n",
      "y2 = np.random.randn(10000000)\n",
      "v = x2 - y2\n",
      "np.mean(u*v)"
     ],
     "language": "python",
     "metadata": {},
     "outputs": [
      {
       "output_type": "pyout",
       "prompt_number": 20,
       "text": [
        "5.0110678896994855e-05"
       ]
      }
     ],
     "prompt_number": 20
    }
   ],
   "metadata": {}
  }
 ]
}