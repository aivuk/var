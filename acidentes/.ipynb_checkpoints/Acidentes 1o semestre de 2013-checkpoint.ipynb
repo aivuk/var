{
 "metadata": {
  "name": ""
 },
 "nbformat": 3,
 "nbformat_minor": 0,
 "worksheets": [
  {
   "cells": [
    {
     "cell_type": "code",
     "collapsed": false,
     "input": [
      "import pandas as pd\n",
      "\n",
      "acidentes = pd.read_csv('2013_acidentes-1o_Semestre.csv', sep=';', parse_dates=[7])\n",
      "veiculos = pd.read_csv('2013_veiculos-1o_Semestre.csv', sep=';') \n",
      "vitimas = pd.read_csv('2013_vitimas-1o_Semestre.csv', sep=';') \n",
      "\n",
      "def make_hist(data, key=None):\n",
      "    hist = {}    \n",
      "    data_values = data[key] if key else data\n",
      "    \n",
      "    for k in data_values:\n",
      "        if not hist.has_key(k):\n",
      "            hist[k] = 1\n",
      "        else:\n",
      "            hist[k] += 1\n",
      "            \n",
      "    return hist"
     ],
     "language": "python",
     "metadata": {},
     "outputs": [],
     "prompt_number": 1
    },
    {
     "cell_type": "heading",
     "level": 1,
     "metadata": {},
     "source": [
      "Acidentes por tipo de ve\u00edculo"
     ]
    },
    {
     "cell_type": "markdown",
     "metadata": {},
     "source": [
      "* AU - Auto \n",
      "* MO - Moto\n",
      "* ON - \u00d4nibus\n",
      "* CA - Caminh\u00e3o\n",
      "* BI - Bicicleta\n",
      "* MT - Moto T\u00e1xi\n",
      "* OF - \u00d4nibus Fretado/Intermunicipal\n",
      "* OU - \u00d4nibus Urbano \n",
      "* MC - Micro\u00f4nibus\n",
      "* VA - Van \n",
      "* VC - Vuc\n",
      "* CM - Caminhonete/Camioneta\n",
      "* CR - Carreta \n",
      "* JI - Jipe\n",
      "* OT - Outros \n",
      "* SI - Sem Informa\u00e7\u00e3o\n",
      "* CO - Carro\u00e7a"
     ]
    },
    {
     "cell_type": "code",
     "collapsed": false,
     "input": [
      "hist_vt = make_hist(veiculos, 'tipo_veiculo')\n",
      "dist_vt_s = sorted(hist_vt.items(), key=lambda x: x[1])\n",
      "bar(range(len(dist_vt_s)), [a[1] for a in dist_vt_s])\n",
      "for i, v in enumerate([x[0] for x in dist_vt_s]):\n",
      "    print i, v"
     ],
     "language": "python",
     "metadata": {},
     "outputs": [
      {
       "output_type": "stream",
       "stream": "stdout",
       "text": [
        "0 JI\n",
        "1 CR\n",
        "2 OT\n",
        "3 CO\n",
        "4 VA\n",
        "5 MC\n",
        "6 BI\n",
        "7 OU\n",
        "8 CA\n",
        "9 SI\n",
        "10 ON\n",
        "11 CM\n",
        "12 MO\n",
        "13 AU\n"
       ]
      },
      {
       "metadata": {},
       "output_type": "display_data",
       "png": "[encoded data removed]",
       "text": [
        "<matplotlib.figure.Figure at 0x421ebd0>"
       ]
      }
     ],
     "prompt_number": 2
    },
    {
     "cell_type": "heading",
     "level": 1,
     "metadata": {},
     "source": [
      "Acidentes por distrito"
     ]
    },
    {
     "cell_type": "code",
     "collapsed": false,
     "input": [
      "hist_dist = make_hist(acidentes, 'distrito')\n",
      "dist_ac_s = sorted(hist_dist.items(), key=lambda x: x[1])\n",
      "bar(range(len(dist_ac_s)),[a[1] for a in dist_ac_s])"
     ],
     "language": "python",
     "metadata": {},
     "outputs": [
      {
       "metadata": {},
       "output_type": "pyout",
       "prompt_number": 3,
       "text": [
        "<Container object of 97 artists>"
       ]
      },
      {
       "metadata": {},
       "output_type": "display_data",
       "png": "[encoded data removed]",
       "text": [
        "<matplotlib.figure.Figure at 0x421e490>"
       ]
      }
     ],
     "prompt_number": 3
    },
    {
     "cell_type": "heading",
     "level": 1,
     "metadata": {},
     "source": [
      "Acidentes por escolaridade"
     ]
    },
    {
     "cell_type": "code",
     "collapsed": false,
     "input": [
      "hist_escolaridade = make_hist(vitimas, 'escolaridade')\n",
      "dist_esc_s = sorted(hist_escolaridade.items(), key=lambda x: x[1])\n",
      "bar(range(len(dist_esc_s)), [a[1] for a in dist_esc_s])\n",
      "xticks(range(len(dist_esc_s)), [a[0] for a in dist_esc_s])"
     ],
     "language": "python",
     "metadata": {},
     "outputs": [
      {
       "metadata": {},
       "output_type": "pyout",
       "prompt_number": 4,
       "text": [
        "([<matplotlib.axis.XTick at 0x4d76350>,\n",
        "  <matplotlib.axis.XTick at 0x4da1e10>,\n",
        "  <matplotlib.axis.XTick at 0x52da950>,\n",
        "  <matplotlib.axis.XTick at 0x52f0c50>,\n",
        "  <matplotlib.axis.XTick at 0x53078d0>,\n",
        "  <matplotlib.axis.XTick at 0x53f0f90>,\n",
        "  <matplotlib.axis.XTick at 0x53f5410>,\n",
        "  <matplotlib.axis.XTick at 0x4c934d0>],\n",
        " <a list of 8 Text xticklabel objects>)"
       ]
      },
      {
       "metadata": {},
       "output_type": "display_data",
       "png": "[encoded data removed]",
       "text": [
        "<matplotlib.figure.Figure at 0x4c95f90>"
       ]
      }
     ],
     "prompt_number": 4
    },
    {
     "cell_type": "markdown",
     "metadata": {},
     "source": [
      "1 - Analfabeto \n",
      "\n",
      "2 - 1\u00ba Grau incompleto \n",
      "\n",
      "3 - 1\u00ba Grau completo \n",
      "\n",
      "4 - 2\u00ba Grau incompleto \n",
      "\n",
      "5 - 2\u00ba Grau completo \n",
      "\n",
      "6 - Superior incompleto \n",
      "\n",
      "7 - Superior completo \n",
      "\n",
      "8 - Sem informa\u00e7\u00f5es"
     ]
    },
    {
     "cell_type": "code",
     "collapsed": false,
     "input": [
      "hist_sexo = make_hist(vitimas, \"sexo\")\n",
      "bar(range(3), hist_sexo.values())\n",
      "xticks(range(3), (\"X\", \"M\", \"F\"))\n",
      "hist_sexo"
     ],
     "language": "python",
     "metadata": {},
     "outputs": [
      {
       "metadata": {},
       "output_type": "pyout",
       "prompt_number": 5,
       "text": [
        "{'F': 5275, 'M': 12429, 'X': 73}"
       ]
      },
      {
       "metadata": {},
       "output_type": "display_data",
       "png": "[encoded data removed]",
       "text": [
        "<matplotlib.figure.Figure at 0x4c952d0>"
       ]
      }
     ],
     "prompt_number": 5
    },
    {
     "cell_type": "heading",
     "level": 1,
     "metadata": {},
     "source": [
      "Tipo da v\u00edtima"
     ]
    },
    {
     "cell_type": "code",
     "collapsed": false,
     "input": [
      "hist_tipo = make_hist(vitimas, \"tipo_vitima\")\n",
      "for t,v in hist_tipo.items():\n",
      "    print t, v"
     ],
     "language": "python",
     "metadata": {},
     "outputs": [
      {
       "output_type": "stream",
       "stream": "stdout",
       "text": [
        "PS 3847\n",
        "SI 72\n",
        "PD 4104\n",
        "CD 9754\n"
       ]
      }
     ],
     "prompt_number": 6
    },
    {
     "cell_type": "markdown",
     "metadata": {},
     "source": [
      "* CD - Condutor \n",
      "* PS - Passageiro\n",
      "* PD - Pedestre\n",
      "* OU - Outros\n",
      "* SI - Sem Informa\u00e7\u00e3o"
     ]
    },
    {
     "cell_type": "heading",
     "level": 1,
     "metadata": {},
     "source": [
      "Uso de \u00e1lcool"
     ]
    },
    {
     "cell_type": "code",
     "collapsed": false,
     "input": [
      "hist_drunk = make_hist(vitimas, \"estado_alcoolizacao\")\n",
      "hist_drunk"
     ],
     "language": "python",
     "metadata": {},
     "outputs": [
      {
       "metadata": {},
       "output_type": "pyout",
       "prompt_number": 7,
       "text": [
        "{'AA': 79, 'BR': 17595, 'SA': 103}"
       ]
      }
     ],
     "prompt_number": 7
    },
    {
     "cell_type": "heading",
     "level": 1,
     "metadata": {},
     "source": [
      "Por dia da semana"
     ]
    },
    {
     "cell_type": "code",
     "collapsed": false,
     "input": [
      "semanal = [x.dayofweek for x in acidentes.data]\n",
      "hist_semanal = make_hist(semanal)\n",
      "bar(range(7), hist_semanal.values())"
     ],
     "language": "python",
     "metadata": {},
     "outputs": [
      {
       "metadata": {},
       "output_type": "pyout",
       "prompt_number": 8,
       "text": [
        "<Container object of 7 artists>"
       ]
      },
      {
       "metadata": {},
       "output_type": "display_data",
       "png": "[encoded data removed]",
       "text": [
        "<matplotlib.figure.Figure at 0x51e64d0>"
       ]
      }
     ],
     "prompt_number": 8
    },
    {
     "cell_type": "heading",
     "level": 1,
     "metadata": {},
     "source": [
      "Por dia do m\u00eas"
     ]
    },
    {
     "cell_type": "code",
     "collapsed": false,
     "input": [
      "mensal = [x.day for x in acidentes.data]\n",
      "hist_mensal = make_hist(mensal)\n",
      "bar(hist_mensal.keys(), hist_mensal.values())"
     ],
     "language": "python",
     "metadata": {},
     "outputs": [
      {
       "metadata": {},
       "output_type": "pyout",
       "prompt_number": 9,
       "text": [
        "<Container object of 25 artists>"
       ]
      },
      {
       "metadata": {},
       "output_type": "display_data",
       "png": "[encoded data removed]",
       "text": [
        "<matplotlib.figure.Figure at 0x421e090>"
       ]
      }
     ],
     "prompt_number": 9
    },
    {
     "cell_type": "heading",
     "level": 1,
     "metadata": {},
     "source": [
      "Habilita\u00e7\u00e3o"
     ]
    },
    {
     "cell_type": "code",
     "collapsed": false,
     "input": [
      "habilitacao = make_hist(veiculos, \"categoria_habilitacao\")\n",
      "habilitacao"
     ],
     "language": "python",
     "metadata": {},
     "outputs": [
      {
       "metadata": {},
       "output_type": "pyout",
       "prompt_number": 10,
       "text": [
        "{'HA': 2392, 'IN': 1131, 'NE': 416, 'SI': 20471}"
       ]
      }
     ],
     "prompt_number": 10
    },
    {
     "cell_type": "markdown",
     "metadata": {},
     "source": [
      "* HA - Habilitado\n",
      "* IN - Inabilitado\n",
      "* PE - Permissionado\n",
      "* NE \u2013 N\u00e3o Exig\u00edvel\n",
      "* SI \u2013 sem Informa\u00e7\u00e3o"
     ]
    },
    {
     "cell_type": "heading",
     "level": 1,
     "metadata": {},
     "source": [
      "Acidentes por idade do condutor"
     ]
    },
    {
     "cell_type": "code",
     "collapsed": false,
     "input": [
      "idade = make_hist(vitimas, 'idade')\n",
      "del(idade['SI'])\n",
      "idade_tp = [(int(k), v) for k,v in idade.items()]\n",
      "idade_s = sorted(idade_tp, key=lambda x: x[0])\n",
      "plot(map (lambda x: x[0], idade_s), map (lambda x: x[1], idade_s))"
     ],
     "language": "python",
     "metadata": {},
     "outputs": [
      {
       "metadata": {},
       "output_type": "pyout",
       "prompt_number": 11,
       "text": [
        "[<matplotlib.lines.Line2D at 0x594cf10>]"
       ]
      },
      {
       "metadata": {},
       "output_type": "display_data",
       "png": "[encoded data removed]",
       "text": [
        "<matplotlib.figure.Figure at 0x587d910>"
       ]
      }
     ],
     "prompt_number": 11
    },
    {
     "cell_type": "markdown",
     "metadata": {},
     "source": [
      "# Trabalhar com dados do CET e dados geogr\u00e1ficos em conjunto\n",
      "\n",
      "O arquivo __distritos.csv__ \u00e9 um arquivo kml convertido para csv pelo Cartodb. Ele possui informa\u00e7\u00f5es geogr\u00e1ficas dos distritos e os nomes, mas os nomes nos arquivos do CET n\u00e3o possuem acentos, enquanto no arquivo do csv cartodb eles existem. Para isso foi necess\u00e1rio alguns malabarismos para associar as linhas corretas dos dados do cet com os dados do cartodb. Isso est\u00e1 logo abaixo no c\u00f3digo:\n",
      "\n",
      "    unicodedata.normalize('NFKD', x.decode('utf8')).encode('ASCII', 'ignore')\n",
      "    \n",
      "O c\u00f3digo a seguir \u00e9 utilizado para ver quais nomes existem no arquivo do cet que n\u00e3o existem no arquivo do cartodb:"
     ]
    },
    {
     "cell_type": "code",
     "collapsed": false,
     "input": [
      "distritos = pd.read_csv('distritos.csv', sep=',') \n",
      "ads = acidentes['distrito']\n",
      "\n",
      "s1 = set(ads.unique())\n",
      "s2 = set([unicodedata.normalize('NFKD', x.decode('utf8')).encode('ASCII', 'ignore') for x in distritos['name']])\n",
      "print s1 - s2"
     ],
     "language": "python",
     "metadata": {},
     "outputs": [
      {
       "output_type": "stream",
       "stream": "stdout",
       "text": [
        "set([nan, 'ALTO DE PINHEIR', 'ERMELINO MATARA', 'CIDADE TIRADENT'])\n"
       ]
      }
     ],
     "prompt_number": 191
    },
    {
     "cell_type": "markdown",
     "metadata": {},
     "source": [
      "Por sorte, apenas tr\u00eas nomes ap\u00f3s a convers\u00e3o do acentos. Pelo padr\u00e3o \u00e9 f\u00e1cil notar que os dados do cet est\u00e3o sendo truncados em 15 caracteres. Com o pandas isso \u00e9 f\u00e1cil de resolver como mostra o c\u00f3digo a seguir:"
     ]
    },
    {
     "cell_type": "code",
     "collapsed": false,
     "input": [
      "hist_dist = make_hist(acidentes, 'distrito')\n",
      "\n",
      "# Adicionando uma nova coluna\n",
      "distritos['acidentes'] = 0\n",
      "\n",
      "for k, v in hist_dist.items():\n",
      "    # IMPORTANTE! \u00c9 necess\u00e1rio utilizar o \u00edndice .ix caso contr\u00e1rio o view retornado pelo \u00edndice n\u00e3o ser\u00e1 mut\u00e1vel\n",
      "    distritos.ix[distritos['name'].map(lambda x: unicodedata.normalize('NFKD', x.decode('utf8')).encode('ASCII', 'ignore')[:15] == k), 'acidentes'] = v"
     ],
     "language": "python",
     "metadata": {},
     "outputs": [],
     "prompt_number": 193
    },
    {
     "cell_type": "code",
     "collapsed": false,
     "input": [
      "# Criando o novo arquivo CSV para ser importado pelo cartodb\n",
      "\n",
      "distritos.to_csv('distritos-acidentes.csv')"
     ],
     "language": "python",
     "metadata": {},
     "outputs": [],
     "prompt_number": 175
    }
   ],
   "metadata": {}
  }
 ]
}