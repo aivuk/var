{
 "metadata": {
  "name": "",
  "signature": "sha256:38a6ac3705998f1be024133e18c1b08dc77097ad8e0c3d70fd85774198302502"
 },
 "nbformat": 3,
 "nbformat_minor": 0,
 "worksheets": [
  {
   "cells": [
    {
     "cell_type": "code",
     "collapsed": false,
     "input": [
      "import pandas as pd\n",
      "\n",
      "acidentes = pd.read_csv('2013_acidentes-1o_Semestre.csv', sep=';', parse_dates=[7])\n",
      "veiculos = pd.read_csv('2013_veiculos-1o_Semestre.csv', sep=';') \n",
      "vitimas = pd.read_csv('2013_vitimas-1o_Semestre.csv', sep=';') "
     ],
     "language": "python",
     "metadata": {},
     "outputs": [],
     "prompt_number": 74
    },
    {
     "cell_type": "heading",
     "level": 1,
     "metadata": {},
     "source": [
      "Acidentes por tipo de ve\u00edculo"
     ]
    },
    {
     "cell_type": "markdown",
     "metadata": {},
     "source": [
      "* AU - Auto \n",
      "* MO - Moto\n",
      "* ON - \u00d4nibus\n",
      "* CA - Caminh\u00e3o\n",
      "* BI - Bicicleta\n",
      "* MT - Moto T\u00e1xi\n",
      "* OF - \u00d4nibus Fretado/Intermunicipal\n",
      "* OU - \u00d4nibus Urbano \n",
      "* MC - Micro\u00f4nibus\n",
      "* VA - Van \n",
      "* VC - Vuc\n",
      "* CM - Caminhonete/Camioneta\n",
      "* CR - Carreta \n",
      "* JI - Jipe\n",
      "* OT - Outros \n",
      "* SI - Sem Informa\u00e7\u00e3o\n",
      "* CO - Carro\u00e7a"
     ]
    },
    {
     "cell_type": "code",
     "collapsed": false,
     "input": [
      "hist_veiculo = veiculos.tipo_veiculo.value_counts()\n",
      "\n",
      "horizontal_axis = linspace(0.5, 1.5 + len(hist_veiculo.values), num=len(hist_veiculo.values))\n",
      "bar(horizontal_axis, hist_veiculo.values, width=1, align='center')\n",
      "xticks(horizontal_axis, hist_veiculo.keys())"
     ],
     "language": "python",
     "metadata": {},
     "outputs": [
      {
       "metadata": {},
       "output_type": "pyout",
       "prompt_number": 156,
       "text": [
        "([<matplotlib.axis.XTick at 0x87e37d0>,\n",
        "  <matplotlib.axis.XTick at 0x801a4d0>,\n",
        "  <matplotlib.axis.XTick at 0x8a43b10>,\n",
        "  <matplotlib.axis.XTick at 0x8a45150>,\n",
        "  <matplotlib.axis.XTick at 0x8a45890>,\n",
        "  <matplotlib.axis.XTick at 0x8a45fd0>,\n",
        "  <matplotlib.axis.XTick at 0x8a47750>,\n",
        "  <matplotlib.axis.XTick at 0x8a47e90>,\n",
        "  <matplotlib.axis.XTick at 0x8a4a610>,\n",
        "  <matplotlib.axis.XTick at 0x8a4ad50>,\n",
        "  <matplotlib.axis.XTick at 0x8a4f4d0>,\n",
        "  <matplotlib.axis.XTick at 0x8a4fc10>,\n",
        "  <matplotlib.axis.XTick at 0x8a51390>,\n",
        "  <matplotlib.axis.XTick at 0x8a51ad0>],\n",
        " <a list of 14 Text xticklabel objects>)"
       ]
      },
      {
       "metadata": {},
       "output_type": "display_data",
       "png": "[encoded data removed]",
       "text": [
        "<matplotlib.figure.Figure at 0x87e8410>"
       ]
      }
     ],
     "prompt_number": 156
    },
    {
     "cell_type": "heading",
     "level": 1,
     "metadata": {},
     "source": [
      "Acidentes por distrito"
     ]
    },
    {
     "cell_type": "code",
     "collapsed": false,
     "input": [
      "hist_distrito = acidentes['distrito'].value_counts()\n",
      "\n",
      "horizontal_axis = linspace(0.5, 0.5 + len(hist_distrito.values), num=len(hist_distrito.values))\n",
      "bar(horizontal_axis, hist_distrito.values, width=1, align='center')"
     ],
     "language": "python",
     "metadata": {},
     "outputs": [
      {
       "metadata": {},
       "output_type": "pyout",
       "prompt_number": 172,
       "text": [
        "<Container object of 96 artists>"
       ]
      },
      {
       "metadata": {},
       "output_type": "display_data",
       "png": "[encoded data removed]",
       "text": [
        "<matplotlib.figure.Figure at 0xcd200d0>"
       ]
      }
     ],
     "prompt_number": 172
    },
    {
     "cell_type": "code",
     "collapsed": false,
     "input": [
      "import json"
     ],
     "language": "python",
     "metadata": {},
     "outputs": [],
     "prompt_number": 2
    },
    {
     "cell_type": "code",
     "collapsed": false,
     "input": [
      "topo = json.load(open(\"distritos.topo\"))\n",
      "dis_info = [(dis['properties']['Name'], dis['id']) for dis in topo['objects']['distritos']['geometries']]"
     ],
     "language": "python",
     "metadata": {},
     "outputs": [],
     "prompt_number": 12
    },
    {
     "cell_type": "code",
     "collapsed": false,
     "input": [
      "dis_info"
     ],
     "language": "python",
     "metadata": {},
     "outputs": [
      {
       "metadata": {},
       "output_type": "pyout",
       "prompt_number": 13,
       "text": [
        "[(u'\\xc1GUA RASA', 0),\n",
        " (u'ALTO DE PINHEIROS', 1),\n",
        " (u'ANHANGUERA', 2),\n",
        " (u'ARICANDUVA', 3),\n",
        " (u'ARTUR ALVIM', 4),\n",
        " (u'BARRA FUNDA', 5),\n",
        " (u'BELA VISTA', 6),\n",
        " (u'BELM', 7),\n",
        " (u'BOM RETIRO', 8),\n",
        " (u'BRS', 9),\n",
        " (u'BRASILNDIA', 10),\n",
        " (u'BUTANT', 11),\n",
        " (u'CACHOEIRINHA', 12),\n",
        " (u'CAMBUCI', 13),\n",
        " (u'CAMPO BELO', 14),\n",
        " (u'CAMPO GRANDE', 15),\n",
        " (u'CAMPO LIMPO', 16),\n",
        " (u'CANGAIBA', 17),\n",
        " (u'CAPO REDONDO', 18),\n",
        " (u'CARRO', 19),\n",
        " (u'CASA VERDE', 20),\n",
        " (u'CIDADE ADEMAR', 21),\n",
        " (u'CIDADE DUTRA', 22),\n",
        " (u'CIDADE LIDER', 23),\n",
        " (u'CIDADE TIRADENTES', 24),\n",
        " (u'CONSOLAO', 25),\n",
        " (u'CURSINO', 26),\n",
        " (u'ERMELINO MATARAZZO', 27),\n",
        " (u'FREGUESIA DO', 28),\n",
        " (u'GRAJA', 29),\n",
        " (u'GUAIANASES', 30),\n",
        " (u'MOEMA', 31),\n",
        " (u'IGUATEMI', 32),\n",
        " (u'IPIRANGA', 33),\n",
        " (u'ITAIM BIBI', 34),\n",
        " (u'ITAIM PAULISTA', 35),\n",
        " (u'ITAQUERA', 36),\n",
        " (u'JABAQUARA', 37),\n",
        " (u'JAAN', 38),\n",
        " (u'JAGUARA', 39),\n",
        " (u'JAGUAR', 40),\n",
        " (u'JARAGU', 41),\n",
        " (u'JARDIM NGELA', 42),\n",
        " (u'JARDIM HELENA', 43),\n",
        " (u'JARDIM PAULISTA', 44),\n",
        " (u'JARDIM SO LUS', 45),\n",
        " (u'JOS BONIFCIO', 46),\n",
        " (u'LAPA', 47),\n",
        " (u'LIBERDADE', 48),\n",
        " (u'LIMO', 49),\n",
        " (u'MANDAQUI', 50),\n",
        " (u'MARSILAC', 51),\n",
        " (u'MOOCA', 52),\n",
        " (u'MORUMBI', 53),\n",
        " (u'PARELHEIROS', 54),\n",
        " (u'PARI', 55),\n",
        " (u'PARQUE DO CARMO', 56),\n",
        " (u'PEDREIRA', 57),\n",
        " (u'PENHA', 58),\n",
        " (u'PERDIZES', 59),\n",
        " (u'PERUS', 60),\n",
        " (u'PINHEIROS', 61),\n",
        " (u'PIRITUBA', 62),\n",
        " (u'PONTE RASA', 63),\n",
        " (u'RAPOSO TAVARES', 64),\n",
        " (u'REPBLICA', 65),\n",
        " (u'RIO PEQUENO', 66),\n",
        " (u'SACOM', 67),\n",
        " (u'SANTA CECLIA', 68),\n",
        " (u'SANTANA', 69),\n",
        " (u'SANTO AMARO', 70),\n",
        " (u'SO LUCAS', 71),\n",
        " (u'SO MATEUS', 72),\n",
        " (u'SO MIGUEL', 73),\n",
        " (u'SO RAFAEL', 74),\n",
        " (u'SAPOPEMBA', 75),\n",
        " (u'SADE', 76),\n",
        " (u'S', 77),\n",
        " (u'SOCORRO', 78),\n",
        " (u'TATUAP', 79),\n",
        " (u'TREMEMB', 80),\n",
        " (u'TUCURUVI', 81),\n",
        " (u'VILA ANDRADE', 82),\n",
        " (u'VILA CURU', 83),\n",
        " (u'VILA FORMOSA', 84),\n",
        " (u'VILA GUILHERME', 85),\n",
        " (u'VILA JACU', 86),\n",
        " (u'VILA LEOPOLDINA', 87),\n",
        " (u'VILA MARIA', 88),\n",
        " (u'VILA MARIANA', 89),\n",
        " (u'VILA MATILDE', 90),\n",
        " (u'VILA MEDEIROS', 91),\n",
        " (u'VILA PRUDENTE', 92),\n",
        " (u'VILA SNIA', 93),\n",
        " (u'SO DOMINGOS', 94),\n",
        " (u'LAJEADO', 95)]"
       ]
      }
     ],
     "prompt_number": 13
    },
    {
     "cell_type": "code",
     "collapsed": false,
     "input": [
      "distritos['name']"
     ],
     "language": "python",
     "metadata": {},
     "outputs": [
      {
       "ename": "NameError",
       "evalue": "name 'distritos' is not defined",
       "output_type": "pyerr",
       "traceback": [
        "\u001b[1;31m---------------------------------------------------------------------------\u001b[0m\n\u001b[1;31mNameError\u001b[0m                                 Traceback (most recent call last)",
        "\u001b[1;32m<ipython-input-14-54ead06452fa>\u001b[0m in \u001b[0;36m<module>\u001b[1;34m()\u001b[0m\n\u001b[1;32m----> 1\u001b[1;33m \u001b[0mdistritos\u001b[0m\u001b[1;33m[\u001b[0m\u001b[1;34m'name'\u001b[0m\u001b[1;33m]\u001b[0m\u001b[1;33m\u001b[0m\u001b[0m\n\u001b[0m",
        "\u001b[1;31mNameError\u001b[0m: name 'distritos' is not defined"
       ]
      }
     ],
     "prompt_number": 14
    },
    {
     "cell_type": "heading",
     "level": 1,
     "metadata": {},
     "source": [
      "Acidentes por escolaridade"
     ]
    },
    {
     "cell_type": "code",
     "collapsed": false,
     "input": [
      "hist_escolaridade = make_hist(vitimas, 'escolaridade')\n",
      "dist_esc_s = sorted(hist_escolaridade.items(), key=lambda x: x[1])\n",
      "bar(range(len(dist_esc_s)), [a[1] for a in dist_esc_s])\n",
      "xticks(range(len(dist_esc_s)), [a[0] for a in dist_esc_s])"
     ],
     "language": "python",
     "metadata": {},
     "outputs": [
      {
       "metadata": {},
       "output_type": "pyout",
       "prompt_number": 2,
       "text": [
        "([<matplotlib.axis.XTick at 0x3f00dd0>,\n",
        "  <matplotlib.axis.XTick at 0x3cf9b50>,\n",
        "  <matplotlib.axis.XTick at 0x3d25a10>,\n",
        "  <matplotlib.axis.XTick at 0x3d281d0>,\n",
        "  <matplotlib.axis.XTick at 0x3d28910>,\n",
        "  <matplotlib.axis.XTick at 0x3d2a090>,\n",
        "  <matplotlib.axis.XTick at 0x3d2a7d0>,\n",
        "  <matplotlib.axis.XTick at 0x3d2af10>],\n",
        " <a list of 8 Text xticklabel objects>)"
       ]
      },
      {
       "metadata": {},
       "output_type": "display_data",
       "png": "[encoded data removed]",
       "text": [
        "<matplotlib.figure.Figure at 0x31a3e50>"
       ]
      }
     ],
     "prompt_number": 2
    },
    {
     "cell_type": "markdown",
     "metadata": {},
     "source": [
      "1 - Analfabeto \n",
      "\n",
      "2 - 1\u00ba Grau incompleto \n",
      "\n",
      "3 - 1\u00ba Grau completo \n",
      "\n",
      "4 - 2\u00ba Grau incompleto \n",
      "\n",
      "5 - 2\u00ba Grau completo \n",
      "\n",
      "6 - Superior incompleto \n",
      "\n",
      "7 - Superior completo \n",
      "\n",
      "8 - Sem informa\u00e7\u00f5es"
     ]
    },
    {
     "cell_type": "code",
     "collapsed": false,
     "input": [
      "hist_sexo = make_hist(vitimas, \"sexo\")\n",
      "bar(range(3), hist_sexo.values())\n",
      "xticks(range(3), (\"X\", \"M\", \"F\"))\n",
      "hist_sexo"
     ],
     "language": "python",
     "metadata": {},
     "outputs": [
      {
       "metadata": {},
       "output_type": "pyout",
       "prompt_number": 5,
       "text": [
        "{'F': 5275, 'M': 12429, 'X': 73}"
       ]
      },
      {
       "metadata": {},
       "output_type": "display_data",
       "png": "[encoded data removed]",
       "text": [
        "<matplotlib.figure.Figure at 0x4c952d0>"
       ]
      }
     ],
     "prompt_number": 5
    },
    {
     "cell_type": "heading",
     "level": 1,
     "metadata": {},
     "source": [
      "Tipo da v\u00edtima"
     ]
    },
    {
     "cell_type": "code",
     "collapsed": false,
     "input": [
      "hist_tipo = make_hist(vitimas, \"tipo_vitima\")\n",
      "for t,v in hist_tipo.items():\n",
      "    print t, v"
     ],
     "language": "python",
     "metadata": {},
     "outputs": [
      {
       "output_type": "stream",
       "stream": "stdout",
       "text": [
        "PS 3847\n",
        "SI 72\n",
        "PD 4104\n",
        "CD 9754\n"
       ]
      }
     ],
     "prompt_number": 6
    },
    {
     "cell_type": "markdown",
     "metadata": {},
     "source": [
      "* CD - Condutor \n",
      "* PS - Passageiro\n",
      "* PD - Pedestre\n",
      "* OU - Outros\n",
      "* SI - Sem Informa\u00e7\u00e3o"
     ]
    },
    {
     "cell_type": "heading",
     "level": 1,
     "metadata": {},
     "source": [
      "Uso de \u00e1lcool"
     ]
    },
    {
     "cell_type": "code",
     "collapsed": false,
     "input": [
      "hist_drunk = make_hist(vitimas, \"estado_alcoolizacao\")\n",
      "hist_drunk"
     ],
     "language": "python",
     "metadata": {},
     "outputs": [
      {
       "metadata": {},
       "output_type": "pyout",
       "prompt_number": 7,
       "text": [
        "{'AA': 79, 'BR': 17595, 'SA': 103}"
       ]
      }
     ],
     "prompt_number": 7
    },
    {
     "cell_type": "heading",
     "level": 1,
     "metadata": {},
     "source": [
      "Por dia da semana"
     ]
    },
    {
     "cell_type": "code",
     "collapsed": false,
     "input": [
      "semanal = [x.dayofweek for x in acidentes.data]\n",
      "hist_semanal = make_hist(semanal)\n",
      "bar(range(7), hist_semanal.values())"
     ],
     "language": "python",
     "metadata": {},
     "outputs": [
      {
       "metadata": {},
       "output_type": "pyout",
       "prompt_number": 8,
       "text": [
        "<Container object of 7 artists>"
       ]
      },
      {
       "metadata": {},
       "output_type": "display_data",
       "png": "[encoded data removed]",
       "text": [
        "<matplotlib.figure.Figure at 0x51e64d0>"
       ]
      }
     ],
     "prompt_number": 8
    },
    {
     "cell_type": "heading",
     "level": 1,
     "metadata": {},
     "source": [
      "Por dia do m\u00eas"
     ]
    },
    {
     "cell_type": "code",
     "collapsed": false,
     "input": [
      "mensal = [x.day for x in acidentes.data]\n",
      "hist_mensal = make_hist(mensal)\n",
      "bar(hist_mensal.keys(), hist_mensal.values())"
     ],
     "language": "python",
     "metadata": {},
     "outputs": [
      {
       "metadata": {},
       "output_type": "pyout",
       "prompt_number": 9,
       "text": [
        "<Container object of 25 artists>"
       ]
      },
      {
       "metadata": {},
       "output_type": "display_data",
       "png": "[encoded data removed]",
       "text": [
        "<matplotlib.figure.Figure at 0x421e090>"
       ]
      }
     ],
     "prompt_number": 9
    },
    {
     "cell_type": "heading",
     "level": 1,
     "metadata": {},
     "source": [
      "Habilita\u00e7\u00e3o"
     ]
    },
    {
     "cell_type": "code",
     "collapsed": false,
     "input": [
      "habilitacao = make_hist(veiculos, \"categoria_habilitacao\")\n",
      "habilitacao"
     ],
     "language": "python",
     "metadata": {},
     "outputs": [
      {
       "metadata": {},
       "output_type": "pyout",
       "prompt_number": 10,
       "text": [
        "{'HA': 2392, 'IN': 1131, 'NE': 416, 'SI': 20471}"
       ]
      }
     ],
     "prompt_number": 10
    },
    {
     "cell_type": "markdown",
     "metadata": {},
     "source": [
      "* HA - Habilitado\n",
      "* IN - Inabilitado\n",
      "* PE - Permissionado\n",
      "* NE \u2013 N\u00e3o Exig\u00edvel\n",
      "* SI \u2013 sem Informa\u00e7\u00e3o"
     ]
    },
    {
     "cell_type": "heading",
     "level": 1,
     "metadata": {},
     "source": [
      "Acidentes por idade do condutor"
     ]
    },
    {
     "cell_type": "code",
     "collapsed": false,
     "input": [
      "idade = make_hist(vitimas, 'idade')\n",
      "del(idade['SI'])\n",
      "idade_tp = [(int(k), v) for k,v in idade.items()]\n",
      "idade_s = sorted(idade_tp, key=lambda x: x[0])\n",
      "plot(map (lambda x: x[0], idade_s), map (lambda x: x[1], idade_s))"
     ],
     "language": "python",
     "metadata": {},
     "outputs": [
      {
       "metadata": {},
       "output_type": "pyout",
       "prompt_number": 11,
       "text": [
        "[<matplotlib.lines.Line2D at 0x594cf10>]"
       ]
      },
      {
       "metadata": {},
       "output_type": "display_data",
       "png": "[encoded data removed]",
       "text": [
        "<matplotlib.figure.Figure at 0x587d910>"
       ]
      }
     ],
     "prompt_number": 11
    },
    {
     "cell_type": "markdown",
     "metadata": {},
     "source": [
      "# Trabalhar com dados do CET e dados geogr\u00e1ficos em conjunto\n",
      "\n",
      "O arquivo __distritos.csv__ \u00e9 um arquivo kml convertido para csv pelo Cartodb. Ele possui informa\u00e7\u00f5es geogr\u00e1ficas dos distritos e os nomes, mas os nomes nos arquivos do CET n\u00e3o possuem acentos, enquanto no arquivo do csv cartodb eles existem. Para isso foi necess\u00e1rio alguns malabarismos para associar as linhas corretas dos dados do cet com os dados do cartodb. Isso est\u00e1 logo abaixo no c\u00f3digo:\n",
      "\n",
      "    unicodedata.normalize('NFKD', x.decode('utf8')).encode('ASCII', 'ignore')\n",
      "    \n",
      "O c\u00f3digo a seguir \u00e9 utilizado para ver quais nomes existem no arquivo do cet que n\u00e3o existem no arquivo do cartodb:"
     ]
    },
    {
     "cell_type": "code",
     "collapsed": false,
     "input": [
      "import unicodedata\n",
      "\n",
      "distritos = pd.read_csv('distritos.csv', sep=',') \n",
      "ads = acidentes['distrito']\n",
      "\n",
      "s1 = set(ads.unique())\n",
      "s2 = set([unicodedata.normalize('NFKD', x.decode('utf8')).encode('ASCII', 'ignore') for x in distritos['name']])\n",
      "print s1 - s2"
     ],
     "language": "python",
     "metadata": {},
     "outputs": [
      {
       "output_type": "stream",
       "stream": "stdout",
       "text": [
        "set([nan, 'ALTO DE PINHEIR', 'ERMELINO MATARA', 'CIDADE TIRADENT'])\n"
       ]
      }
     ],
     "prompt_number": 17
    },
    {
     "cell_type": "code",
     "collapsed": false,
     "input": [
      "import difflib\n",
      "\n",
      "#hist_dist = make_hist(acidentes, 'distrito')\n",
      "\n",
      "# Adicionando uma nova coluna\n",
      "#distritos['acidentes'] = 0\n",
      "#distritos['no_accents_name'] = ''\n",
      "#distritos['map_id'] = 0\n",
      "\n",
      "for dist_name, dist_id in dis_info:\n",
      "    pd_dist_name = difflib.get_close_matches(dist_name, map(lambda x: x.decode('utf8'), distritos['name']))[0]\n",
      "    distritos.ix[distritos['name'].map(lambda x: x.decode('utf8') == pd_dist_name), 'no_accents_name'] = dist_name.encode('utf8')\n",
      "    distritos.ix[distritos['name'].map(lambda x: x.decode('utf8') == pd_dist_name), 'map_id'] = dist_id\n",
      " #   distritos.ix[distritos['name'].map(lambda x: unicodedata.normalize('NFKD', x.decode('utf8')).encode('ASCII', 'ignore')[:15] == k), 'acidentes'] = v\n"
     ],
     "language": "python",
     "metadata": {},
     "outputs": [],
     "prompt_number": 84
    },
    {
     "cell_type": "markdown",
     "metadata": {},
     "source": [
      "Por sorte, apenas tr\u00eas nomes ap\u00f3s a convers\u00e3o do acentos. Pelo padr\u00e3o \u00e9 f\u00e1cil notar que os dados do cet est\u00e3o sendo truncados em 15 caracteres. Com o pandas isso \u00e9 f\u00e1cil de resolver como mostra o c\u00f3digo a seguir:"
     ]
    },
    {
     "cell_type": "code",
     "collapsed": false,
     "input": [
      "hist_dist = make_hist(acidentes, 'distrito')\n",
      "\n",
      "# Adicionando uma nova coluna\n",
      "distritos['acidentes'] = 0\n",
      "\n",
      "for k, v in hist_dist.items():\n",
      "    # IMPORTANTE! \u00c9 necess\u00e1rio utilizar o \u00edndice .ix caso contr\u00e1rio o view retornado pelo \u00edndice n\u00e3o ser\u00e1 mut\u00e1vel\n",
      "    distritos.ix[distritos['name'].map(lambda x: unicodedata.normalize('NFKD', x.decode('utf8')).encode('ASCII', 'ignore')[:15] == k), 'acidentes'] = v"
     ],
     "language": "python",
     "metadata": {},
     "outputs": [],
     "prompt_number": 80
    },
    {
     "cell_type": "code",
     "collapsed": false,
     "input": [
      "# Criando o novo arquivo CSV para ser importado pelo cartodb\n",
      "\n",
      "distritos.to_csv('distritos-acidentes.csv')"
     ],
     "language": "python",
     "metadata": {},
     "outputs": [],
     "prompt_number": 85
    }
   ],
   "metadata": {}
  }
 ]
}