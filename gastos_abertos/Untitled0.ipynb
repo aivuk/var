{
 "metadata": {
  "name": "",
  "signature": "sha256:76f953096c21653a3fc0cedc9c90be9b04d0dc915800f8de9251d664b94a19ed"
 },
 "nbformat": 3,
 "nbformat_minor": 0,
 "worksheets": [
  {
   "cells": [
    {
     "cell_type": "code",
     "collapsed": false,
     "input": [
      "from gastosabertos import create_app\n",
      "from gastosabertos.extensions import db\n",
      "from gastosabertos.receita import Revenue\n",
      "from sqlalchemy import extract, and_"
     ],
     "language": "python",
     "metadata": {},
     "outputs": [],
     "prompt_number": 7
    },
    {
     "cell_type": "code",
     "collapsed": false,
     "input": [
      "app = create_app()\n",
      "db.app = app"
     ],
     "language": "python",
     "metadata": {},
     "outputs": [],
     "prompt_number": 8
    },
    {
     "cell_type": "code",
     "collapsed": false,
     "input": [
      "q = db.session.query(Revenue).filter(and_(extract('year', Revenue.date) == '2014', \\\n",
      "                                          Revenue.economical_category == 1, \\\n",
      "                                          Revenue.economical_subcategory == 1, \\\n",
      "                                          Revenue.source == 1)).all()"
     ],
     "language": "python",
     "metadata": {},
     "outputs": [],
     "prompt_number": 22
    },
    {
     "cell_type": "code",
     "collapsed": false,
     "input": [
      "set([r.rubric for r in q])"
     ],
     "language": "python",
     "metadata": {},
     "outputs": [
      {
       "metadata": {},
       "output_type": "pyout",
       "prompt_number": 24,
       "text": [
        "{2, 3}"
       ]
      }
     ],
     "prompt_number": 24
    },
    {
     "cell_type": "code",
     "collapsed": false,
     "input": [
      "qs = db.session.query(Revenue).filter(extract('year', Revenue.date) == '2014').all()"
     ],
     "language": "python",
     "metadata": {},
     "outputs": [],
     "prompt_number": 16
    },
    {
     "cell_type": "code",
     "collapsed": false,
     "input": [
      "set([r.rubric for r in qs])"
     ],
     "language": "python",
     "metadata": {},
     "outputs": [
      {
       "metadata": {},
       "output_type": "pyout",
       "prompt_number": 19,
       "text": [
        "{None, 0, 1, 2, 3, 4, 5, 6, 8, 9}"
       ]
      }
     ],
     "prompt_number": 19
    },
    {
     "cell_type": "code",
     "collapsed": false,
     "input": [
      "print q"
     ],
     "language": "python",
     "metadata": {},
     "outputs": [
      {
       "output_type": "stream",
       "stream": "stdout",
       "text": [
        "SELECT revenue.id AS revenue_id, revenue.original_code AS revenue_original_code, revenue.code_id AS revenue_code_id, revenue.description AS revenue_description, revenue.date AS revenue_date, revenue.monthly_predicted AS revenue_monthly_predicted, revenue.monthly_outcome AS revenue_monthly_outcome, revenue.economical_category AS revenue_economical_category, revenue.economical_subcategory AS revenue_economical_subcategory, revenue.source AS revenue_source, revenue.rubric AS revenue_rubric, revenue.paragraph AS revenue_paragraph, revenue.subparagraph AS revenue_subparagraph \n",
        "FROM revenue \n",
        "WHERE EXTRACT(year FROM revenue.date) = :param_1\n",
        " LIMIT :param_2\n"
       ]
      }
     ],
     "prompt_number": 20
    },
    {
     "cell_type": "code",
     "collapsed": false,
     "input": [
      "import datetime\n"
     ],
     "language": "python",
     "metadata": {},
     "outputs": [],
     "prompt_number": 21
    },
    {
     "cell_type": "code",
     "collapsed": false,
     "input": [
      "datetime.datetime.strptime('2014-01-01', '%Y-%m-%d')"
     ],
     "language": "python",
     "metadata": {},
     "outputs": [
      {
       "metadata": {},
       "output_type": "pyout",
       "prompt_number": 24,
       "text": [
        "datetime.datetime(2014, 1, 1, 0, 0)"
       ]
      }
     ],
     "prompt_number": 24
    },
    {
     "cell_type": "code",
     "collapsed": false,
     "input": [
      "d = datetime.datetime.strptime('2014-01-01', '%Y-%m-%d')"
     ],
     "language": "python",
     "metadata": {},
     "outputs": [],
     "prompt_number": 26
    },
    {
     "cell_type": "code",
     "collapsed": false,
     "input": [
      "d.isoformat()"
     ],
     "language": "python",
     "metadata": {},
     "outputs": [
      {
       "metadata": {},
       "output_type": "pyout",
       "prompt_number": 27,
       "text": [
        "'2014-01-01T00:00:00'"
       ]
      }
     ],
     "prompt_number": 27
    },
    {
     "cell_type": "code",
     "collapsed": false,
     "input": [],
     "language": "python",
     "metadata": {},
     "outputs": []
    }
   ],
   "metadata": {}
  }
 ]
}