{
 "metadata": {
  "name": "",
  "signature": "sha256:fdb1c2ad1bddd2f28d5a53f989d091b1e90ee3e45a98bcb4e27f1f1aa1adf470"
 },
 "nbformat": 3,
 "nbformat_minor": 0,
 "worksheets": [
  {
   "cells": [
    {
     "cell_type": "code",
     "collapsed": false,
     "input": [
      "from gastosabertos import create_app\n",
      "from gastosabertos.extensions import db\n",
      "from gastosabertos.receita import Revenue\n",
      "from sqlalchemy import func"
     ],
     "language": "python",
     "metadata": {},
     "outputs": [],
     "prompt_number": 6
    },
    {
     "cell_type": "code",
     "collapsed": false,
     "input": [
      "app = create_app()\n",
      "db.app = app"
     ],
     "language": "python",
     "metadata": {},
     "outputs": [],
     "prompt_number": 3
    },
    {
     "cell_type": "code",
     "collapsed": false,
     "input": [
      "q = db.session.query(Revenue.date, func.sum(Revenue.monthly_outcome)).filter(Revenue.economical_category == 1).group_by(Revenue.date)"
     ],
     "language": "python",
     "metadata": {},
     "outputs": [],
     "prompt_number": 14
    },
    {
     "cell_type": "code",
     "collapsed": false,
     "input": [
      "q.all()"
     ],
     "language": "python",
     "metadata": {},
     "outputs": [
      {
       "output_type": "stream",
       "stream": "stdout",
       "text": [
        "2015-02-06 22:44:00,482 INFO sqlalchemy.engine.base.Engine SELECT revenue.date AS revenue_date, sum(revenue.monthly_outcome) AS sum_1 \n",
        "FROM revenue \n",
        "WHERE revenue.economical_category = ? GROUP BY revenue.date\n"
       ]
      },
      {
       "output_type": "stream",
       "stream": "stderr",
       "text": [
        "INFO:sqlalchemy.engine.base.Engine:SELECT revenue.date AS revenue_date, sum(revenue.monthly_outcome) AS sum_1 \n",
        "FROM revenue \n",
        "WHERE revenue.economical_category = ? GROUP BY revenue.date\n"
       ]
      },
      {
       "output_type": "stream",
       "stream": "stdout",
       "text": [
        "2015-02-06 22:44:00,483 INFO sqlalchemy.engine.base.Engine (1,)\n"
       ]
      },
      {
       "output_type": "stream",
       "stream": "stderr",
       "text": [
        "INFO:sqlalchemy.engine.base.Engine:(1,)\n"
       ]
      },
      {
       "metadata": {},
       "output_type": "pyout",
       "prompt_number": 15,
       "text": [
        "[(datetime.date(2008, 1, 31), Decimal('2406440530.32')),\n",
        " (datetime.date(2008, 2, 29), Decimal('2906794195.14')),\n",
        " (datetime.date(2008, 3, 31), Decimal('1785765893.37')),\n",
        " (datetime.date(2008, 4, 30), Decimal('1777367066.50')),\n",
        " (datetime.date(2008, 5, 31), Decimal('1711399020.85')),\n",
        " (datetime.date(2008, 6, 30), Decimal('1647002918.53')),\n",
        " (datetime.date(2008, 7, 31), Decimal('2159380003.96')),\n",
        " (datetime.date(2008, 8, 31), Decimal('1708384921.83')),\n",
        " (datetime.date(2008, 9, 30), Decimal('1907166919.95')),\n",
        " (datetime.date(2008, 10, 31), Decimal('1787795726.33')),\n",
        " (datetime.date(2008, 11, 30), Decimal('1761938193.64')),\n",
        " (datetime.date(2008, 12, 31), Decimal('1852018841.18')),\n",
        " (datetime.date(2009, 1, 31), Decimal('2362219417.51')),\n",
        " (datetime.date(2009, 2, 28), Decimal('2697037459.88')),\n",
        " (datetime.date(2009, 3, 31), Decimal('2192809975.19')),\n",
        " (datetime.date(2009, 4, 30), Decimal('1669770393.61')),\n",
        " (datetime.date(2009, 5, 31), Decimal('1787136465.59')),\n",
        " (datetime.date(2009, 6, 30), Decimal('1966649196.66')),\n",
        " (datetime.date(2009, 7, 31), Decimal('1910217226.43')),\n",
        " (datetime.date(2009, 8, 31), Decimal('1830263338.34')),\n",
        " (datetime.date(2009, 9, 30), Decimal('1940504362.71')),\n",
        " (datetime.date(2009, 10, 31), Decimal('1915727002.53')),\n",
        " (datetime.date(2009, 11, 30), Decimal('2005231786.18')),\n",
        " (datetime.date(2009, 12, 31), Decimal('2122339353.87')),\n",
        " (datetime.date(2010, 1, 31), Decimal('4882010185.75')),\n",
        " (datetime.date(2010, 2, 28), Decimal('1994381481.07')),\n",
        " (datetime.date(2010, 3, 31), Decimal('1943899930.64')),\n",
        " (datetime.date(2010, 4, 30), Decimal('1732070088.76')),\n",
        " (datetime.date(2010, 5, 31), Decimal('3869108305.99')),\n",
        " (datetime.date(2010, 6, 30), Decimal('1309098501.27')),\n",
        " (datetime.date(2010, 7, 31), Decimal('2115000302.18')),\n",
        " (datetime.date(2010, 8, 31), Decimal('1372694934.58')),\n",
        " (datetime.date(2010, 9, 30), Decimal('3937122842.31')),\n",
        " (datetime.date(2010, 10, 31), Decimal('1663139508.66')),\n",
        " (datetime.date(2010, 11, 30), Decimal('1764550006.56')),\n",
        " (datetime.date(2010, 12, 31), Decimal('1095519432.78')),\n",
        " (datetime.date(2011, 1, 31), Decimal('5251519902.56')),\n",
        " (datetime.date(2011, 2, 28), Decimal('152749353.35')),\n",
        " (datetime.date(2011, 3, 31), Decimal('5810022590.05')),\n",
        " (datetime.date(2011, 4, 30), Decimal('276565980.71')),\n",
        " (datetime.date(2011, 5, 31), Decimal('4658208240.80')),\n",
        " (datetime.date(2011, 6, 30), Decimal('156848014.24')),\n",
        " (datetime.date(2011, 7, 31), Decimal('4610942965.23')),\n",
        " (datetime.date(2011, 8, 31), Decimal('271872819.64')),\n",
        " (datetime.date(2011, 9, 30), Decimal('4991493886.92')),\n",
        " (datetime.date(2011, 10, 31), Decimal('494693964.14')),\n",
        " (datetime.date(2011, 11, 30), Decimal('5167807874.13')),\n",
        " (datetime.date(2011, 12, 31), Decimal('-229936822.66')),\n",
        " (datetime.date(2012, 1, 31), Decimal('6062669765.80')),\n",
        " (datetime.date(2012, 2, 29), Decimal('228215275.33')),\n",
        " (datetime.date(2012, 3, 31), Decimal('6066534806.84')),\n",
        " (datetime.date(2012, 4, 30), Decimal('340801194.85')),\n",
        " (datetime.date(2012, 5, 31), Decimal('5214482851.43')),\n",
        " (datetime.date(2012, 6, 30), Decimal('238999713.87')),\n",
        " (datetime.date(2012, 7, 31), Decimal('5388007215.69')),\n",
        " (datetime.date(2012, 8, 31), Decimal('242048023.16')),\n",
        " (datetime.date(2012, 9, 30), Decimal('4896727333.87')),\n",
        " (datetime.date(2012, 10, 31), Decimal('411413607.67')),\n",
        " (datetime.date(2012, 11, 30), Decimal('5802957374.13')),\n",
        " (datetime.date(2012, 12, 31), Decimal('-42168458.35')),\n",
        " (datetime.date(2013, 1, 31), Decimal('3635488344.29')),\n",
        " (datetime.date(2013, 2, 28), Decimal('4195913423.22')),\n",
        " (datetime.date(2013, 3, 31), Decimal('2961256806.66')),\n",
        " (datetime.date(2013, 4, 30), Decimal('2980854714.14')),\n",
        " (datetime.date(2013, 5, 31), Decimal('2795253575.48')),\n",
        " (datetime.date(2013, 6, 30), Decimal('3118189568.28')),\n",
        " (datetime.date(2013, 7, 31), Decimal('3125073044.76')),\n",
        " (datetime.date(2013, 8, 31), Decimal('2812747350.85')),\n",
        " (datetime.date(2013, 9, 30), Decimal('2934598236.73')),\n",
        " (datetime.date(2013, 10, 31), Decimal('3086809327.22')),\n",
        " (datetime.date(2013, 11, 30), Decimal('2902131712.94')),\n",
        " (datetime.date(2013, 12, 31), Decimal('3162347387.33')),\n",
        " (datetime.date(2014, 1, 31), Decimal('3954812903.55')),\n",
        " (datetime.date(2014, 2, 28), Decimal('4535552834.88')),\n",
        " (datetime.date(2014, 3, 31), Decimal('3196405816.15')),\n",
        " (datetime.date(2014, 4, 30), Decimal('3072511951.37')),\n",
        " (datetime.date(2014, 5, 31), Decimal('3057911207.95')),\n",
        " (datetime.date(2014, 6, 30), Decimal('2890057221.09')),\n",
        " (datetime.date(2014, 7, 31), Decimal('3408224864.96')),\n",
        " (datetime.date(2014, 8, 31), Decimal('3094483222.03')),\n",
        " (datetime.date(2014, 9, 30), Decimal('3329959420.49')),\n",
        " (datetime.date(2014, 10, 31), Decimal('3210821018.30')),\n",
        " (datetime.date(2014, 11, 30), Decimal('3122870930.99')),\n",
        " (datetime.date(2014, 12, 31), Decimal('2098188353.11'))]"
       ]
      }
     ],
     "prompt_number": 15
    },
    {
     "cell_type": "code",
     "collapsed": false,
     "input": [],
     "language": "python",
     "metadata": {},
     "outputs": []
    }
   ],
   "metadata": {}
  }
 ]
}