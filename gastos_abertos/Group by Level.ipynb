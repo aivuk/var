{
 "metadata": {
  "name": "",
  "signature": "sha256:ec57c3cfc78fdffd91c3a2501c7a668b22c0e0f30b525766289e6100c3a89b87"
 },
 "nbformat": 3,
 "nbformat_minor": 0,
 "worksheets": [
  {
   "cells": [
    {
     "cell_type": "code",
     "collapsed": false,
     "input": [
      "from gastosabertos import create_app\n",
      "from gastosabertos.extensions import db\n",
      "from gastosabertos.receita import Revenue\n",
      "from sqlalchemy import func"
     ],
     "language": "python",
     "metadata": {},
     "outputs": [],
     "prompt_number": 1
    },
    {
     "cell_type": "code",
     "collapsed": false,
     "input": [
      "app = create_app()\n",
      "db.app = app"
     ],
     "language": "python",
     "metadata": {},
     "outputs": [],
     "prompt_number": 2
    },
    {
     "cell_type": "code",
     "collapsed": false,
     "input": [
      "q = db.session.query(Revenue.date, func.sum(Revenue.monthly_outcome)).filter(Revenue.economical_category == 1).group_by(Revenue.date)"
     ],
     "language": "python",
     "metadata": {},
     "outputs": [],
     "prompt_number": 14
    },
    {
     "cell_type": "code",
     "collapsed": false,
     "input": [
      "q.all()"
     ],
     "language": "python",
     "metadata": {},
     "outputs": [
      {
       "output_type": "stream",
       "stream": "stdout",
       "text": [
        "2015-02-06 22:44:00,482 INFO sqlalchemy.engine.base.Engine SELECT revenue.date AS revenue_date, sum(revenue.monthly_outcome) AS sum_1 \n",
        "FROM revenue \n",
        "WHERE revenue.economical_category = ? GROUP BY revenue.date\n"
       ]
      },
      {
       "output_type": "stream",
       "stream": "stderr",
       "text": [
        "INFO:sqlalchemy.engine.base.Engine:SELECT revenue.date AS revenue_date, sum(revenue.monthly_outcome) AS sum_1 \n",
        "FROM revenue \n",
        "WHERE revenue.economical_category = ? GROUP BY revenue.date\n"
       ]
      },
      {
       "output_type": "stream",
       "stream": "stdout",
       "text": [
        "2015-02-06 22:44:00,483 INFO sqlalchemy.engine.base.Engine (1,)\n"
       ]
      },
      {
       "output_type": "stream",
       "stream": "stderr",
       "text": [
        "INFO:sqlalchemy.engine.base.Engine:(1,)\n"
       ]
      },
      {
       "metadata": {},
       "output_type": "pyout",
       "prompt_number": 15,
       "text": [
        "[(datetime.date(2008, 1, 31), Decimal('2406440530.32')),\n",
        " (datetime.date(2008, 2, 29), Decimal('2906794195.14')),\n",
        " (datetime.date(2008, 3, 31), Decimal('1785765893.37')),\n",
        " (datetime.date(2008, 4, 30), Decimal('1777367066.50')),\n",
        " (datetime.date(2008, 5, 31), Decimal('1711399020.85')),\n",
        " (datetime.date(2008, 6, 30), Decimal('1647002918.53')),\n",
        " (datetime.date(2008, 7, 31), Decimal('2159380003.96')),\n",
        " (datetime.date(2008, 8, 31), Decimal('1708384921.83')),\n",
        " (datetime.date(2008, 9, 30), Decimal('1907166919.95')),\n",
        " (datetime.date(2008, 10, 31), Decimal('1787795726.33')),\n",
        " (datetime.date(2008, 11, 30), Decimal('1761938193.64')),\n",
        " (datetime.date(2008, 12, 31), Decimal('1852018841.18')),\n",
        " (datetime.date(2009, 1, 31), Decimal('2362219417.51')),\n",
        " (datetime.date(2009, 2, 28), Decimal('2697037459.88')),\n",
        " (datetime.date(2009, 3, 31), Decimal('2192809975.19')),\n",
        " (datetime.date(2009, 4, 30), Decimal('1669770393.61')),\n",
        " (datetime.date(2009, 5, 31), Decimal('1787136465.59')),\n",
        " (datetime.date(2009, 6, 30), Decimal('1966649196.66')),\n",
        " (datetime.date(2009, 7, 31), Decimal('1910217226.43')),\n",
        " (datetime.date(2009, 8, 31), Decimal('1830263338.34')),\n",
        " (datetime.date(2009, 9, 30), Decimal('1940504362.71')),\n",
        " (datetime.date(2009, 10, 31), Decimal('1915727002.53')),\n",
        " (datetime.date(2009, 11, 30), Decimal('2005231786.18')),\n",
        " (datetime.date(2009, 12, 31), Decimal('2122339353.87')),\n",
        " (datetime.date(2010, 1, 31), Decimal('4882010185.75')),\n",
        " (datetime.date(2010, 2, 28), Decimal('1994381481.07')),\n",
        " (datetime.date(2010, 3, 31), Decimal('1943899930.64')),\n",
        " (datetime.date(2010, 4, 30), Decimal('1732070088.76')),\n",
        " (datetime.date(2010, 5, 31), Decimal('3869108305.99')),\n",
        " (datetime.date(2010, 6, 30), Decimal('1309098501.27')),\n",
        " (datetime.date(2010, 7, 31), Decimal('2115000302.18')),\n",
        " (datetime.date(2010, 8, 31), Decimal('1372694934.58')),\n",
        " (datetime.date(2010, 9, 30), Decimal('3937122842.31')),\n",
        " (datetime.date(2010, 10, 31), Decimal('1663139508.66')),\n",
        " (datetime.date(2010, 11, 30), Decimal('1764550006.56')),\n",
        " (datetime.date(2010, 12, 31), Decimal('1095519432.78')),\n",
        " (datetime.date(2011, 1, 31), Decimal('5251519902.56')),\n",
        " (datetime.date(2011, 2, 28), Decimal('152749353.35')),\n",
        " (datetime.date(2011, 3, 31), Decimal('5810022590.05')),\n",
        " (datetime.date(2011, 4, 30), Decimal('276565980.71')),\n",
        " (datetime.date(2011, 5, 31), Decimal('4658208240.80')),\n",
        " (datetime.date(2011, 6, 30), Decimal('156848014.24')),\n",
        " (datetime.date(2011, 7, 31), Decimal('4610942965.23')),\n",
        " (datetime.date(2011, 8, 31), Decimal('271872819.64')),\n",
        " (datetime.date(2011, 9, 30), Decimal('4991493886.92')),\n",
        " (datetime.date(2011, 10, 31), Decimal('494693964.14')),\n",
        " (datetime.date(2011, 11, 30), Decimal('5167807874.13')),\n",
        " (datetime.date(2011, 12, 31), Decimal('-229936822.66')),\n",
        " (datetime.date(2012, 1, 31), Decimal('6062669765.80')),\n",
        " (datetime.date(2012, 2, 29), Decimal('228215275.33')),\n",
        " (datetime.date(2012, 3, 31), Decimal('6066534806.84')),\n",
        " (datetime.date(2012, 4, 30), Decimal('340801194.85')),\n",
        " (datetime.date(2012, 5, 31), Decimal('5214482851.43')),\n",
        " (datetime.date(2012, 6, 30), Decimal('238999713.87')),\n",
        " (datetime.date(2012, 7, 31), Decimal('5388007215.69')),\n",
        " (datetime.date(2012, 8, 31), Decimal('242048023.16')),\n",
        " (datetime.date(2012, 9, 30), Decimal('4896727333.87')),\n",
        " (datetime.date(2012, 10, 31), Decimal('411413607.67')),\n",
        " (datetime.date(2012, 11, 30), Decimal('5802957374.13')),\n",
        " (datetime.date(2012, 12, 31), Decimal('-42168458.35')),\n",
        " (datetime.date(2013, 1, 31), Decimal('3635488344.29')),\n",
        " (datetime.date(2013, 2, 28), Decimal('4195913423.22')),\n",
        " (datetime.date(2013, 3, 31), Decimal('2961256806.66')),\n",
        " (datetime.date(2013, 4, 30), Decimal('2980854714.14')),\n",
        " (datetime.date(2013, 5, 31), Decimal('2795253575.48')),\n",
        " (datetime.date(2013, 6, 30), Decimal('3118189568.28')),\n",
        " (datetime.date(2013, 7, 31), Decimal('3125073044.76')),\n",
        " (datetime.date(2013, 8, 31), Decimal('2812747350.85')),\n",
        " (datetime.date(2013, 9, 30), Decimal('2934598236.73')),\n",
        " (datetime.date(2013, 10, 31), Decimal('3086809327.22')),\n",
        " (datetime.date(2013, 11, 30), Decimal('2902131712.94')),\n",
        " (datetime.date(2013, 12, 31), Decimal('3162347387.33')),\n",
        " (datetime.date(2014, 1, 31), Decimal('3954812903.55')),\n",
        " (datetime.date(2014, 2, 28), Decimal('4535552834.88')),\n",
        " (datetime.date(2014, 3, 31), Decimal('3196405816.15')),\n",
        " (datetime.date(2014, 4, 30), Decimal('3072511951.37')),\n",
        " (datetime.date(2014, 5, 31), Decimal('3057911207.95')),\n",
        " (datetime.date(2014, 6, 30), Decimal('2890057221.09')),\n",
        " (datetime.date(2014, 7, 31), Decimal('3408224864.96')),\n",
        " (datetime.date(2014, 8, 31), Decimal('3094483222.03')),\n",
        " (datetime.date(2014, 9, 30), Decimal('3329959420.49')),\n",
        " (datetime.date(2014, 10, 31), Decimal('3210821018.30')),\n",
        " (datetime.date(2014, 11, 30), Decimal('3122870930.99')),\n",
        " (datetime.date(2014, 12, 31), Decimal('2098188353.11'))]"
       ]
      }
     ],
     "prompt_number": 15
    },
    {
     "cell_type": "code",
     "collapsed": false,
     "input": [
      "import json\n",
      "import requests"
     ],
     "language": "python",
     "metadata": {},
     "outputs": [],
     "prompt_number": 5
    },
    {
     "cell_type": "code",
     "collapsed": false,
     "input": [
      "impostos = requests.get(\"http://demo.gastosabertos.org/api/v1/receita/total?code=1.1.1&years=2014&drilldown=true\").content\n",
      "taxas = requests.get(\"http://demo.gastosabertos.org/api/v1/receita/total?code=1.1.2&years=2014&drilldown=true\").content"
     ],
     "language": "python",
     "metadata": {},
     "outputs": [],
     "prompt_number": 22
    },
    {
     "cell_type": "code",
     "collapsed": false,
     "input": [
      "impostos_dict = json.loads(impostos)\n",
      "taxas_dict = json.loads(taxas)"
     ],
     "language": "python",
     "metadata": {},
     "outputs": [],
     "prompt_number": 23
    },
    {
     "cell_type": "code",
     "collapsed": false,
     "input": [
      "treemap = {}\n",
      "treemap['name'] = 'Impostos x Taxas'\n",
      "treemap['children'] = []"
     ],
     "language": "python",
     "metadata": {},
     "outputs": [],
     "prompt_number": 32
    },
    {
     "cell_type": "code",
     "collapsed": false,
     "input": [
      "imp_node = {}\n",
      "imp_node['name'] = 'Impostos'\n",
      "imp_node['children'] = []\n",
      "\n",
      "for imp_data in impostos_dict['data']:\n",
      "    value, name = imp_data.values()\n",
      "    imp_node['children'].append({'name': name, 'value': value})"
     ],
     "language": "python",
     "metadata": {},
     "outputs": [],
     "prompt_number": 33
    },
    {
     "cell_type": "code",
     "collapsed": false,
     "input": [
      "tax_node = {}\n",
      "tax_node['name'] = 'Taxas'\n",
      "tax_node['children'] = []\n",
      "\n",
      "for tax_data in taxas_dict['data']:\n",
      "    value, name = tax_data.values()\n",
      "    tax_node['children'].append({'name': name, 'value': value})"
     ],
     "language": "python",
     "metadata": {},
     "outputs": [],
     "prompt_number": 34
    },
    {
     "cell_type": "code",
     "collapsed": false,
     "input": [
      "treemap['children'] += [imp_node, tax_node]"
     ],
     "language": "python",
     "metadata": {},
     "outputs": [],
     "prompt_number": 35
    },
    {
     "cell_type": "code",
     "collapsed": false,
     "input": [
      "out = json.dumps(treemap, encoding=\"utf-8\", indent=2)"
     ],
     "language": "python",
     "metadata": {},
     "outputs": [],
     "prompt_number": 46
    },
    {
     "cell_type": "code",
     "collapsed": false,
     "input": [
      "f = open('receitas.json', 'w+')\n",
      "f.write(out)\n",
      "f.close()"
     ],
     "language": "python",
     "metadata": {},
     "outputs": [],
     "prompt_number": 47
    },
    {
     "cell_type": "code",
     "collapsed": false,
     "input": [
      "!cat receitas.json"
     ],
     "language": "python",
     "metadata": {},
     "outputs": [
      {
       "output_type": "stream",
       "stream": "stdout",
       "text": [
        "{\r\n",
        "  \"name\": \"Impostos x Taxas\", \r\n",
        "  \"children\": [\r\n",
        "    {\r\n",
        "      \"name\": \"Impostos\", \r\n",
        "      \"children\": [\r\n",
        "        {\r\n",
        "          \"name\": \"Impostos sobre a Produ\\u00e7\\u00e3o e a Circula\\u00e7\\u00e3o\", \r\n",
        "          \"value\": 0.0\r\n",
        "        }, \r\n",
        "        {\r\n",
        "          \"name\": \"Imposto sobre a Renda e Proventos de Qualquer Natureza\", \r\n",
        "          \"value\": 242223.02\r\n",
        "        }, \r\n",
        "        {\r\n",
        "          \"name\": \"Adicional ISS - Fundo Municipal de Combate \\u00e0 Pobreza\", \r\n",
        "          \"value\": 327653.07\r\n",
        "        }, \r\n",
        "        {\r\n",
        "          \"name\": \"IRRF - Imposto de Renda Retido nas Fontes sobre Outros Rendimentos\", \r\n",
        "          \"value\": 226225681.79\r\n",
        "        }, \r\n",
        "        {\r\n",
        "          \"name\": \"ISS - Imposto sobre Servi\\u00e7os de Qualquer Natureza\", \r\n",
        "          \"value\": 924157539.39\r\n",
        "        }, \r\n",
        "        {\r\n",
        "          \"name\": \"IRRF - Imposto de Renda Retido nas Fontes sobre os Rendimentos do Trabalho\", \r\n",
        "          \"value\": 984846685.99\r\n",
        "        }, \r\n",
        "        {\r\n",
        "          \"name\": \"ITBI - Imposto sobre Transmiss\\u00e3o \\\"Inter Vivos\\\" de Bens Im\\u00f3veis e de Direitos Reais sobre Im\\u00f3veis\", \r\n",
        "          \"value\": 1405961460.17\r\n",
        "        }, \r\n",
        "        {\r\n",
        "          \"name\": \"IPTU - Imposto sobre a Propriedade Predial e Territorial Urbana\", \r\n",
        "          \"value\": 5906159027.65\r\n",
        "        }, \r\n",
        "        {\r\n",
        "          \"name\": \"ISS - Imposto sobre Servi\\u00e7os de Qualquer Natureza\", \r\n",
        "          \"value\": 10121237864.1\r\n",
        "        }\r\n",
        "      ]\r\n",
        "    }, \r\n",
        "    {\r\n",
        "      \"name\": \"Taxas\", \r\n",
        "      \"children\": [\r\n",
        "        {\r\n",
        "          \"name\": \"Outras Taxas pela Presta\\u00e7\\u00e3o de Servi\\u00e7os\", \r\n",
        "          \"value\": 1052879.79\r\n",
        "        }, \r\n",
        "        {\r\n",
        "          \"name\": \"Taxa de Fiscaliza\\u00e7\\u00e3o de Aparelhos de Transporte\", \r\n",
        "          \"value\": 8847031.77\r\n",
        "        }, \r\n",
        "        {\r\n",
        "          \"name\": \"Outras Taxas pelo Exerc\\u00edcio do Poder de Pol\\u00edcia\", \r\n",
        "          \"value\": 10791121.12\r\n",
        "        }, \r\n",
        "        {\r\n",
        "          \"name\": \"Taxa de Publicidade Comercial\", \r\n",
        "          \"value\": 16850185.89\r\n",
        "        }, \r\n",
        "        {\r\n",
        "          \"name\": \"Taxa de Limpeza P\\u00fablica\", \r\n",
        "          \"value\": 47218626.3\r\n",
        "        }, \r\n",
        "        {\r\n",
        "          \"name\": \"Taxa de Aprova\\u00e7\\u00e3o do Projeto de Contru\\u00e7\\u00e3o Civil\", \r\n",
        "          \"value\": 85610353.83\r\n",
        "        }, \r\n",
        "        {\r\n",
        "          \"name\": \"Taxa de Licen\\u00e7a para Funcionamento de Estabelecimentos Comerciais, Ind\\u00fastria e Prestadora de Servi\\u00e7os\", \r\n",
        "          \"value\": 117461118.26\r\n",
        "        }\r\n",
        "      ]\r\n",
        "    }\r\n",
        "  ]\r\n",
        "}"
       ]
      }
     ],
     "prompt_number": 48
    },
    {
     "cell_type": "code",
     "collapsed": false,
     "input": [
      "json.dumps(treemap, encoding=\"utf-8\", indent=2)"
     ],
     "language": "python",
     "metadata": {},
     "outputs": [
      {
       "metadata": {},
       "output_type": "pyout",
       "prompt_number": 45,
       "text": [
        "'{\\n  \"name\": \"Impostos x Taxas\", \\n  \"children\": [\\n    {\\n      \"name\": \"Impostos\", \\n      \"children\": [\\n        {\\n          \"name\": \"Impostos sobre a Produ\\\\u00e7\\\\u00e3o e a Circula\\\\u00e7\\\\u00e3o\", \\n          \"value\": 0.0\\n        }, \\n        {\\n          \"name\": \"Imposto sobre a Renda e Proventos de Qualquer Natureza\", \\n          \"value\": 242223.02\\n        }, \\n        {\\n          \"name\": \"Adicional ISS - Fundo Municipal de Combate \\\\u00e0 Pobreza\", \\n          \"value\": 327653.07\\n        }, \\n        {\\n          \"name\": \"IRRF - Imposto de Renda Retido nas Fontes sobre Outros Rendimentos\", \\n          \"value\": 226225681.79\\n        }, \\n        {\\n          \"name\": \"ISS - Imposto sobre Servi\\\\u00e7os de Qualquer Natureza\", \\n          \"value\": 924157539.39\\n        }, \\n        {\\n          \"name\": \"IRRF - Imposto de Renda Retido nas Fontes sobre os Rendimentos do Trabalho\", \\n          \"value\": 984846685.99\\n        }, \\n        {\\n          \"name\": \"ITBI - Imposto sobre Transmiss\\\\u00e3o \\\\\"Inter Vivos\\\\\" de Bens Im\\\\u00f3veis e de Direitos Reais sobre Im\\\\u00f3veis\", \\n          \"value\": 1405961460.17\\n        }, \\n        {\\n          \"name\": \"IPTU - Imposto sobre a Propriedade Predial e Territorial Urbana\", \\n          \"value\": 5906159027.65\\n        }, \\n        {\\n          \"name\": \"ISS - Imposto sobre Servi\\\\u00e7os de Qualquer Natureza\", \\n          \"value\": 10121237864.1\\n        }\\n      ]\\n    }, \\n    {\\n      \"name\": \"Taxas\", \\n      \"children\": [\\n        {\\n          \"name\": \"Outras Taxas pela Presta\\\\u00e7\\\\u00e3o de Servi\\\\u00e7os\", \\n          \"value\": 1052879.79\\n        }, \\n        {\\n          \"name\": \"Taxa de Fiscaliza\\\\u00e7\\\\u00e3o de Aparelhos de Transporte\", \\n          \"value\": 8847031.77\\n        }, \\n        {\\n          \"name\": \"Outras Taxas pelo Exerc\\\\u00edcio do Poder de Pol\\\\u00edcia\", \\n          \"value\": 10791121.12\\n        }, \\n        {\\n          \"name\": \"Taxa de Publicidade Comercial\", \\n          \"value\": 16850185.89\\n        }, \\n        {\\n          \"name\": \"Taxa de Limpeza P\\\\u00fablica\", \\n          \"value\": 47218626.3\\n        }, \\n        {\\n          \"name\": \"Taxa de Aprova\\\\u00e7\\\\u00e3o do Projeto de Contru\\\\u00e7\\\\u00e3o Civil\", \\n          \"value\": 85610353.83\\n        }, \\n        {\\n          \"name\": \"Taxa de Licen\\\\u00e7a para Funcionamento de Estabelecimentos Comerciais, Ind\\\\u00fastria e Prestadora de Servi\\\\u00e7os\", \\n          \"value\": 117461118.26\\n        }\\n      ]\\n    }\\n  ]\\n}'"
       ]
      }
     ],
     "prompt_number": 45
    },
    {
     "cell_type": "code",
     "collapsed": false,
     "input": [],
     "language": "python",
     "metadata": {},
     "outputs": []
    }
   ],
   "metadata": {}
  }
 ]
}