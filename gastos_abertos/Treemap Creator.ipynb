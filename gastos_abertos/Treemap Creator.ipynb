{
 "metadata": {
  "name": "",
  "signature": "sha256:9317ff31822a4e9fa669d42144ebce99ead8501befd564d282f4688d3f1bdc74"
 },
 "nbformat": 3,
 "nbformat_minor": 0,
 "worksheets": [
  {
   "cells": [
    {
     "cell_type": "code",
     "collapsed": false,
     "input": [
      "import json\n",
      "import requests"
     ],
     "language": "python",
     "metadata": {},
     "outputs": [],
     "prompt_number": 49
    },
    {
     "cell_type": "code",
     "collapsed": false,
     "input": [
      "impostos = requests.get(\"http://demo.gastosabertos.org/api/v1/receita/total?code=1.1.1&years=2014&drilldown=true\").content\n",
      "taxas = requests.get(\"http://demo.gastosabertos.org/api/v1/receita/total?code=1.1.2&years=2014&drilldown=true\").content"
     ],
     "language": "python",
     "metadata": {},
     "outputs": [],
     "prompt_number": 53
    },
    {
     "cell_type": "code",
     "collapsed": false,
     "input": [
      "impostos_dict = json.loads(impostos)\n",
      "taxas_dict = json.loads(taxas)"
     ],
     "language": "python",
     "metadata": {},
     "outputs": [],
     "prompt_number": 54
    },
    {
     "cell_type": "code",
     "collapsed": false,
     "input": [
      "treemap = {}\n",
      "treemap['name'] = 'Impostos x Taxas'\n",
      "treemap['children'] = []"
     ],
     "language": "python",
     "metadata": {},
     "outputs": [],
     "prompt_number": 55
    },
    {
     "cell_type": "code",
     "collapsed": false,
     "input": [
      "imp_node = {}\n",
      "imp_node['name'] = 'Impostos'\n",
      "imp_node['children'] = []\n",
      "\n",
      "for imp_data in impostos_dict['data']:\n",
      "    value, name = imp_data.values()\n",
      "    imp_node['children'].append({'name': name, 'value': value})"
     ],
     "language": "python",
     "metadata": {},
     "outputs": [],
     "prompt_number": 56
    },
    {
     "cell_type": "code",
     "collapsed": false,
     "input": [
      "tax_node = {}\n",
      "tax_node['name'] = 'Taxas'\n",
      "tax_node['children'] = []\n",
      "\n",
      "for tax_data in taxas_dict['data']:\n",
      "    value, name = tax_data.values()\n",
      "    tax_node['children'].append({'name': name, 'value': value})"
     ],
     "language": "python",
     "metadata": {},
     "outputs": [],
     "prompt_number": 57
    },
    {
     "cell_type": "code",
     "collapsed": false,
     "input": [
      "treemap['children'] += [imp_node, tax_node]"
     ],
     "language": "python",
     "metadata": {},
     "outputs": [],
     "prompt_number": 58
    },
    {
     "cell_type": "code",
     "collapsed": false,
     "input": [
      "out = json.dumps(treemap, encoding=\"utf-8\", indent=2)"
     ],
     "language": "python",
     "metadata": {},
     "outputs": [],
     "prompt_number": 59
    },
    {
     "cell_type": "code",
     "collapsed": false,
     "input": [
      "f = open('receitas.json', 'w+')\n",
      "f.write(out)\n",
      "f.close()"
     ],
     "language": "python",
     "metadata": {},
     "outputs": [],
     "prompt_number": 60
    },
    {
     "cell_type": "code",
     "collapsed": false,
     "input": [
      "!cat receitas.json"
     ],
     "language": "python",
     "metadata": {},
     "outputs": [
      {
       "output_type": "stream",
       "stream": "stdout",
       "text": [
        "{\r\n",
        "  \"name\": \"Impostos x Taxas\", \r\n",
        "  \"children\": [\r\n",
        "    {\r\n",
        "      \"name\": \"Impostos\", \r\n",
        "      \"children\": [\r\n",
        "        {\r\n",
        "          \"name\": \"Impostos sobre a Produ\\u00e7\\u00e3o e a Circula\\u00e7\\u00e3o\", \r\n",
        "          \"value\": 0.0\r\n",
        "        }, \r\n",
        "        {\r\n",
        "          \"name\": \"Imposto sobre a Renda e Proventos de Qualquer Natureza\", \r\n",
        "          \"value\": 242223.02\r\n",
        "        }, \r\n",
        "        {\r\n",
        "          \"name\": \"Adicional ISS - Fundo Municipal de Combate \\u00e0 Pobreza\", \r\n",
        "          \"value\": 327653.07\r\n",
        "        }, \r\n",
        "        {\r\n",
        "          \"name\": \"IRRF - Imposto de Renda Retido nas Fontes sobre Outros Rendimentos\", \r\n",
        "          \"value\": 226225681.79\r\n",
        "        }, \r\n",
        "        {\r\n",
        "          \"name\": \"ISS - Imposto sobre Servi\\u00e7os de Qualquer Natureza\", \r\n",
        "          \"value\": 924157539.39\r\n",
        "        }, \r\n",
        "        {\r\n",
        "          \"name\": \"IRRF - Imposto de Renda Retido nas Fontes sobre os Rendimentos do Trabalho\", \r\n",
        "          \"value\": 984846685.99\r\n",
        "        }, \r\n",
        "        {\r\n",
        "          \"name\": \"ITBI - Imposto sobre Transmiss\\u00e3o \\\"Inter Vivos\\\" de Bens Im\\u00f3veis e de Direitos Reais sobre Im\\u00f3veis\", \r\n",
        "          \"value\": 1405961460.17\r\n",
        "        }, \r\n",
        "        {\r\n",
        "          \"name\": \"IPTU - Imposto sobre a Propriedade Predial e Territorial Urbana\", \r\n",
        "          \"value\": 5906159027.65\r\n",
        "        }, \r\n",
        "        {\r\n",
        "          \"name\": \"ISS - Imposto sobre Servi\\u00e7os de Qualquer Natureza\", \r\n",
        "          \"value\": 10121237864.1\r\n",
        "        }\r\n",
        "      ]\r\n",
        "    }, \r\n",
        "    {\r\n",
        "      \"name\": \"Taxas\", \r\n",
        "      \"children\": [\r\n",
        "        {\r\n",
        "          \"name\": \"Outras Taxas pela Presta\\u00e7\\u00e3o de Servi\\u00e7os\", \r\n",
        "          \"value\": 1052879.79\r\n",
        "        }, \r\n",
        "        {\r\n",
        "          \"name\": \"Taxa de Fiscaliza\\u00e7\\u00e3o de Aparelhos de Transporte\", \r\n",
        "          \"value\": 8847031.77\r\n",
        "        }, \r\n",
        "        {\r\n",
        "          \"name\": \"Outras Taxas pelo Exerc\\u00edcio do Poder de Pol\\u00edcia\", \r\n",
        "          \"value\": 10791121.12\r\n",
        "        }, \r\n",
        "        {\r\n",
        "          \"name\": \"Taxa de Publicidade Comercial\", \r\n",
        "          \"value\": 16850185.89\r\n",
        "        }, \r\n",
        "        {\r\n",
        "          \"name\": \"Taxa de Limpeza P\\u00fablica\", \r\n",
        "          \"value\": 47218626.3\r\n",
        "        }, \r\n",
        "        {\r\n",
        "          \"name\": \"Taxa de Aprova\\u00e7\\u00e3o do Projeto de Contru\\u00e7\\u00e3o Civil\", \r\n",
        "          \"value\": 85610353.83\r\n",
        "        }, \r\n",
        "        {\r\n",
        "          \"name\": \"Taxa de Licen\\u00e7a para Funcionamento de Estabelecimentos Comerciais, Ind\\u00fastria e Prestadora de Servi\\u00e7os\", \r\n",
        "          \"value\": 117461118.26\r\n",
        "        }\r\n",
        "      ]\r\n",
        "    }\r\n",
        "  ]\r\n",
        "}"
       ]
      }
     ],
     "prompt_number": 61
    },
    {
     "cell_type": "code",
     "collapsed": false,
     "input": [
      "json.dumps(treemap, encoding=\"utf-8\", indent=2)"
     ],
     "language": "python",
     "metadata": {},
     "outputs": [
      {
       "metadata": {},
       "output_type": "pyout",
       "prompt_number": 45,
       "text": [
        "'{\\n  \"name\": \"Impostos x Taxas\", \\n  \"children\": [\\n    {\\n      \"name\": \"Impostos\", \\n      \"children\": [\\n        {\\n          \"name\": \"Impostos sobre a Produ\\\\u00e7\\\\u00e3o e a Circula\\\\u00e7\\\\u00e3o\", \\n          \"value\": 0.0\\n        }, \\n        {\\n          \"name\": \"Imposto sobre a Renda e Proventos de Qualquer Natureza\", \\n          \"value\": 242223.02\\n        }, \\n        {\\n          \"name\": \"Adicional ISS - Fundo Municipal de Combate \\\\u00e0 Pobreza\", \\n          \"value\": 327653.07\\n        }, \\n        {\\n          \"name\": \"IRRF - Imposto de Renda Retido nas Fontes sobre Outros Rendimentos\", \\n          \"value\": 226225681.79\\n        }, \\n        {\\n          \"name\": \"ISS - Imposto sobre Servi\\\\u00e7os de Qualquer Natureza\", \\n          \"value\": 924157539.39\\n        }, \\n        {\\n          \"name\": \"IRRF - Imposto de Renda Retido nas Fontes sobre os Rendimentos do Trabalho\", \\n          \"value\": 984846685.99\\n        }, \\n        {\\n          \"name\": \"ITBI - Imposto sobre Transmiss\\\\u00e3o \\\\\"Inter Vivos\\\\\" de Bens Im\\\\u00f3veis e de Direitos Reais sobre Im\\\\u00f3veis\", \\n          \"value\": 1405961460.17\\n        }, \\n        {\\n          \"name\": \"IPTU - Imposto sobre a Propriedade Predial e Territorial Urbana\", \\n          \"value\": 5906159027.65\\n        }, \\n        {\\n          \"name\": \"ISS - Imposto sobre Servi\\\\u00e7os de Qualquer Natureza\", \\n          \"value\": 10121237864.1\\n        }\\n      ]\\n    }, \\n    {\\n      \"name\": \"Taxas\", \\n      \"children\": [\\n        {\\n          \"name\": \"Outras Taxas pela Presta\\\\u00e7\\\\u00e3o de Servi\\\\u00e7os\", \\n          \"value\": 1052879.79\\n        }, \\n        {\\n          \"name\": \"Taxa de Fiscaliza\\\\u00e7\\\\u00e3o de Aparelhos de Transporte\", \\n          \"value\": 8847031.77\\n        }, \\n        {\\n          \"name\": \"Outras Taxas pelo Exerc\\\\u00edcio do Poder de Pol\\\\u00edcia\", \\n          \"value\": 10791121.12\\n        }, \\n        {\\n          \"name\": \"Taxa de Publicidade Comercial\", \\n          \"value\": 16850185.89\\n        }, \\n        {\\n          \"name\": \"Taxa de Limpeza P\\\\u00fablica\", \\n          \"value\": 47218626.3\\n        }, \\n        {\\n          \"name\": \"Taxa de Aprova\\\\u00e7\\\\u00e3o do Projeto de Contru\\\\u00e7\\\\u00e3o Civil\", \\n          \"value\": 85610353.83\\n        }, \\n        {\\n          \"name\": \"Taxa de Licen\\\\u00e7a para Funcionamento de Estabelecimentos Comerciais, Ind\\\\u00fastria e Prestadora de Servi\\\\u00e7os\", \\n          \"value\": 117461118.26\\n        }\\n      ]\\n    }\\n  ]\\n}'"
       ]
      }
     ],
     "prompt_number": 45
    },
    {
     "cell_type": "code",
     "collapsed": false,
     "input": [],
     "language": "python",
     "metadata": {},
     "outputs": []
    }
   ],
   "metadata": {}
  }
 ]
}