{
 "metadata": {
  "name": "",
  "signature": "sha256:70b24a384f86091dc8500e4d5c433ed054b30b9157bc5547778ff2167adab94b"
 },
 "nbformat": 3,
 "nbformat_minor": 0,
 "worksheets": [
  {
   "cells": [
    {
     "cell_type": "code",
     "collapsed": false,
     "input": [
      "from gastosabertos import create_app\n",
      "from gastosabertos.extensions import db\n",
      "from gastosabertos.receita import Revenue\n",
      "from sqlalchemy import extract\n",
      "from collections import defaultdict"
     ],
     "language": "python",
     "metadata": {},
     "outputs": [],
     "prompt_number": 34
    },
    {
     "cell_type": "code",
     "collapsed": false,
     "input": [
      "app = create_app()\n",
      "db.app = app"
     ],
     "language": "python",
     "metadata": {},
     "outputs": [],
     "prompt_number": 8
    },
    {
     "cell_type": "code",
     "collapsed": false,
     "input": [
      "year = '2014'\n",
      "q = db.session.query(Revenue).filter(extract('year', Revenue.date) == year).all()"
     ],
     "language": "python",
     "metadata": {},
     "outputs": [],
     "prompt_number": 39
    },
    {
     "cell_type": "markdown",
     "metadata": {},
     "source": [
      "# Dicion\u00e1rio utilizando c\u00f3digos originais como chave\n",
      "\n",
      "Dessa forma conseguimos saber quantas vezes um c\u00f3digo aparece em mais de uma linha do arquivo. \n",
      "Como pegamos s\u00f3 as entradas de 2014 esperamos que possua pelo menos 12 entradas, sendo uma entrada\n",
      "por m\u00eas."
     ]
    },
    {
     "cell_type": "code",
     "collapsed": false,
     "input": [
      "revenues = defaultdict(list)\n",
      "for r in q:\n",
      "    revenues[r.original_code] += [r]"
     ],
     "language": "python",
     "metadata": {},
     "outputs": [],
     "prompt_number": 36
    },
    {
     "cell_type": "markdown",
     "metadata": {},
     "source": [
      "Vamos checar se todos s\u00e3o m\u00faltiplos de 12. Se forem 12, \u00f3timo, sabemos que possuimos uma entrada por m\u00eas, sem replica\u00e7\u00e3o ou d\u00favidas. Se for m\u00faltiplos de 12 podemos imaginar que possuimos entradas que apesar do c\u00f3digo igual, referem-se a subtipos diferentes que n\u00e3o est\u00e3o descritos no arquivo que possu\u00edmos."
     ]
    },
    {
     "cell_type": "code",
     "collapsed": false,
     "input": [
      "all([0 == len(revenues_dict[code]) % 12 for code in revenues.keys()])"
     ],
     "language": "python",
     "metadata": {},
     "outputs": [
      {
       "metadata": {},
       "output_type": "pyout",
       "prompt_number": 38,
       "text": [
        "True"
       ]
      }
     ],
     "prompt_number": 38
    },
    {
     "cell_type": "markdown",
     "metadata": {},
     "source": [
      "\u00d3timo! Pelo menos o problema n\u00e3o parece t\u00e3o grave. Vamos checar ent\u00e3o se o campo com valores realizados encontra-se duplicado. Para isso vou testar para o c\u00f3digo '1.2.1.0.29.07'."
     ]
    },
    {
     "cell_type": "heading",
     "level": 1,
     "metadata": {},
     "source": [
      "1.2.1.0.29.07 em 2014"
     ]
    },
    {
     "cell_type": "code",
     "collapsed": false,
     "input": [
      "for r in d['1.2.1.0.29.07']:\n",
      "    print r.monthly_outcome"
     ],
     "language": "python",
     "metadata": {},
     "outputs": [
      {
       "output_type": "stream",
       "stream": "stdout",
       "text": [
        "56395538.13\n",
        "54984384.66\n",
        "55266204.36\n",
        "55794514.50\n",
        "58898492.29\n",
        "60672134.82\n",
        "59295574.44\n",
        "61760857.44\n",
        "57785561.63\n",
        "59693071.09\n",
        "57279201.59\n",
        "90.48\n",
        "838594.80\n",
        "834927.92\n",
        "833048.33\n",
        "831009.11\n",
        "817743.75\n",
        "980374.85\n",
        "858648.39\n",
        "856124.21\n",
        "864656.94\n",
        "920179.22\n",
        "886985.12\n",
        "0.00\n",
        "730200.31\n",
        "709888.66\n",
        "707924.39\n",
        "709126.69\n",
        "708342.13\n",
        "784818.29\n",
        "727548.93\n",
        "731020.40\n",
        "748711.53\n",
        "728886.68\n",
        "722805.96\n",
        "0.00\n",
        "7877.39\n",
        "8262.24\n",
        "8262.24\n",
        "8463.86\n",
        "8186.90\n",
        "8162.14\n",
        "8162.14\n",
        "8804.93\n",
        "8087.36\n",
        "8243.49\n",
        "8352.40\n",
        "0.00\n",
        "306996.36\n",
        "303003.96\n",
        "301142.22\n",
        "300265.67\n",
        "313186.79\n",
        "306167.72\n",
        "309395.83\n",
        "318327.80\n",
        "304647.08\n",
        "305436.29\n",
        "304562.01\n",
        "0.00\n",
        "46889.09\n",
        "45758.97\n",
        "45985.87\n",
        "45558.09\n",
        "45406.16\n",
        "50499.62\n",
        "44569.06\n",
        "48017.61\n",
        "46523.73\n",
        "39824.15\n",
        "42411.50\n",
        "42527.57\n",
        "81890.58\n",
        "53970.41\n",
        "52810.78\n",
        "62962.80\n",
        "50782.92\n",
        "31926.71\n",
        "49437.61\n",
        "58309.55\n",
        "53761.47\n",
        "57762.71\n",
        "56368.62\n",
        "3619.69\n",
        "285074.92\n",
        "285151.93\n",
        "286858.15\n",
        "296914.75\n",
        "286744.65\n",
        "285999.44\n",
        "282154.39\n",
        "300766.32\n",
        "274738.02\n",
        "258349.93\n",
        "257970.32\n",
        "0.00\n",
        "0.00\n",
        "0.00\n",
        "0.00\n",
        "0.00\n",
        "0.00\n",
        "5603.26\n",
        "0.00\n",
        "0.00\n",
        "0.00\n",
        "0.00\n",
        "0.00\n",
        "0.00\n",
        "0.00\n",
        "4502.68\n",
        "0.00\n",
        "0.00\n",
        "0.00\n",
        "1703.46\n",
        "0.00\n",
        "0.00\n",
        "0.00\n",
        "0.00\n",
        "0.00\n",
        "0.00\n",
        "0.00\n",
        "0.00\n",
        "0.00\n",
        "0.00\n",
        "0.00\n",
        "8218.84\n",
        "0.00\n",
        "0.00\n",
        "0.00\n",
        "0.00\n",
        "0.00\n",
        "0.00\n",
        "0.00\n",
        "0.00\n",
        "0.00\n",
        "0.00\n",
        "0.00\n",
        "1692.70\n",
        "0.00\n",
        "0.00\n",
        "0.00\n",
        "0.00\n",
        "0.00\n",
        "0.00\n"
       ]
      }
     ],
     "prompt_number": 31
    },
    {
     "cell_type": "heading",
     "level": 1,
     "metadata": {},
     "source": [
      "1.1.1.2.02.01 em 2011"
     ]
    },
    {
     "cell_type": "code",
     "collapsed": false,
     "input": [
      "year = '2011'\n",
      "q = db.session.query(Revenue).filter(extract('year', Revenue.date) == year).all()"
     ],
     "language": "python",
     "metadata": {},
     "outputs": [],
     "prompt_number": 48
    },
    {
     "cell_type": "code",
     "collapsed": false,
     "input": [
      "revenues = defaultdict(list)\n",
      "for r in q:\n",
      "    revenues[r.original_code] += [r]"
     ],
     "language": "python",
     "metadata": {},
     "outputs": [],
     "prompt_number": 51
    },
    {
     "cell_type": "code",
     "collapsed": false,
     "input": [
      "all([0 == len(revenues[code]) % 12 for code in revenues.keys()])"
     ],
     "language": "python",
     "metadata": {},
     "outputs": [
      {
       "metadata": {},
       "output_type": "pyout",
       "prompt_number": 52,
       "text": [
        "True"
       ]
      }
     ],
     "prompt_number": 52
    },
    {
     "cell_type": "code",
     "collapsed": false,
     "input": [
      "for r in revenues['1.1.1.2.02.01']:\n",
      "    print r.date, r.monthly_outcome"
     ],
     "language": "python",
     "metadata": {},
     "outputs": [
      {
       "output_type": "stream",
       "stream": "stdout",
       "text": [
        "2011-01-31 00:00:00 102727192.89\n",
        "2011-02-28 00:00:00 0.00\n",
        "2011-03-31 00:00:00 1306138398.41\n",
        "2011-04-30 00:00:00 0.00\n",
        "2011-05-31 00:00:00 379401568.63\n",
        "2011-06-30 00:00:00 0.00\n",
        "2011-07-31 00:00:00 297207110.08\n",
        "2011-08-31 00:00:00 0.00\n",
        "2011-09-30 00:00:00 337338324.75\n",
        "2011-10-31 00:00:00 0.00\n",
        "2011-11-30 00:00:00 310068828.47\n",
        "2011-12-31 00:00:00 0.00\n",
        "2011-01-31 00:00:00 293725994.02\n",
        "2011-02-28 00:00:00 0.00\n",
        "2011-03-31 00:00:00 314980755.30\n",
        "2011-04-30 00:00:00 0.00\n",
        "2011-05-31 00:00:00 300478159.98\n",
        "2011-06-30 00:00:00 0.00\n",
        "2011-07-31 00:00:00 298250991.07\n",
        "2011-08-31 00:00:00 0.00\n",
        "2011-09-30 00:00:00 294862477.86\n",
        "2011-10-31 00:00:00 0.00\n",
        "2011-11-30 00:00:00 91513590.82\n",
        "2011-12-31 00:00:00 0.00\n"
       ]
      }
     ],
     "prompt_number": 55
    },
    {
     "cell_type": "code",
     "collapsed": false,
     "input": [],
     "language": "python",
     "metadata": {},
     "outputs": []
    }
   ],
   "metadata": {}
  }
 ]
}