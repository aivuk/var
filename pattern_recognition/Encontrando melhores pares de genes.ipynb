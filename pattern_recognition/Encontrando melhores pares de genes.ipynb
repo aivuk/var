{
 "metadata": {
  "kernelspec": {
   "codemirror_mode": {
    "name": "ipython",
    "version": 2
   },
   "display_name": "IPython (Python 2)",
   "language": "python",
   "name": "python2"
  },
  "name": "",
  "signature": "sha256:6b9d7b1d9dc3be7ba3a566541d6880eb451bb7ca9a1fa0288c4b4ac057dd1cb3"
 },
 "nbformat": 3,
 "nbformat_minor": 0,
 "worksheets": [
  {
   "cells": [
    {
     "cell_type": "markdown",
     "metadata": {},
     "source": [
      "# Achando pares linearmente separ\u00e1veis\n",
      "\n",
      "O intuito original era encontrarmos os pares de genes que melhor separam um conjunto de dados para diferente grupos de pacientes (braca1, braca2, diferente de braca1 e diferente de braca2) pelo m\u00e9todo de soft margin hyperplane separator. Isso pode ser reduzido a um problema de optimiza\u00e7\u00e3o quadr\u00e1tica que ser\u00e1 resolvido utilizando alguma biblioteca padr\u00e3o para isso, no nosso caso, usaremos a biblioteca cvxopt do Python.\n",
      "\n",
      "Para evitar que seja testado todos os pares via o m\u00e9todo de soft margin, podemos primeiro encontrar os pares que tornam o nosso problema linearmente separ\u00e1vel como descrito aqui:\n",
      "\n",
      "http://nbviewer.ipython.org/github/aivuk/var/blob/master/pattern_recognition/Linear%20programming.ipynb\n",
      "\n",
      "E cujo c\u00f3digo est\u00e1 aqui (https://github.com/aivuk/var/blob/master/pattern_recognition/find_genes.py):"
     ]
    },
    {
     "cell_type": "code",
     "collapsed": false,
     "input": [
      "%load find_genes.py"
     ],
     "language": "python",
     "metadata": {},
     "outputs": [],
     "prompt_number": 2
    },
    {
     "cell_type": "code",
     "collapsed": false,
     "input": [
      "import pandas as pd\n",
      "import numpy as np\n",
      "import pickle\n",
      "from cvxopt import matrix, solvers\n",
      "\n",
      "data = pd.read_csv('./data_breast_cancer.csv', header=False).T\n",
      "braca1, braca2 = data[data[3226] == 'BRACA1'], data[data[3226] == 'BRACA2']\n",
      "not_braca1, not_braca2 = data[data[3226] != 'BRACA1'][1:], data[data[3226] != 'BRACA2'][1:]\n",
      "n_genes = 3226\n",
      "groups = {'braca1_x_braca2': (braca1, braca2),\n",
      "          'braca1_x_not_braca1': (braca1, not_braca1),\n",
      "          'braca2_x_not_braca2': (braca2, not_braca2)}\n",
      "\n",
      "for gname, group_pair in groups.items():\n",
      "    group1, group2 = group_pair\n",
      "    lin_sep = []\n",
      "    for gene1, gene2 in [(gene1, gene2) for gene1 in range(n_genes) for gene2 in range(gene1 + 1, n_genes)]:\n",
      "        d1_a = [-1*float(d) for d in group1[gene1]]\n",
      "        d1_b = [float(d) for d in group2[gene1]]\n",
      "        d2_a = [-1*float(d) for d in group1[gene2]]\n",
      "        d2_b = [float(d) for d in group2[gene2]]\n",
      "        b = matrix(-1*np.ones(len(d1_a + d1_b)))\n",
      "        A = matrix([d1_a + d1_b,\n",
      "                    d2_a + d2_b,\n",
      "                    list(np.concatenate((-1*np.ones(len(d1_a)), np.ones(len(d1_b)))))])\n",
      "        c = matrix(np.zeros(3))\n",
      "    \n",
      "        try:\n",
      "            s = solvers.lp(c, A, b)\n",
      "        except:\n",
      "            continue\n",
      "    \n",
      "        if s['x']:\n",
      "            lin_sep += [(gene1, gene2)]\n",
      "    \n",
      "    output = open('lin_sep.{}'.format(gname), 'wb')\n",
      "    pickle.dump(lin_sep, output)\n"
     ],
     "language": "python",
     "metadata": {},
     "outputs": []
    },
    {
     "cell_type": "markdown",
     "metadata": {},
     "source": [
      "O c\u00f3digo acima utiliza programa\u00e7\u00e3o linear para encontrar se existe um hiperplano que separa nossos conjuntos de dados dado um par de gene. Feito isso salvamos os pares de genes encontrados num arquivo pickle do Python, para que pudesse ser utilizado pelo programa que resolver\u00e1 o problema via optimiza\u00e7\u00e3o quadr\u00e1tica.\n",
      "\n",
      "Note que o programa acima j\u00e1 \u00e9 feito para achar os pares nos tr\u00eas problemas, braca 1 com braca 2, braca 1 com diferente de braca 1 e braca 2 com diferente de braca 2."
     ]
    },
    {
     "cell_type": "markdown",
     "metadata": {},
     "source": [
      "# Encontrando soft margin hyperplane\n",
      "\n",
      "Encontrado os pares de genes e salvos nos tr\u00eas arquivos:"
     ]
    },
    {
     "cell_type": "code",
     "collapsed": false,
     "input": [
      "!ls lin_sep.*"
     ],
     "language": "python",
     "metadata": {},
     "outputs": [
      {
       "output_type": "stream",
       "stream": "stdout",
       "text": [
        "lin_sep.braca1_x_braca2  lin_sep.braca1_x_not_braca1  lin_sep.braca2_x_not_braca2\r\n"
       ]
      }
     ],
     "prompt_number": 6
    },
    {
     "cell_type": "markdown",
     "metadata": {},
     "source": [
      "Carregamos esses arquivos no programa (https://github.com/aivuk/var/blob/master/pattern_recognition/find_soft_solutions.py):"
     ]
    },
    {
     "cell_type": "code",
     "collapsed": false,
     "input": [
      "%load find_soft_solutions.py"
     ],
     "language": "python",
     "metadata": {},
     "outputs": [],
     "prompt_number": 10
    },
    {
     "cell_type": "code",
     "collapsed": false,
     "input": [
      "import pandas as pd\n",
      "from cvxopt import matrix, solvers\n",
      "import numpy as np\n",
      "import pickle\n",
      "\n",
      "data = pd.read_csv('./data_breast_cancer.csv', header=False).T\n",
      "braca1 = data[data[3226] == 'BRACA1']\n",
      "braca2 = data[data[3226] == 'BRACA2']\n",
      "not_braca1 = data[data[3226] != 'BRACA1'][1:]\n",
      "not_braca2 = data[data[3226] != 'BRACA2'][1:]\n",
      "groups = {'braca1_x_braca2': (braca1, braca2),\n",
      "          'braca1_x_not_braca1': (braca1, not_braca1),\n",
      "          'braca2_x_not_braca2': (braca2, not_braca2)}\n",
      "C = 1000\n",
      "d = 2\n",
      "\n",
      "for gname, group_pair in groups.items():\n",
      "    group1, group2 = group_pair\n",
      "    genes = pickle.load(open('lin_sep_{}'.format(gname), 'rb'))\n",
      "    solutions = {}\n",
      "    for gene1, gene2 in genes:\n",
      "        group1, group2 = groups[gname]\n",
      "        group1 = group1[[gene1, gene2]].convert_objects(convert_numeric=True)\n",
      "        group2 = group2[[gene1, gene2]].convert_objects(convert_numeric=True)\n",
      "        n_data = group1.shape[0] + group2.shape[0]\n",
      "        h = matrix([-1.0] * n_data + [0] * n_data)\n",
      "        q = matrix([0.0] * (d + 1) + [C] * n_data)\n",
      "        P = matrix(np.diag(d*[1.0] + (n_data + 1)*[0.0]))\n",
      "        ones = np.array([1.0]*group1.shape[0] + [-1.0]*group2.shape[0]).reshape((n_data, 1))\n",
      "        V1 = np.hstack([np.vstack([group1, -1*group2]), ones, -1*np.identity(n_data)])\n",
      "        V2 = np.hstack([np.zeros([n_data, d + 1]),-np.identity(n_data)])\n",
      "        G = matrix(np.vstack([V1,V2]))\n",
      "\n",
      "        try:\n",
      "            sol = solvers.qp(P, q, G, h)\n",
      "        except:\n",
      "            pass\n",
      "\n",
      "        solutions[(gene1, gene2)] = sol\n",
      "\n",
      "    pickle.dump(solutions, open('solutions_soft.{}'.format(gname), 'wb'))\n"
     ],
     "language": "python",
     "metadata": {},
     "outputs": []
    },
    {
     "cell_type": "markdown",
     "metadata": {},
     "source": [
      "O c\u00f3digo acima tamb\u00e9m resolve o problema para os tr\u00eas casos, como pode-se notar pelo dicion\u00e1rio **groups**. Aproveitei e implementei o problema pelo m\u00e9todo de hard margin pra comparar com o soft margin:"
     ]
    },
    {
     "cell_type": "code",
     "collapsed": false,
     "input": [
      "%load find_solutions.py"
     ],
     "language": "python",
     "metadata": {},
     "outputs": [],
     "prompt_number": 11
    },
    {
     "cell_type": "code",
     "collapsed": false,
     "input": [
      "import pandas as pd\n",
      "from cvxopt import matrix, solvers\n",
      "import numpy as np\n",
      "import pickle\n",
      "\n",
      "data = pd.read_csv('./data_breast_cancer.csv', header=False).T\n",
      "braca1 = data[data[3226] == 'BRACA1']\n",
      "braca2 = data[data[3226] == 'BRACA2']\n",
      "not_braca1 = data[data[3226] != 'BRACA1'][1:]\n",
      "not_braca2 = data[data[3226] != 'BRACA2'][1:]\n",
      "P = matrix(np.diag([1.0,1,0]))\n",
      "q = matrix([0.0]*3)\n",
      "groups = {'braca1_x_braca2': (braca1, braca2),\n",
      "          'braca1_x_not_braca1': (braca1, not_braca1),\n",
      "          'braca2_x_not_braca2': (braca2, not_braca2)}\n",
      "\n",
      "for gname, group_pair in groups.items():\n",
      "    group1, group2 = group_pair\n",
      "    genes = pickle.load(open('lin_sep.{}'.format(gname), 'rb'))\n",
      "    solutions = {}\n",
      "    for gene1, gene2 in genes:\n",
      "        b1 = np.array([map(float, b) for b in zip(group1[gene1], group1[gene2])])\n",
      "        b2 = np.array([map(float, b) for b in zip(group2[gene1], group2[gene2])])\n",
      "        h = matrix(-1*np.ones(b1.shape[0] + b2.shape[0]))\n",
      "        G1 = np.column_stack([b1, np.ones(b1.shape[0])])\n",
      "        G2 = -1.0*np.column_stack([b2, np.ones(b2.shape[0])])\n",
      "        G = matrix(np.vstack([G1, G2]))\n",
      "\n",
      "        try:\n",
      "            sol = solvers.qp(P, q, G, h)\n",
      "        except:\n",
      "            pass\n",
      "    \n",
      "        if sol['status'] == 'optimal':\n",
      "            w = np.array(sol['x']).reshape((1,3))[0]\n",
      "            w_mod = np.sqrt(w.T.dot(w))\n",
      "            solutions[(gene1, gene2)] = [w, w_mod]\n",
      "    \n",
      "    pickle.dump(solutions, open('solutions.{}'.format(gname), 'wb'))\n"
     ],
     "language": "python",
     "metadata": {},
     "outputs": []
    },
    {
     "cell_type": "markdown",
     "metadata": {},
     "source": [
      "E para verificar a consist\u00eancia dos m\u00e9todos implementei uma interface web para verificar as solu\u00e7\u00e3o numericamente e graficamente, que pode ser conferiro no endere\u00e7o http://o.vaz.io ou neste mesmo notebook:"
     ]
    },
    {
     "cell_type": "code",
     "collapsed": false,
     "input": [
      "from IPython.display import HTML\n",
      "HTML('<iframe src=\"http://o.vaz.io\" width=\"700\" height=\"800\">')"
     ],
     "language": "python",
     "metadata": {},
     "outputs": [
      {
       "html": [
        "<iframe src=\"http://o.vaz.io\" width=\"700\" height=\"800\">"
       ],
       "metadata": {},
       "output_type": "pyout",
       "prompt_number": 18,
       "text": [
        "<IPython.core.display.HTML at 0x4be7890>"
       ]
      }
     ],
     "prompt_number": 18
    },
    {
     "cell_type": "markdown",
     "metadata": {},
     "source": [
      "# C\u00f3digo para interface web\n",
      "\n",
      "O c\u00f3digo para a interface web \u00e9 bem simples e encontra-se no arquivo:\n",
      "\n",
      "https://github.com/aivuk/var/blob/master/pattern_recognition/svmex.py\n",
      "\n",
      "E o trecho relevante \u00e9 o seguinte:"
     ]
    },
    {
     "cell_type": "code",
     "collapsed": false,
     "input": [
      "soft = Form(params_find_soft, dirs=['imgs'], name=\"Soft Margin\", output_type='html')\n",
      "soft += Integer(\"Gene 1\")\n",
      "soft += Integer(\"Gene 2\")\n",
      "soft += Radio(\"Grupos\", default='braca1_x_braca2', choices=[('braca1_x_braca2', 'Braca 1 com Braca 2'),\n",
      "                                                            ('braca1_x_not_braca1', 'Braca 1 com Diferente de Braca 1'),\n",
      "                                                            ('braca2_x_not_braca2', 'Braca 2 com Diferente de Braca 2')])\n",
      "\n",
      "hard = Form(params_find_hard, name=\"Hard Margin\", output_type='html')\n",
      "hard += Integer(\"Gene 1\")\n",
      "hard += Integer(\"Gene 2\")\n",
      "hard += Radio(\"Grupos\", default='braca1_x_braca2', choices=[('braca1_x_braca2', 'Braca 1 com Braca 2'),\n",
      "                                                            ('braca1_x_not_braca1', 'Braca 1 com Diferente de Braca 1'),\n",
      "                                                            ('braca2_x_not_braca2', 'Braca 2 com Diferente de Braca 2')])\n",
      "\n",
      "app = MainApp('SVM', [soft, hard], host='0.0.0.0')\n",
      "\n",
      "app.run()"
     ],
     "language": "python",
     "metadata": {},
     "outputs": []
    }
   ],
   "metadata": {}
  }
 ]
}