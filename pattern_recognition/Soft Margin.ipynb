{
 "metadata": {
  "name": "",
<<<<<<< HEAD
  "signature": "sha256:e843f4d1bcaedfdd5ff91681bb3bbe0f04761b509b58bf9798d587fdb64e5ab9"
=======
  "signature": "sha256:152186ca8b00e864033a4b22d0c5891d4e5ca1e97cfa62712a29bf2894fd2315"
>>>>>>> b1bc45f18cb0f83f4d3111af562186df2bd2e2b4
 },
 "nbformat": 3,
 "nbformat_minor": 0,
 "worksheets": [
  {
   "cells": [
    {
     "cell_type": "code",
     "collapsed": false,
     "input": [
      "import pandas as pd\n",
      "from cvxopt import matrix, solvers\n",
      "import numpy as np\n",
      "import pickle\n",
      "\n",
      "data = pd.read_csv('./data_breast_cancer.csv', header=False).T\n",
      "braca1 = data[data[3226] == 'BRACA1']\n",
      "braca2 = data[data[3226] == 'BRACA2']\n",
      "not_braca1 = data[data[3226] != 'BRACA1'][1:]\n",
      "not_braca2 = data[data[3226] != 'BRACA2'][1:]\n",
      "\n",
      "groups = {'braca1_x_braca2': (braca1, braca2),\n",
      "          'braca1_x_not_braca1': (braca1, not_braca1),\n",
      "          'braca2_x_not_braca2': (braca2, not_braca2)}"
     ],
     "language": "python",
     "metadata": {},
     "outputs": [],
     "prompt_number": 135
    },
    {
     "cell_type": "code",
     "collapsed": false,
     "input": [
      "c = 1000\n",
      "d = 2\n",
      "n_data = braca_1.shape[0] + braca_2.shape[0]\n",
      "braca_1, braca_2 = groups['braca1_x_braca2']\n",
      "\n",
      "braca_1 = braca_1[[1619,2869]].convert_objects(convert_numeric=True)\n",
      "braca_2 = braca_2[[1619,2869]].convert_objects(convert_numeric=True)\n",
      "\n",
      "h = matrix([-1.0] * n_data + [0] * n_data)\n",
      "q = matrix([0.0] * (d + 1) + [c] * n_data)\n",
      "\n",
      "P = np.zeros([(d + 1) + n_data, (d + 1) + n_data])\n",
      "P[0,0] = 1\n",
      "P[1,1] = 1\n",
      "P = matrix(P)\n",
      "\n",
      "ones = np.array([1.0]*braca_1.shape[0] + [-1.0]*braca_2.shape[0]).reshape((15,1))\n",
      "V1 = np.hstack([np.vstack([braca_1, -1*braca_2]), ones, -1*np.identity(n_data)])\n",
      "V2 = np.hstack([np.zeros([n_data, d + 1]),-np.identity(n_data)])\n",
      "G = matrix(np.vstack([V1,V2]))\n",
      "\n",
      "sol = solvers.qp (P, q, G, h)"
     ],
     "language": "python",
     "metadata": {},
     "outputs": [],
     "prompt_number": 107
    },
    {
     "cell_type": "code",
     "collapsed": false,
     "input": [
      "sol = solvers.qp (P, q, G, h)"
     ],
     "language": "python",
     "metadata": {},
     "outputs": [
      {
       "output_type": "stream",
       "stream": "stdout",
       "text": [
        "     pcost       dcost       gap    pres   dres\n",
        " 0: -1.2630e+07  4.1450e+06  1e+07  2e+03  3e+00\n",
        " 1: -1.0133e+06 -7.9666e+05  2e+06  2e+02  3e-01\n",
        " 2:  2.9482e+04 -1.0381e+05  2e+05  1e+01  1e-02\n",
        " 3:  1.4719e+04 -1.3354e+04  3e+04  2e-13  5e-16\n",
        " 4:  2.1724e+03 -1.9014e+03  4e+03  5e-14  2e-16\n",
        " 5:  3.1545e+02 -2.6594e+02  6e+02  2e-14  3e-16\n",
        " 6:  4.7777e+01 -3.5359e+01  8e+01  1e-14  3e-16\n",
        " 7:  7.9828e+00 -3.7723e+00  1e+01  5e-15  3e-16\n",
        " 8:  1.7828e+00  2.9211e-01  1e+00  2e-15  2e-16\n",
        " 9:  1.1459e+00  8.9524e-01  3e-01  1e-15  2e-16\n",
        "10:  1.1037e+00  1.0973e+00  6e-03  7e-16  2e-16\n",
        "11:  1.1011e+00  1.1010e+00  6e-05  8e-16  3e-16\n",
        "12:  1.1011e+00  1.1011e+00  6e-07  7e-16  2e-16\n",
        "Optimal solution found.\n"
       ]
      }
     ],
     "prompt_number": 110
    },
    {
     "cell_type": "code",
     "collapsed": false,
     "input": [
      "%pylab inline\n",
      "import matplotlib as plt\n",
      "\n",
      "braca_1, braca_2 = groups['braca1_x_braca2']\n",
      "\n",
      "sols = pickle.load(open('solutions_soft.braca1_x_braca2', 'rb'))\n",
      "gene1, gene2 = sols.items()[1][0]\n",
      "\n",
      "braca_1 = braca_1[[gene1, gene2]].convert_objects(convert_numeric=True)\n",
      "braca_2 = braca_2[[gene1, gene2]].convert_objects(convert_numeric=True)\n",
      "\n",
      "scatter(list(braca_1[gene1]), list(braca_1[gene2]), c='red')\n",
      "scatter(list(braca_2[gene1]), list(braca_2[gene2]))\n",
      "xmin, xmax = xlim()\n",
      "sol = sols.items()[1][1]\n",
      "#sol_w = sorted_solutions[sol_num][1][1]\n",
      "xspace = np.linspace(xmin, xmax)\n",
      "a = - sol['x'][0] / sol['x'][1]\n",
      "b = - sol['x'][2] / sol['x'][1]\n",
      "yspace = a * xspace + b \n",
      "b1 = (1 - sol['x'][2]) / sol['x'][1]\n",
      "b2 = (- 1 - sol['x'][2]) / sol['x'][1]\n",
      "yspace_a = a * xspace + b1\n",
      "yspace_b = a * xspace + b2\n",
      "#plt.subplot(2,5, sol_num)\n",
      "plot(xspace,yspace, 'k-')\n",
      "plot(xspace,yspace_a, 'k--')\n",
      "plot(xspace,yspace_b, 'k--')"
     ],
     "language": "python",
     "metadata": {},
     "outputs": [
      {
       "output_type": "stream",
       "stream": "stdout",
       "text": [
        "Populating the interactive namespace from numpy and matplotlib\n"
       ]
      },
      {
       "output_type": "stream",
       "stream": "stderr",
       "text": [
        "WARNING: pylab import has clobbered these variables: ['plt']\n",
        "`%matplotlib` prevents importing * from pylab and numpy\n"
       ]
      },
      {
       "metadata": {},
       "output_type": "pyout",
       "prompt_number": 146,
       "text": [
        "[<matplotlib.lines.Line2D at 0x16ee16d0>]"
       ]
      },
      {
       "metadata": {},
       "output_type": "display_data",
       "png": "iVBORw0KGgoAAAANSUhEUgAAAXcAAAEACAYAAABI5zaHAAAABHNCSVQICAgIfAhkiAAAAAlwSFlz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\nExHJ0P8HLRFaavT0qxsAAAAASUVORK5CYII=\n",
       "text": [
        "<matplotlib.figure.Figure at 0x1dd71d10>"
       ]
      }
     ],
     "prompt_number": 146
    },
    {
     "cell_type": "code",
     "collapsed": false,
     "input": [
      "h = opt.matrix([-1.0] * N1 + [-1] * N2 + [0] * N)\n",
      "q = opt.matrix([0.0] * (d+1) + [C] * N)\n",
      "P = np.diag(d*[1] + (n_data + 1)*[0])\n",
      "\n",
      "ones = np.array([1]*braca_1.shape[0] + [-1]*braca_2.shape[0])).T\n",
      "V1 = np.hstack([np.vstack([braca_1, -braca_2]), ones, -np.identity(n_data)])\n",
      "V2 = np.hstack([zeros,-np.identity(n_data)])\n",
      "\n",
      "sol = opt.solvers.qp (P, q, G, h)"
     ],
     "language": "python",
     "metadata": {},
     "outputs": [
      {
       "ename": "SyntaxError",
       "evalue": "invalid syntax (<ipython-input-17-48d0e3103031>, line 5)",
       "output_type": "pyerr",
       "traceback": [
        "\u001b[1;36m  File \u001b[1;32m\"<ipython-input-17-48d0e3103031>\"\u001b[1;36m, line \u001b[1;32m5\u001b[0m\n\u001b[1;33m    ones = np.array([1]*braca_1.shape[0] + [-1]*braca_2.shape[0])).T\u001b[0m\n\u001b[1;37m                                                                 ^\u001b[0m\n\u001b[1;31mSyntaxError\u001b[0m\u001b[1;31m:\u001b[0m invalid syntax\n"
       ]
      }
     ],
     "prompt_number": 17
    },
    {
     "cell_type": "code",
     "collapsed": false,
     "input": [
<<<<<<< HEAD
      "list(braca_1.icol(0))"
=======
      "braca_1"
>>>>>>> b1bc45f18cb0f83f4d3111af562186df2bd2e2b4
     ],
     "language": "python",
     "metadata": {},
     "outputs": [
      {
<<<<<<< HEAD
       "metadata": {},
       "output_type": "pyout",
       "prompt_number": 155,
       "text": [
        "[0.14999999999999999,\n",
        " 0.22,\n",
        " 0.29999999999999999,\n",
        " 0.26000000000000001,\n",
        " 1.22,\n",
        " 0.44,\n",
        " 0.38]"
       ]
      }
     ],
     "prompt_number": 155
=======
       "html": [
        "<div style=\"max-height:1000px;max-width:1500px;overflow:auto;\">\n",
        "<table border=\"1\" class=\"dataframe\">\n",
        "  <thead>\n",
        "    <tr style=\"text-align: right;\">\n",
        "      <th></th>\n",
        "      <th>1619</th>\n",
        "      <th>2869</th>\n",
        "    </tr>\n",
        "  </thead>\n",
        "  <tbody>\n",
        "    <tr>\n",
        "      <th>P01</th>\n",
        "      <td>  3.63</td>\n",
        "      <td> 1.16</td>\n",
        "    </tr>\n",
        "    <tr>\n",
        "      <th>P02</th>\n",
        "      <td> 11.63</td>\n",
        "      <td> 1.19</td>\n",
        "    </tr>\n",
        "    <tr>\n",
        "      <th>P03</th>\n",
        "      <td>  6.73</td>\n",
        "      <td> 1.18</td>\n",
        "    </tr>\n",
        "    <tr>\n",
        "      <th>P04</th>\n",
        "      <td>  6.32</td>\n",
        "      <td> 1.36</td>\n",
        "    </tr>\n",
        "    <tr>\n",
        "      <th>P05</th>\n",
        "      <td>  6.89</td>\n",
        "      <td> 3.07</td>\n",
        "    </tr>\n",
        "    <tr>\n",
        "      <th>P06</th>\n",
        "      <td>  2.91</td>\n",
        "      <td> 1.54</td>\n",
        "    </tr>\n",
        "    <tr>\n",
        "      <th>P18</th>\n",
        "      <td>  3.52</td>\n",
        "      <td> 1.67</td>\n",
        "    </tr>\n",
        "  </tbody>\n",
        "</table>\n",
        "</div>"
       ],
       "metadata": {},
       "output_type": "pyout",
       "prompt_number": 134,
       "text": [
        "      1619  2869\n",
        "P01   3.63  1.16\n",
        "P02  11.63  1.19\n",
        "P03   6.73  1.18\n",
        "P04   6.32  1.36\n",
        "P05   6.89  3.07\n",
        "P06   2.91  1.54\n",
        "P18   3.52  1.67"
       ]
      }
     ],
     "prompt_number": 134
>>>>>>> b1bc45f18cb0f83f4d3111af562186df2bd2e2b4
    },
    {
     "cell_type": "code",
     "collapsed": false,
     "input": [
      "braca_1[[gene1, gene2]]"
     ],
     "language": "python",
     "metadata": {},
     "outputs": [
      {
       "metadata": {},
       "output_type": "pyout",
       "prompt_number": 139,
       "text": [
        "array([['0.15', '1.34'],\n",
        "       ['0.22', '1.17'],\n",
        "       ['0.3', '0.76'],\n",
        "       ['0.26', '0.86'],\n",
        "       ['1.22', '1.09'],\n",
        "       ['0.44', '0.81'],\n",
        "       ['0.38', '0.57']], dtype=object)"
       ]
      }
     ],
     "prompt_number": 139
    },
    {
     "cell_type": "code",
     "collapsed": false,
<<<<<<< HEAD
     "input": [
      "x = matrix([1,2,3])"
     ],
     "language": "python",
     "metadata": {},
     "outputs": [],
     "prompt_number": 147
    },
    {
     "cell_type": "code",
     "collapsed": false,
=======
>>>>>>> b1bc45f18cb0f83f4d3111af562186df2bd2e2b4
     "input": [],
     "language": "python",
     "metadata": {},
     "outputs": []
    }
   ],
   "metadata": {}
  }
 ]
}