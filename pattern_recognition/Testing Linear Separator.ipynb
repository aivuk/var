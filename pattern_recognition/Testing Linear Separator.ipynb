{
 "metadata": {
  "name": "",
<<<<<<< HEAD
  "signature": "sha256:1f3fb370ad17b6d1f8cb7fff62c52aede4dbec13f12bccfdf7816a882c0a522a"
=======
  "signature": "sha256:b71358f215d7617bd7ecfd2cb13938a4cde62590d3ad3e10c394028fd0dbc24e"
>>>>>>> b1bc45f18cb0f83f4d3111af562186df2bd2e2b4
 },
 "nbformat": 3,
 "nbformat_minor": 0,
 "worksheets": [
  {
   "cells": [
    {
     "cell_type": "code",
     "collapsed": false,
     "input": [
      "%pylab inline\n",
      "\n",
      "import pandas as pd\n",
      "from cvxopt import matrix, solvers\n",
      "import numpy as np\n",
<<<<<<< HEAD
      "import pickle\n",
      "import bz2\n"
=======
      "import pickle\n"
>>>>>>> b1bc45f18cb0f83f4d3111af562186df2bd2e2b4
     ],
     "language": "python",
     "metadata": {},
     "outputs": [
      {
       "output_type": "stream",
       "stream": "stdout",
       "text": [
        "Populating the interactive namespace from numpy and matplotlib\n"
       ]
      },
      {
       "output_type": "stream",
       "stream": "stderr",
       "text": [
        "WARNING: pylab import has clobbered these variables: ['matrix']\n",
        "`%matplotlib` prevents importing * from pylab and numpy\n"
       ]
      }
     ],
     "prompt_number": 63
    },
    {
     "cell_type": "code",
     "collapsed": false,
     "input": [
      "da = pd.read_csv('./data_breast_cancer.csv', header=False).T"
     ],
     "language": "python",
     "metadata": {},
     "outputs": [],
     "prompt_number": 105
    },
    {
     "cell_type": "code",
     "collapsed": false,
     "input": [
<<<<<<< HEAD
      "#f = open('solutions_soft.braca1_x_braca2.bz2','rb')\n",
      "solutions = pickle.load(bz2.BZ2File('solutions_soft.braca1_x_braca2.bz2'))"
=======
      "solutions = pickle.load(open('solutions.braca1_x_braca2','rb'))"
>>>>>>> b1bc45f18cb0f83f4d3111af562186df2bd2e2b4
     ],
     "language": "python",
     "metadata": {},
     "outputs": [],
<<<<<<< HEAD
     "prompt_number": 4
=======
     "prompt_number": 101
>>>>>>> b1bc45f18cb0f83f4d3111af562186df2bd2e2b4
    },
    {
     "cell_type": "code",
     "collapsed": false,
     "input": [
<<<<<<< HEAD
      "w = np.array(solutions.items()[0][1]['x'])"
=======
      "sorted_solutions = sorted(solutions.items(), key=lambda x: x[1][1])"
>>>>>>> b1bc45f18cb0f83f4d3111af562186df2bd2e2b4
     ],
     "language": "python",
     "metadata": {},
     "outputs": [],
<<<<<<< HEAD
     "prompt_number": 18
    },
    {
     "cell_type": "code",
     "collapsed": false,
     "input": [
      "2/np.sqrt(sum(fs[0][1]['x'][0:2]**2))"
     ],
     "language": "python",
     "metadata": {},
     "outputs": [
      {
       "metadata": {},
       "output_type": "pyout",
       "prompt_number": 58,
       "text": [
        "2.2889189116053621"
       ]
      }
     ],
     "prompt_number": 58
=======
     "prompt_number": 102
>>>>>>> b1bc45f18cb0f83f4d3111af562186df2bd2e2b4
    },
    {
     "cell_type": "code",
     "collapsed": false,
     "input": [
<<<<<<< HEAD
      "sorted_solutions = sorted(solutions.items(), key=lambda s: sum(s[1]['x'][0:2]**2))"
     ],
     "language": "python",
     "metadata": {},
     "outputs": [],
     "prompt_number": 30
    },
    {
     "cell_type": "code",
     "collapsed": false,
     "input": [
      "fs = filter(lambda x: x[0][0] != x[0][1], sorted_solutions)"
     ],
     "language": "python",
     "metadata": {},
     "outputs": [],
     "prompt_number": 43
    },
    {
     "cell_type": "code",
     "collapsed": false,
     "input": [
      "fs[0:10]"
     ],
     "language": "python",
     "metadata": {},
     "outputs": [
      {
       "metadata": {},
       "output_type": "pyout",
       "prompt_number": 59,
       "text": [
        "[((94, 3064),\n",
        "  {'dual infeasibility': 2.2162416871500226e-16,\n",
        "   'dual objective': 0.3817413145533915,\n",
        "   'dual slack': 3.691628229329497e-10,\n",
        "   'gap': 2.328675606205647e-08,\n",
        "   'iterations': 14,\n",
        "   'primal infeasibility': 6.203272907062913e-16,\n",
        "   'primal objective': 0.3817413378401475,\n",
        "   'primal slack': 6.0624792513035e-13,\n",
        "   'relative gap': 6.100140376291263e-08,\n",
        "   's': <30x1 matrix, tc='d'>,\n",
        "   'status': 'optimal',\n",
        "   'x': <18x1 matrix, tc='d'>,\n",
        "   'y': <0x1 matrix, tc='d'>,\n",
        "   'z': <30x1 matrix, tc='d'>}),\n",
        " ((815, 2279),\n",
        "  {'dual infeasibility': 1.7366603052672605e-16,\n",
        "   'dual objective': 0.4944375266700952,\n",
        "   'dual slack': 8.011152439511274e-10,\n",
        "   'gap': 1.5348688918423144e-07,\n",
        "   'iterations': 13,\n",
        "   'primal infeasibility': 5.424118835521272e-16,\n",
        "   'primal objective': 0.4944376801569844,\n",
        "   'primal slack': 4.211249377554994e-12,\n",
        "   'relative gap': 3.104272651348385e-07,\n",
        "   's': <30x1 matrix, tc='d'>,\n",
        "   'status': 'optimal',\n",
        "   'x': <18x1 matrix, tc='d'>,\n",
        "   'y': <0x1 matrix, tc='d'>,\n",
        "   'z': <30x1 matrix, tc='d'>}),\n",
        " ((1019, 3064),\n",
        "  {'dual infeasibility': 2.0963006807122745e-16,\n",
        "   'dual objective': 0.5516846535768969,\n",
        "   'dual slack': 1.2631438870330574e-10,\n",
        "   'gap': 2.2311728671937242e-08,\n",
        "   'iterations': 13,\n",
        "   'primal infeasibility': 6.373285523059703e-16,\n",
        "   'primal objective': 0.5516846758886252,\n",
        "   'primal slack': 6.167995617834203e-13,\n",
        "   'relative gap': 4.0442902530054354e-08,\n",
        "   's': <30x1 matrix, tc='d'>,\n",
        "   'status': 'optimal',\n",
        "   'x': <18x1 matrix, tc='d'>,\n",
        "   'y': <0x1 matrix, tc='d'>,\n",
        "   'z': <30x1 matrix, tc='d'>}),\n",
        " ((1835, 3064),\n",
        "  {'dual infeasibility': 1.4969941978812836e-16,\n",
        "   'dual objective': 0.59978637617294,\n",
        "   'dual slack': 6.794559694523265e-10,\n",
        "   'gap': 7.139540876656582e-08,\n",
        "   'iterations': 13,\n",
        "   'primal infeasibility': 5.302210387465624e-16,\n",
        "   'primal objective': 0.5997864475683489,\n",
        "   'primal slack': 1.1141601946862593e-12,\n",
        "   'relative gap': 1.1903472903489218e-07,\n",
        "   's': <30x1 matrix, tc='d'>,\n",
        "   'status': 'optimal',\n",
        "   'x': <18x1 matrix, tc='d'>,\n",
        "   'y': <0x1 matrix, tc='d'>,\n",
        "   'z': <30x1 matrix, tc='d'>}),\n",
        " ((3064, 3103),\n",
        "  {'dual infeasibility': 2.157201150881922e-16,\n",
        "   'dual objective': 0.6528411712552495,\n",
        "   'dual slack': 5.056271757202782e-10,\n",
        "   'gap': 6.422183099538374e-08,\n",
        "   'iterations': 13,\n",
        "   'primal infeasibility': 9.994594718492773e-16,\n",
        "   'primal objective': 0.6528412354770805,\n",
        "   'primal slack': 1.051143737508952e-12,\n",
        "   'relative gap': 9.837282607636601e-08,\n",
        "   's': <30x1 matrix, tc='d'>,\n",
        "   'status': 'optimal',\n",
        "   'x': <18x1 matrix, tc='d'>,\n",
        "   'y': <0x1 matrix, tc='d'>,\n",
        "   'z': <30x1 matrix, tc='d'>}),\n",
        " ((1021, 3064),\n",
        "  {'dual infeasibility': 1.8565121967814559e-16,\n",
        "   'dual objective': 0.6693239826331967,\n",
        "   'dual slack': 1.5533739360579587e-10,\n",
        "   'gap': 1.100982530786412e-08,\n",
        "   'iterations': 13,\n",
        "   'primal infeasibility': 7.099996729675241e-16,\n",
        "   'primal objective': 0.6693239936430215,\n",
        "   'primal slack': 1.5147535786937975e-13,\n",
        "   'relative gap': 1.644917199074537e-08,\n",
        "   's': <30x1 matrix, tc='d'>,\n",
        "   'status': 'optimal',\n",
        "   'x': <18x1 matrix, tc='d'>,\n",
        "   'y': <0x1 matrix, tc='d'>,\n",
        "   'z': <30x1 matrix, tc='d'>}),\n",
        " ((857, 2869),\n",
        "  {'dual infeasibility': 2.3483421482657706e-16,\n",
        "   'dual objective': 0.6737262307042229,\n",
        "   'dual slack': 7.325982733595003e-09,\n",
        "   'gap': 5.826904552576713e-07,\n",
        "   'iterations': 12,\n",
        "   'primal infeasibility': 5.566929814046952e-16,\n",
        "   'primal objective': 0.6737268133946782,\n",
        "   'primal slack': 1.3634079031098325e-11,\n",
        "   'relative gap': 8.648771989307957e-07,\n",
        "   's': <30x1 matrix, tc='d'>,\n",
        "   'status': 'optimal',\n",
        "   'x': <18x1 matrix, tc='d'>,\n",
        "   'y': <0x1 matrix, tc='d'>,\n",
        "   'z': <30x1 matrix, tc='d'>}),\n",
        " ((738, 1710),\n",
        "  {'dual infeasibility': 1.407827149361521e-16,\n",
        "   'dual objective': 0.6878178890630802,\n",
        "   'dual slack': 2.530104466858152e-10,\n",
        "   'gap': 2.1715458074936042e-08,\n",
        "   'iterations': 13,\n",
        "   'primal infeasibility': 4.715177803225884e-16,\n",
        "   'primal objective': 0.6878179107785383,\n",
        "   'primal slack': 5.732124153767317e-13,\n",
        "   'relative gap': 3.157152266643723e-08,\n",
        "   's': <30x1 matrix, tc='d'>,\n",
        "   'status': 'optimal',\n",
        "   'x': <18x1 matrix, tc='d'>,\n",
        "   'y': <0x1 matrix, tc='d'>,\n",
        "   'z': <30x1 matrix, tc='d'>}),\n",
        " ((738, 1708),\n",
        "  {'dual infeasibility': 1.9249475581075464e-16,\n",
        "   'dual objective': 0.6933489312687903,\n",
        "   'dual slack': 9.387286196854451e-11,\n",
        "   'gap': 1.6985388702322362e-08,\n",
        "   'iterations': 14,\n",
        "   'primal infeasibility': 6.540179429806861e-16,\n",
        "   'primal objective': 0.6933489482541799,\n",
        "   'primal slack': 4.1039245270986164e-13,\n",
        "   'relative gap': 2.449760565901506e-08,\n",
        "   's': <30x1 matrix, tc='d'>,\n",
        "   'status': 'optimal',\n",
        "   'x': <18x1 matrix, tc='d'>,\n",
        "   'y': <0x1 matrix, tc='d'>,\n",
        "   'z': <30x1 matrix, tc='d'>}),\n",
        " ((1708, 3064),\n",
        "  {'dual infeasibility': 2.1769801178334948e-16,\n",
        "   'dual objective': 0.7181344174885773,\n",
        "   'dual slack': 1.4361480320223455e-09,\n",
        "   'gap': 1.6092929575023348e-07,\n",
        "   'iterations': 13,\n",
        "   'primal infeasibility': 7.35728153339978e-16,\n",
        "   'primal objective': 0.7181345784178729,\n",
        "   'primal slack': 3.5496793544210387e-12,\n",
        "   'relative gap': 2.2409355662555085e-07,\n",
        "   's': <30x1 matrix, tc='d'>,\n",
        "   'status': 'optimal',\n",
        "   'x': <18x1 matrix, tc='d'>,\n",
        "   'y': <0x1 matrix, tc='d'>,\n",
        "   'z': <30x1 matrix, tc='d'>})]"
       ]
      }
     ],
     "prompt_number": 59
    },
    {
     "cell_type": "code",
     "collapsed": false,
     "input": [
      "i = 1\n",
      "for x in fs:\n",
      "    if x[0] == (477, 537):\n",
      "        break\n",
      "    i += 1"
     ],
     "language": "python",
     "metadata": {},
     "outputs": [],
     "prompt_number": 54
    },
    {
     "cell_type": "code",
     "collapsed": false,
     "input": [
      "fs[0]"
     ],
     "language": "python",
     "metadata": {},
     "outputs": [
      {
       "metadata": {},
       "output_type": "pyout",
       "prompt_number": 56,
       "text": [
        "((94, 3064),\n",
        " {'dual infeasibility': 2.2162416871500226e-16,\n",
        "  'dual objective': 0.3817413145533915,\n",
        "  'dual slack': 3.691628229329497e-10,\n",
        "  'gap': 2.328675606205647e-08,\n",
        "  'iterations': 14,\n",
        "  'primal infeasibility': 6.203272907062913e-16,\n",
        "  'primal objective': 0.3817413378401475,\n",
        "  'primal slack': 6.0624792513035e-13,\n",
        "  'relative gap': 6.100140376291263e-08,\n",
        "  's': <30x1 matrix, tc='d'>,\n",
        "  'status': 'optimal',\n",
        "  'x': <18x1 matrix, tc='d'>,\n",
        "  'y': <0x1 matrix, tc='d'>,\n",
        "  'z': <30x1 matrix, tc='d'>})"
       ]
      }
     ],
     "prompt_number": 56
    },
    {
     "cell_type": "code",
     "collapsed": false,
     "input": [
      "2/np.sqrt(np.sum(fs[0][1]['x'][0:2]**2))"
     ],
     "language": "python",
     "metadata": {},
     "outputs": [
      {
       "metadata": {},
       "output_type": "pyout",
       "prompt_number": 45,
       "text": [
        "2.2889189116053621"
       ]
      }
     ],
     "prompt_number": 45
=======
      "braca1 = da[da[3226] == 'BRACA1']\n",
      "braca2 = da[da[3226] == 'BRACA2']\n",
      "not_braca1 = da[da[3226] != 'BRACA1'][1:]\n",
      "not_braca2 = da[da[3226] != 'BRACA2'][1:]\n",
      "\n",
      "group1 = braca1\n",
      "group2 = braca2"
     ],
     "language": "python",
     "metadata": {},
     "outputs": [],
     "prompt_number": 106
>>>>>>> b1bc45f18cb0f83f4d3111af562186df2bd2e2b4
    },
    {
     "cell_type": "code",
     "collapsed": false,
     "input": [
<<<<<<< HEAD
      "sorted_solutions[1]"
     ],
     "language": "python",
     "metadata": {},
     "outputs": [
      {
       "metadata": {},
       "output_type": "pyout",
       "prompt_number": 40,
       "text": [
        "((53, 53),\n",
        " {'dual infeasibility': 4.1785592653810944e-14,\n",
        "  'dual objective': 13999.999996974197,\n",
        "  'dual slack': 1.676263130227847e-07,\n",
        "  'gap': 9.266716142000504e-06,\n",
        "  'iterations': 6,\n",
        "  'primal infeasibility': 3.688626860521587e-09,\n",
        "  'primal objective': 13999.999967117117,\n",
        "  'primal slack': 1.148501811036226e-10,\n",
        "  'relative gap': 6.619082960002363e-10,\n",
        "  's': <30x1 matrix, tc='d'>,\n",
        "  'status': 'optimal',\n",
        "  'x': <18x1 matrix, tc='d'>,\n",
        "  'y': <0x1 matrix, tc='d'>,\n",
        "  'z': <30x1 matrix, tc='d'>})"
       ]
      }
     ],
     "prompt_number": 40
    },
    {
     "cell_type": "code",
     "collapsed": false,
     "input": [
      "braca1 = da[da[3226] == 'BRACA1']\n",
      "braca2 = da[da[3226] == 'BRACA2']\n",
      "not_braca1 = da[da[3226] != 'BRACA1'][1:]\n",
      "not_braca2 = da[da[3226] != 'BRACA2'][1:]\n",
      "\n",
      "group1 = braca1\n",
      "group2 = braca2"
     ],
     "language": "python",
     "metadata": {},
     "outputs": [],
     "prompt_number": 48
    },
    {
     "cell_type": "code",
     "collapsed": false,
     "input": [
      "sol_num = 0\n",
      "\n",
      "gene1, gene2 = fs[sol_num][0]\n",
      "scatter(list(group1[gene1]), list(group1[gene2]), c='red')\n",
      "scatter(list(group2[gene1]), list(group2[gene2]))\n",
      "xmin, xmax = xlim()\n",
      "sol = fs[sol_num][1]['x']\n",
      "sol_w = sqrt(sum(fs[sol_num][1]['x'][0:2]**2))\n",
=======
      "sol_num = 10\n",
      "gene1, gene2 = sorted_solutions[sol_num][0]\n",
      "scatter(list(group1[gene1]), list(group1[gene2]), c='red')\n",
      "scatter(list(group2[gene1]), list(group2[gene2]))\n",
      "xmin, xmax = xlim()\n",
      "sol = sorted_solutions[sol_num][1][0]\n",
      "sol_w = sorted_solutions[sol_num][1][1]\n",
>>>>>>> b1bc45f18cb0f83f4d3111af562186df2bd2e2b4
      "xspace = np.linspace(xmin, xmax)\n",
      "a = - sol[0] / sol[1]\n",
      "b = - sol[2] / sol[1]\n",
      "yspace = a * xspace + b \n",
      "yspace_a = a * xspace + b + (1/sol_w)\n",
      "yspace_b = a * xspace + b - (1/sol_w)\n",
      "#plt.subplot(2,5, sol_num)\n",
      "plt.plot(xspace,yspace, 'k--')\n",
      "plt.plot(xspace,yspace_a, 'k-')\n",
      "plt.plot(xspace,yspace_b, 'k-')"
     ],
     "language": "python",
     "metadata": {},
     "outputs": [
      {
       "metadata": {},
       "output_type": "pyout",
<<<<<<< HEAD
       "prompt_number": 50,
       "text": [
        "[<matplotlib.lines.Line2D at 0x1de8ded0>]"
=======
       "prompt_number": 107,
       "text": [
        "[<matplotlib.lines.Line2D at 0xf3d8d50>]"
>>>>>>> b1bc45f18cb0f83f4d3111af562186df2bd2e2b4
       ]
      },
      {
       "metadata": {},
       "output_type": "display_data",
<<<<<<< HEAD
       "png": "iVBORw0KGgoAAAANSUhEUgAAAXMAAAEACAYAAABBDJb9AAAABHNCSVQICAgIfAhkiAAAAAlwSFlz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\nMS3AzZwxxrTA/wMbIVeQukdApwAAAABJRU5ErkJggg==\n",
       "text": [
        "<matplotlib.figure.Figure at 0x584e7bd0>"
       ]
      }
     ],
     "prompt_number": 50
    },
    {
     "cell_type": "code",
     "collapsed": false,
     "input": [
      "plot(map(lambda w: 2/sqrt(sum(w[1]['x'][0:2]**2)), fs[0:500]))\n",
      "savefig('margins-plot.png')"
     ],
     "language": "python",
     "metadata": {},
     "outputs": [
      {
       "metadata": {},
       "output_type": "display_data",
       "png": "iVBORw0KGgoAAAANSUhEUgAAAXgAAAEACAYAAAC57G0KAAAABHNCSVQICAgIfAhkiAAAAAlwSFlz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\n/wFta+m7NW0howAAAABJRU5ErkJggg==\n",
       "text": [
        "<matplotlib.figure.Figure at 0x2bff27d0>"
       ]
      }
     ],
     "prompt_number": 53
    },
    {
     "cell_type": "code",
     "collapsed": false,
     "input": [
      "map(lambda w: 2/sqrt(sum(w[1]['x'][0:2]**2)), sorted_solutions[0:10000])[0:10]"
     ],
     "language": "python",
     "metadata": {},
     "outputs": [
      {
       "metadata": {},
       "output_type": "pyout",
       "prompt_number": 29,
       "text": [
        "[1.3477514455925628,\n",
        " 1.3446935388993464,\n",
        " 1.227672968106843,\n",
        " 1.2510546736041994,\n",
        " 1.1912894405395711,\n",
        " 1.2165969898220776,\n",
        " 1.2073015905965094,\n",
        " 1.3463648157796073,\n",
        " 1.1559678565981246,\n",
        " 1.4467681089976923]"
       ]
      }
     ],
     "prompt_number": 29
    },
    {
     "cell_type": "code",
     "collapsed": false,
     "input": [
      "import shelve"
     ],
     "language": "python",
     "metadata": {},
     "outputs": [],
     "prompt_number": 57
    },
    {
     "cell_type": "code",
     "collapsed": false,
     "input": [
      "x = matrix([1,2,3])"
     ],
     "language": "python",
     "metadata": {},
     "outputs": [],
     "prompt_number": 67
    },
    {
     "cell_type": "code",
     "collapsed": false,
     "input": [
      "list(x)"
     ],
     "language": "python",
     "metadata": {},
     "outputs": [
      {
       "metadata": {},
       "output_type": "pyout",
       "prompt_number": 69,
       "text": [
        "[1, 2, 3]"
       ]
      }
     ],
     "prompt_number": 69
    },
    {
     "cell_type": "code",
     "collapsed": false,
     "input": [
      "assert(1 == 2)"
     ],
     "language": "python",
     "metadata": {},
     "outputs": [
      {
       "ename": "AssertionError",
       "evalue": "",
       "output_type": "pyerr",
       "traceback": [
        "\u001b[1;31m---------------------------------------------------------------------------\u001b[0m\n\u001b[1;31mAssertionError\u001b[0m                            Traceback (most recent call last)",
        "\u001b[1;32m<ipython-input-63-bb8acec7c916>\u001b[0m in \u001b[0;36m<module>\u001b[1;34m()\u001b[0m\n\u001b[1;32m----> 1\u001b[1;33m \u001b[1;32massert\u001b[0m\u001b[1;33m(\u001b[0m\u001b[1;36m1\u001b[0m \u001b[1;33m==\u001b[0m \u001b[1;36m2\u001b[0m\u001b[1;33m)\u001b[0m\u001b[1;33m\u001b[0m\u001b[0m\n\u001b[0m",
        "\u001b[1;31mAssertionError\u001b[0m: "
       ]
      }
     ],
     "prompt_number": 63
    },
    {
     "cell_type": "code",
     "collapsed": false,
     "input": [
      "len(fs)"
     ],
     "language": "python",
     "metadata": {},
     "outputs": [
      {
       "metadata": {},
       "output_type": "pyout",
       "prompt_number": 64,
       "text": [
        "202674"
       ]
      }
     ],
     "prompt_number": 64
    },
    {
     "cell_type": "code",
     "collapsed": false,
     "input": [
      "np.array(fs[0][1]['x'])"
     ],
     "language": "python",
     "metadata": {},
     "outputs": [
      {
       "metadata": {},
       "output_type": "pyout",
       "prompt_number": 69,
       "text": [
        "array([[  4.99955411e-01],\n",
        "       [  7.16608153e-01],\n",
        "       [ -3.99941784e+00],\n",
        "       [  6.06599485e-13],\n",
        "       [  6.06340564e-13],\n",
        "       [  6.06341469e-13],\n",
        "       [  6.06343386e-13],\n",
        "       [  6.06354191e-13],\n",
        "       [  6.06247925e-13],\n",
        "       [  6.06354396e-13],\n",
        "       [  6.06499755e-13],\n",
        "       [  6.06339492e-13],\n",
        "       [  6.06338782e-13],\n",
        "       [  6.06339532e-13],\n",
        "       [  6.06339456e-13],\n",
        "       [  6.06378956e-13],\n",
        "       [  6.06343679e-13],\n",
        "       [  6.06339690e-13]])"
       ]
      }
     ],
     "prompt_number": 69
    },
    {
     "cell_type": "code",
     "collapsed": false,
     "input": [
      "columns = ['gene1', 'gene2', 'margin'] + ['w_{}'.format(i) for i in range(18)]\n",
      "d = pd.DataFrame(columns=columns, index=None)\n"
     ],
     "language": "python",
     "metadata": {},
     "outputs": [],
     "prompt_number": 127
    },
    {
     "cell_type": "code",
     "collapsed": false,
     "input": [
      "for i,s in enumerate(fs[:1000]):\n",
      "    d.loc[i] = np.hstack([np.array(s[0]).reshape((1,2)),  np.array([2.0/np.sqrt(np.sum(s[1]['x'][0:2]**2))]).reshape((1,1)), np.array(s[1]['x']).T])\n",
      "                      \n",
      "                      \n",
      "                      "
     ],
     "language": "python",
     "metadata": {},
     "outputs": [],
     "prompt_number": 128
    },
    {
     "cell_type": "code",
     "collapsed": false,
     "input": [
      "d.to_csv('1000-solutions.csv', index=False)"
     ],
     "language": "python",
     "metadata": {},
     "outputs": [],
     "prompt_number": 137
    },
    {
     "cell_type": "code",
     "collapsed": false,
     "input": [
      "d.values"
     ],
     "language": "python",
     "metadata": {},
     "outputs": [
      {
       "metadata": {},
       "output_type": "pyout",
       "prompt_number": 136,
       "text": [
        "array([[  9.40000000e+01,   3.06400000e+03,   2.28891891e+00, ...,\n",
        "          6.06378956e-13,   6.06343679e-13,   6.06339690e-13],\n",
        "       [  8.15000000e+02,   2.27900000e+03,   2.01121846e+00, ...,\n",
        "          4.21127409e-12,   4.21137541e-12,   4.21126153e-12],\n",
        "       [  1.01900000e+03,   3.06400000e+03,   1.90401139e+00, ...,\n",
        "          6.16903532e-13,   6.16799562e-13,   6.16801652e-13],\n",
        "       ..., \n",
        "       [  5.84000000e+02,   1.87700000e+03,   7.19203804e-01, ...,\n",
        "          8.22675727e-11,   8.19778361e-11,   8.19745109e-11],\n",
        "       [  8.59000000e+02,   1.62900000e+03,   7.19049031e-01, ...,\n",
        "          2.18610316e-11,   2.18257946e-11,   2.18261137e-11],\n",
        "       [  5.55000000e+02,   2.95000000e+03,   7.18805061e-01, ...,\n",
        "          1.29910738e-11,   1.29910461e-11,   1.29929446e-11]])"
       ]
      }
     ],
     "prompt_number": 136
=======
       "png": "iVBORw0KGgoAAAANSUhEUgAAAXEAAAEACAYAAABF+UbAAAAABHNCSVQICAgIfAhkiAAAAAlwSFlz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\nTkSuQmCC\n",
       "text": [
        "<matplotlib.figure.Figure at 0x90ef190>"
       ]
      }
     ],
     "prompt_number": 107
>>>>>>> b1bc45f18cb0f83f4d3111af562186df2bd2e2b4
    },
    {
     "cell_type": "code",
     "collapsed": false,
     "input": [],
     "language": "python",
     "metadata": {},
     "outputs": []
    }
   ],
   "metadata": {}
  }
 ]
}