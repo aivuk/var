{
 "metadata": {
  "name": "",
  "signature": "sha256:1f3fb370ad17b6d1f8cb7fff62c52aede4dbec13f12bccfdf7816a882c0a522a"
 },
 "nbformat": 3,
 "nbformat_minor": 0,
 "worksheets": [
  {
   "cells": [
    {
     "cell_type": "code",
     "collapsed": false,
     "input": [
      "%pylab inline\n",
      "\n",
      "import pandas as pd\n",
      "from cvxopt import matrix, solvers\n",
      "import numpy as np\n",
      "import pickle\n",
      "import bz2\n"
     ],
     "language": "python",
     "metadata": {},
     "outputs": [
      {
       "output_type": "stream",
       "stream": "stdout",
       "text": [
        "Populating the interactive namespace from numpy and matplotlib\n"
       ]
      },
      {
       "output_type": "stream",
       "stream": "stderr",
       "text": [
        "/home/walrus/.virtualenvs/py/local/lib/python2.7/site-packages/pandas/io/excel.py:626: UserWarning: Installed openpyxl is not supported at this time. Use >=1.6.1 and <2.0.0.\n",
        "  .format(openpyxl_compat.start_ver, openpyxl_compat.stop_ver))\n"
       ]
      }
     ],
     "prompt_number": 1
    },
    {
     "cell_type": "code",
     "collapsed": false,
     "input": [
      "da = pd.read_csv('./data_breast_cancer.csv', header=False).T"
     ],
     "language": "python",
     "metadata": {},
     "outputs": [],
     "prompt_number": 2
    },
    {
     "cell_type": "code",
     "collapsed": false,
     "input": [
      "#f = open('solutions_soft.braca1_x_braca2.bz2','rb')\n",
      "solutions = pickle.load(bz2.BZ2File('solutions_soft.braca1_x_braca2.bz2'))"
     ],
     "language": "python",
     "metadata": {},
     "outputs": [],
     "prompt_number": 4
    },
    {
     "cell_type": "code",
     "collapsed": false,
     "input": [
      "w = np.array(solutions.items()[0][1]['x'])"
     ],
     "language": "python",
     "metadata": {},
     "outputs": [],
     "prompt_number": 18
    },
    {
     "cell_type": "code",
     "collapsed": false,
     "input": [
      "2/np.sqrt(sum(fs[0][1]['x'][0:2]**2))"
     ],
     "language": "python",
     "metadata": {},
     "outputs": [
      {
       "metadata": {},
       "output_type": "pyout",
       "prompt_number": 58,
       "text": [
        "2.2889189116053621"
       ]
      }
     ],
     "prompt_number": 58
    },
    {
     "cell_type": "code",
     "collapsed": false,
     "input": [
      "sorted_solutions = sorted(solutions.items(), key=lambda s: sum(s[1]['x'][0:2]**2))"
     ],
     "language": "python",
     "metadata": {},
     "outputs": [],
     "prompt_number": 30
    },
    {
     "cell_type": "code",
     "collapsed": false,
     "input": [
      "fs = filter(lambda x: x[0][0] != x[0][1], sorted_solutions)"
     ],
     "language": "python",
     "metadata": {},
     "outputs": [],
     "prompt_number": 43
    },
    {
     "cell_type": "code",
     "collapsed": false,
     "input": [
      "fs[0:10]"
     ],
     "language": "python",
     "metadata": {},
     "outputs": [
      {
       "metadata": {},
       "output_type": "pyout",
       "prompt_number": 59,
       "text": [
        "[((94, 3064),\n",
        "  {'dual infeasibility': 2.2162416871500226e-16,\n",
        "   'dual objective': 0.3817413145533915,\n",
        "   'dual slack': 3.691628229329497e-10,\n",
        "   'gap': 2.328675606205647e-08,\n",
        "   'iterations': 14,\n",
        "   'primal infeasibility': 6.203272907062913e-16,\n",
        "   'primal objective': 0.3817413378401475,\n",
        "   'primal slack': 6.0624792513035e-13,\n",
        "   'relative gap': 6.100140376291263e-08,\n",
        "   's': <30x1 matrix, tc='d'>,\n",
        "   'status': 'optimal',\n",
        "   'x': <18x1 matrix, tc='d'>,\n",
        "   'y': <0x1 matrix, tc='d'>,\n",
        "   'z': <30x1 matrix, tc='d'>}),\n",
        " ((815, 2279),\n",
        "  {'dual infeasibility': 1.7366603052672605e-16,\n",
        "   'dual objective': 0.4944375266700952,\n",
        "   'dual slack': 8.011152439511274e-10,\n",
        "   'gap': 1.5348688918423144e-07,\n",
        "   'iterations': 13,\n",
        "   'primal infeasibility': 5.424118835521272e-16,\n",
        "   'primal objective': 0.4944376801569844,\n",
        "   'primal slack': 4.211249377554994e-12,\n",
        "   'relative gap': 3.104272651348385e-07,\n",
        "   's': <30x1 matrix, tc='d'>,\n",
        "   'status': 'optimal',\n",
        "   'x': <18x1 matrix, tc='d'>,\n",
        "   'y': <0x1 matrix, tc='d'>,\n",
        "   'z': <30x1 matrix, tc='d'>}),\n",
        " ((1019, 3064),\n",
        "  {'dual infeasibility': 2.0963006807122745e-16,\n",
        "   'dual objective': 0.5516846535768969,\n",
        "   'dual slack': 1.2631438870330574e-10,\n",
        "   'gap': 2.2311728671937242e-08,\n",
        "   'iterations': 13,\n",
        "   'primal infeasibility': 6.373285523059703e-16,\n",
        "   'primal objective': 0.5516846758886252,\n",
        "   'primal slack': 6.167995617834203e-13,\n",
        "   'relative gap': 4.0442902530054354e-08,\n",
        "   's': <30x1 matrix, tc='d'>,\n",
        "   'status': 'optimal',\n",
        "   'x': <18x1 matrix, tc='d'>,\n",
        "   'y': <0x1 matrix, tc='d'>,\n",
        "   'z': <30x1 matrix, tc='d'>}),\n",
        " ((1835, 3064),\n",
        "  {'dual infeasibility': 1.4969941978812836e-16,\n",
        "   'dual objective': 0.59978637617294,\n",
        "   'dual slack': 6.794559694523265e-10,\n",
        "   'gap': 7.139540876656582e-08,\n",
        "   'iterations': 13,\n",
        "   'primal infeasibility': 5.302210387465624e-16,\n",
        "   'primal objective': 0.5997864475683489,\n",
        "   'primal slack': 1.1141601946862593e-12,\n",
        "   'relative gap': 1.1903472903489218e-07,\n",
        "   's': <30x1 matrix, tc='d'>,\n",
        "   'status': 'optimal',\n",
        "   'x': <18x1 matrix, tc='d'>,\n",
        "   'y': <0x1 matrix, tc='d'>,\n",
        "   'z': <30x1 matrix, tc='d'>}),\n",
        " ((3064, 3103),\n",
        "  {'dual infeasibility': 2.157201150881922e-16,\n",
        "   'dual objective': 0.6528411712552495,\n",
        "   'dual slack': 5.056271757202782e-10,\n",
        "   'gap': 6.422183099538374e-08,\n",
        "   'iterations': 13,\n",
        "   'primal infeasibility': 9.994594718492773e-16,\n",
        "   'primal objective': 0.6528412354770805,\n",
        "   'primal slack': 1.051143737508952e-12,\n",
        "   'relative gap': 9.837282607636601e-08,\n",
        "   's': <30x1 matrix, tc='d'>,\n",
        "   'status': 'optimal',\n",
        "   'x': <18x1 matrix, tc='d'>,\n",
        "   'y': <0x1 matrix, tc='d'>,\n",
        "   'z': <30x1 matrix, tc='d'>}),\n",
        " ((1021, 3064),\n",
        "  {'dual infeasibility': 1.8565121967814559e-16,\n",
        "   'dual objective': 0.6693239826331967,\n",
        "   'dual slack': 1.5533739360579587e-10,\n",
        "   'gap': 1.100982530786412e-08,\n",
        "   'iterations': 13,\n",
        "   'primal infeasibility': 7.099996729675241e-16,\n",
        "   'primal objective': 0.6693239936430215,\n",
        "   'primal slack': 1.5147535786937975e-13,\n",
        "   'relative gap': 1.644917199074537e-08,\n",
        "   's': <30x1 matrix, tc='d'>,\n",
        "   'status': 'optimal',\n",
        "   'x': <18x1 matrix, tc='d'>,\n",
        "   'y': <0x1 matrix, tc='d'>,\n",
        "   'z': <30x1 matrix, tc='d'>}),\n",
        " ((857, 2869),\n",
        "  {'dual infeasibility': 2.3483421482657706e-16,\n",
        "   'dual objective': 0.6737262307042229,\n",
        "   'dual slack': 7.325982733595003e-09,\n",
        "   'gap': 5.826904552576713e-07,\n",
        "   'iterations': 12,\n",
        "   'primal infeasibility': 5.566929814046952e-16,\n",
        "   'primal objective': 0.6737268133946782,\n",
        "   'primal slack': 1.3634079031098325e-11,\n",
        "   'relative gap': 8.648771989307957e-07,\n",
        "   's': <30x1 matrix, tc='d'>,\n",
        "   'status': 'optimal',\n",
        "   'x': <18x1 matrix, tc='d'>,\n",
        "   'y': <0x1 matrix, tc='d'>,\n",
        "   'z': <30x1 matrix, tc='d'>}),\n",
        " ((738, 1710),\n",
        "  {'dual infeasibility': 1.407827149361521e-16,\n",
        "   'dual objective': 0.6878178890630802,\n",
        "   'dual slack': 2.530104466858152e-10,\n",
        "   'gap': 2.1715458074936042e-08,\n",
        "   'iterations': 13,\n",
        "   'primal infeasibility': 4.715177803225884e-16,\n",
        "   'primal objective': 0.6878179107785383,\n",
        "   'primal slack': 5.732124153767317e-13,\n",
        "   'relative gap': 3.157152266643723e-08,\n",
        "   's': <30x1 matrix, tc='d'>,\n",
        "   'status': 'optimal',\n",
        "   'x': <18x1 matrix, tc='d'>,\n",
        "   'y': <0x1 matrix, tc='d'>,\n",
        "   'z': <30x1 matrix, tc='d'>}),\n",
        " ((738, 1708),\n",
        "  {'dual infeasibility': 1.9249475581075464e-16,\n",
        "   'dual objective': 0.6933489312687903,\n",
        "   'dual slack': 9.387286196854451e-11,\n",
        "   'gap': 1.6985388702322362e-08,\n",
        "   'iterations': 14,\n",
        "   'primal infeasibility': 6.540179429806861e-16,\n",
        "   'primal objective': 0.6933489482541799,\n",
        "   'primal slack': 4.1039245270986164e-13,\n",
        "   'relative gap': 2.449760565901506e-08,\n",
        "   's': <30x1 matrix, tc='d'>,\n",
        "   'status': 'optimal',\n",
        "   'x': <18x1 matrix, tc='d'>,\n",
        "   'y': <0x1 matrix, tc='d'>,\n",
        "   'z': <30x1 matrix, tc='d'>}),\n",
        " ((1708, 3064),\n",
        "  {'dual infeasibility': 2.1769801178334948e-16,\n",
        "   'dual objective': 0.7181344174885773,\n",
        "   'dual slack': 1.4361480320223455e-09,\n",
        "   'gap': 1.6092929575023348e-07,\n",
        "   'iterations': 13,\n",
        "   'primal infeasibility': 7.35728153339978e-16,\n",
        "   'primal objective': 0.7181345784178729,\n",
        "   'primal slack': 3.5496793544210387e-12,\n",
        "   'relative gap': 2.2409355662555085e-07,\n",
        "   's': <30x1 matrix, tc='d'>,\n",
        "   'status': 'optimal',\n",
        "   'x': <18x1 matrix, tc='d'>,\n",
        "   'y': <0x1 matrix, tc='d'>,\n",
        "   'z': <30x1 matrix, tc='d'>})]"
       ]
      }
     ],
     "prompt_number": 59
    },
    {
     "cell_type": "code",
     "collapsed": false,
     "input": [
      "i = 1\n",
      "for x in fs:\n",
      "    if x[0] == (477, 537):\n",
      "        break\n",
      "    i += 1"
     ],
     "language": "python",
     "metadata": {},
     "outputs": [],
     "prompt_number": 54
    },
    {
     "cell_type": "code",
     "collapsed": false,
     "input": [
      "fs[0]"
     ],
     "language": "python",
     "metadata": {},
     "outputs": [
      {
       "metadata": {},
       "output_type": "pyout",
       "prompt_number": 56,
       "text": [
        "((94, 3064),\n",
        " {'dual infeasibility': 2.2162416871500226e-16,\n",
        "  'dual objective': 0.3817413145533915,\n",
        "  'dual slack': 3.691628229329497e-10,\n",
        "  'gap': 2.328675606205647e-08,\n",
        "  'iterations': 14,\n",
        "  'primal infeasibility': 6.203272907062913e-16,\n",
        "  'primal objective': 0.3817413378401475,\n",
        "  'primal slack': 6.0624792513035e-13,\n",
        "  'relative gap': 6.100140376291263e-08,\n",
        "  's': <30x1 matrix, tc='d'>,\n",
        "  'status': 'optimal',\n",
        "  'x': <18x1 matrix, tc='d'>,\n",
        "  'y': <0x1 matrix, tc='d'>,\n",
        "  'z': <30x1 matrix, tc='d'>})"
       ]
      }
     ],
     "prompt_number": 56
    },
    {
     "cell_type": "code",
     "collapsed": false,
     "input": [
      "2/np.sqrt(np.sum(fs[0][1]['x'][0:2]**2))"
     ],
     "language": "python",
     "metadata": {},
     "outputs": [
      {
       "metadata": {},
       "output_type": "pyout",
       "prompt_number": 45,
       "text": [
        "2.2889189116053621"
       ]
      }
     ],
     "prompt_number": 45
    },
    {
     "cell_type": "code",
     "collapsed": false,
     "input": [
      "sorted_solutions[1]"
     ],
     "language": "python",
     "metadata": {},
     "outputs": [
      {
       "metadata": {},
       "output_type": "pyout",
       "prompt_number": 40,
       "text": [
        "((53, 53),\n",
        " {'dual infeasibility': 4.1785592653810944e-14,\n",
        "  'dual objective': 13999.999996974197,\n",
        "  'dual slack': 1.676263130227847e-07,\n",
        "  'gap': 9.266716142000504e-06,\n",
        "  'iterations': 6,\n",
        "  'primal infeasibility': 3.688626860521587e-09,\n",
        "  'primal objective': 13999.999967117117,\n",
        "  'primal slack': 1.148501811036226e-10,\n",
        "  'relative gap': 6.619082960002363e-10,\n",
        "  's': <30x1 matrix, tc='d'>,\n",
        "  'status': 'optimal',\n",
        "  'x': <18x1 matrix, tc='d'>,\n",
        "  'y': <0x1 matrix, tc='d'>,\n",
        "  'z': <30x1 matrix, tc='d'>})"
       ]
      }
     ],
     "prompt_number": 40
    },
    {
     "cell_type": "code",
     "collapsed": false,
     "input": [
      "braca1 = da[da[3226] == 'BRACA1']\n",
      "braca2 = da[da[3226] == 'BRACA2']\n",
      "not_braca1 = da[da[3226] != 'BRACA1'][1:]\n",
      "not_braca2 = da[da[3226] != 'BRACA2'][1:]\n",
      "\n",
      "group1 = braca1\n",
      "group2 = braca2"
     ],
     "language": "python",
     "metadata": {},
     "outputs": [],
     "prompt_number": 48
    },
    {
     "cell_type": "code",
     "collapsed": false,
     "input": [
      "sol_num = 0\n",
      "\n",
      "gene1, gene2 = fs[sol_num][0]\n",
      "scatter(list(group1[gene1]), list(group1[gene2]), c='red')\n",
      "scatter(list(group2[gene1]), list(group2[gene2]))\n",
      "xmin, xmax = xlim()\n",
      "sol = fs[sol_num][1]['x']\n",
      "sol_w = sqrt(sum(fs[sol_num][1]['x'][0:2]**2))\n",
      "xspace = np.linspace(xmin, xmax)\n",
      "a = - sol[0] / sol[1]\n",
      "b = - sol[2] / sol[1]\n",
      "yspace = a * xspace + b \n",
      "yspace_a = a * xspace + b + (1/sol_w)\n",
      "yspace_b = a * xspace + b - (1/sol_w)\n",
      "#plt.subplot(2,5, sol_num)\n",
      "plt.plot(xspace,yspace, 'k--')\n",
      "plt.plot(xspace,yspace_a, 'k-')\n",
      "plt.plot(xspace,yspace_b, 'k-')"
     ],
     "language": "python",
     "metadata": {},
     "outputs": [
      {
       "metadata": {},
       "output_type": "pyout",
       "prompt_number": 50,
       "text": [
        "[<matplotlib.lines.Line2D at 0x1de8ded0>]"
       ]
      },
      {
       "metadata": {},
       "output_type": "display_data",
       "png": "[encoded data removed]",
       "text": [
        "<matplotlib.figure.Figure at 0x584e7bd0>"
       ]
      }
     ],
     "prompt_number": 50
    },
    {
     "cell_type": "code",
     "collapsed": false,
     "input": [
      "plot(map(lambda w: 2/sqrt(sum(w[1]['x'][0:2]**2)), fs[0:500]))\n",
      "savefig('margins-plot.png')"
     ],
     "language": "python",
     "metadata": {},
     "outputs": [
      {
       "metadata": {},
       "output_type": "display_data",
       "png": "[encoded data removed]",
       "text": [
        "<matplotlib.figure.Figure at 0x2bff27d0>"
       ]
      }
     ],
     "prompt_number": 53
    },
    {
     "cell_type": "code",
     "collapsed": false,
     "input": [
      "map(lambda w: 2/sqrt(sum(w[1]['x'][0:2]**2)), sorted_solutions[0:10000])[0:10]"
     ],
     "language": "python",
     "metadata": {},
     "outputs": [
      {
       "metadata": {},
       "output_type": "pyout",
       "prompt_number": 29,
       "text": [
        "[1.3477514455925628,\n",
        " 1.3446935388993464,\n",
        " 1.227672968106843,\n",
        " 1.2510546736041994,\n",
        " 1.1912894405395711,\n",
        " 1.2165969898220776,\n",
        " 1.2073015905965094,\n",
        " 1.3463648157796073,\n",
        " 1.1559678565981246,\n",
        " 1.4467681089976923]"
       ]
      }
     ],
     "prompt_number": 29
    },
    {
     "cell_type": "code",
     "collapsed": false,
     "input": [
      "import shelve"
     ],
     "language": "python",
     "metadata": {},
     "outputs": [],
     "prompt_number": 57
    },
    {
     "cell_type": "code",
     "collapsed": false,
     "input": [
      "x = matrix([1,2,3])"
     ],
     "language": "python",
     "metadata": {},
     "outputs": [],
     "prompt_number": 67
    },
    {
     "cell_type": "code",
     "collapsed": false,
     "input": [
      "list(x)"
     ],
     "language": "python",
     "metadata": {},
     "outputs": [
      {
       "metadata": {},
       "output_type": "pyout",
       "prompt_number": 69,
       "text": [
        "[1, 2, 3]"
       ]
      }
     ],
     "prompt_number": 69
    },
    {
     "cell_type": "code",
     "collapsed": false,
     "input": [
      "assert(1 == 2)"
     ],
     "language": "python",
     "metadata": {},
     "outputs": [
      {
       "ename": "AssertionError",
       "evalue": "",
       "output_type": "pyerr",
       "traceback": [
        "\u001b[1;31m---------------------------------------------------------------------------\u001b[0m\n\u001b[1;31mAssertionError\u001b[0m                            Traceback (most recent call last)",
        "\u001b[1;32m<ipython-input-63-bb8acec7c916>\u001b[0m in \u001b[0;36m<module>\u001b[1;34m()\u001b[0m\n\u001b[1;32m----> 1\u001b[1;33m \u001b[1;32massert\u001b[0m\u001b[1;33m(\u001b[0m\u001b[1;36m1\u001b[0m \u001b[1;33m==\u001b[0m \u001b[1;36m2\u001b[0m\u001b[1;33m)\u001b[0m\u001b[1;33m\u001b[0m\u001b[0m\n\u001b[0m",
        "\u001b[1;31mAssertionError\u001b[0m: "
       ]
      }
     ],
     "prompt_number": 63
    },
    {
     "cell_type": "code",
     "collapsed": false,
     "input": [
      "len(fs)"
     ],
     "language": "python",
     "metadata": {},
     "outputs": [
      {
       "metadata": {},
       "output_type": "pyout",
       "prompt_number": 64,
       "text": [
        "202674"
       ]
      }
     ],
     "prompt_number": 64
    },
    {
     "cell_type": "code",
     "collapsed": false,
     "input": [
      "np.array(fs[0][1]['x'])"
     ],
     "language": "python",
     "metadata": {},
     "outputs": [
      {
       "metadata": {},
       "output_type": "pyout",
       "prompt_number": 69,
       "text": [
        "array([[  4.99955411e-01],\n",
        "       [  7.16608153e-01],\n",
        "       [ -3.99941784e+00],\n",
        "       [  6.06599485e-13],\n",
        "       [  6.06340564e-13],\n",
        "       [  6.06341469e-13],\n",
        "       [  6.06343386e-13],\n",
        "       [  6.06354191e-13],\n",
        "       [  6.06247925e-13],\n",
        "       [  6.06354396e-13],\n",
        "       [  6.06499755e-13],\n",
        "       [  6.06339492e-13],\n",
        "       [  6.06338782e-13],\n",
        "       [  6.06339532e-13],\n",
        "       [  6.06339456e-13],\n",
        "       [  6.06378956e-13],\n",
        "       [  6.06343679e-13],\n",
        "       [  6.06339690e-13]])"
       ]
      }
     ],
     "prompt_number": 69
    },
    {
     "cell_type": "code",
     "collapsed": false,
     "input": [
      "columns = ['gene1', 'gene2', 'margin'] + ['w_{}'.format(i) for i in range(18)]\n",
      "d = pd.DataFrame(columns=columns, index=None)\n"
     ],
     "language": "python",
     "metadata": {},
     "outputs": [],
     "prompt_number": 127
    },
    {
     "cell_type": "code",
     "collapsed": false,
     "input": [
      "for i,s in enumerate(fs[:1000]):\n",
      "    d.loc[i] = np.hstack([np.array(s[0]).reshape((1,2)),  np.array([2.0/np.sqrt(np.sum(s[1]['x'][0:2]**2))]).reshape((1,1)), np.array(s[1]['x']).T])\n",
      "                      \n",
      "                      \n",
      "                      "
     ],
     "language": "python",
     "metadata": {},
     "outputs": [],
     "prompt_number": 128
    },
    {
     "cell_type": "code",
     "collapsed": false,
     "input": [
      "d.to_csv('1000-solutions.csv', index=False)"
     ],
     "language": "python",
     "metadata": {},
     "outputs": [],
     "prompt_number": 137
    },
    {
     "cell_type": "code",
     "collapsed": false,
     "input": [
      "d.values"
     ],
     "language": "python",
     "metadata": {},
     "outputs": [
      {
       "metadata": {},
       "output_type": "pyout",
       "prompt_number": 136,
       "text": [
        "array([[  9.40000000e+01,   3.06400000e+03,   2.28891891e+00, ...,\n",
        "          6.06378956e-13,   6.06343679e-13,   6.06339690e-13],\n",
        "       [  8.15000000e+02,   2.27900000e+03,   2.01121846e+00, ...,\n",
        "          4.21127409e-12,   4.21137541e-12,   4.21126153e-12],\n",
        "       [  1.01900000e+03,   3.06400000e+03,   1.90401139e+00, ...,\n",
        "          6.16903532e-13,   6.16799562e-13,   6.16801652e-13],\n",
        "       ..., \n",
        "       [  5.84000000e+02,   1.87700000e+03,   7.19203804e-01, ...,\n",
        "          8.22675727e-11,   8.19778361e-11,   8.19745109e-11],\n",
        "       [  8.59000000e+02,   1.62900000e+03,   7.19049031e-01, ...,\n",
        "          2.18610316e-11,   2.18257946e-11,   2.18261137e-11],\n",
        "       [  5.55000000e+02,   2.95000000e+03,   7.18805061e-01, ...,\n",
        "          1.29910738e-11,   1.29910461e-11,   1.29929446e-11]])"
       ]
      }
     ],
     "prompt_number": 136
    },
    {
     "cell_type": "code",
     "collapsed": false,
     "input": [],
     "language": "python",
     "metadata": {},
     "outputs": []
    }
   ],
   "metadata": {}
  }
 ]
}