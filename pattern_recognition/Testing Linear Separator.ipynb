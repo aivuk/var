{
 "metadata": {
  "name": "",
  "signature": "sha256:b71358f215d7617bd7ecfd2cb13938a4cde62590d3ad3e10c394028fd0dbc24e"
 },
 "nbformat": 3,
 "nbformat_minor": 0,
 "worksheets": [
  {
   "cells": [
    {
     "cell_type": "code",
     "collapsed": false,
     "input": [
      "%pylab inline\n",
      "\n",
      "import pandas as pd\n",
      "from cvxopt import matrix, solvers\n",
      "import numpy as np\n",
      "import pickle\n"
     ],
     "language": "python",
     "metadata": {},
     "outputs": [
      {
       "output_type": "stream",
       "stream": "stdout",
       "text": [
        "Populating the interactive namespace from numpy and matplotlib\n"
       ]
      },
      {
       "output_type": "stream",
       "stream": "stderr",
       "text": [
        "WARNING: pylab import has clobbered these variables: ['matrix']\n",
        "`%matplotlib` prevents importing * from pylab and numpy\n"
       ]
      }
     ],
     "prompt_number": 63
    },
    {
     "cell_type": "code",
     "collapsed": false,
     "input": [
      "da = pd.read_csv('./data_breast_cancer.csv', header=False).T"
     ],
     "language": "python",
     "metadata": {},
     "outputs": [],
     "prompt_number": 105
    },
    {
     "cell_type": "code",
     "collapsed": false,
     "input": [
      "solutions = pickle.load(open('solutions.braca1_x_braca2','rb'))"
     ],
     "language": "python",
     "metadata": {},
     "outputs": [],
     "prompt_number": 101
    },
    {
     "cell_type": "code",
     "collapsed": false,
     "input": [
      "sorted_solutions = sorted(solutions.items(), key=lambda x: x[1][1])"
     ],
     "language": "python",
     "metadata": {},
     "outputs": [],
     "prompt_number": 102
    },
    {
     "cell_type": "code",
     "collapsed": false,
     "input": [
      "braca1 = da[da[3226] == 'BRACA1']\n",
      "braca2 = da[da[3226] == 'BRACA2']\n",
      "not_braca1 = da[da[3226] != 'BRACA1'][1:]\n",
      "not_braca2 = da[da[3226] != 'BRACA2'][1:]\n",
      "\n",
      "group1 = braca1\n",
      "group2 = braca2"
     ],
     "language": "python",
     "metadata": {},
     "outputs": [],
     "prompt_number": 106
    },
    {
     "cell_type": "code",
     "collapsed": false,
     "input": [
      "sol_num = 10\n",
      "gene1, gene2 = sorted_solutions[sol_num][0]\n",
      "scatter(list(group1[gene1]), list(group1[gene2]), c='red')\n",
      "scatter(list(group2[gene1]), list(group2[gene2]))\n",
      "xmin, xmax = xlim()\n",
      "sol = sorted_solutions[sol_num][1][0]\n",
      "sol_w = sorted_solutions[sol_num][1][1]\n",
      "xspace = np.linspace(xmin, xmax)\n",
      "a = - sol[0] / sol[1]\n",
      "b = - sol[2] / sol[1]\n",
      "yspace = a * xspace + b \n",
      "yspace_a = a * xspace + b + (1/sol_w)\n",
      "yspace_b = a * xspace + b - (1/sol_w)\n",
      "#plt.subplot(2,5, sol_num)\n",
      "plt.plot(xspace,yspace, 'k--')\n",
      "plt.plot(xspace,yspace_a, 'k-')\n",
      "plt.plot(xspace,yspace_b, 'k-')"
     ],
     "language": "python",
     "metadata": {},
     "outputs": [
      {
       "metadata": {},
       "output_type": "pyout",
       "prompt_number": 107,
       "text": [
        "[<matplotlib.lines.Line2D at 0xf3d8d50>]"
       ]
      },
      {
       "metadata": {},
       "output_type": "display_data",
       "png": "[encoded data removed]",
       "text": [
        "<matplotlib.figure.Figure at 0x90ef190>"
       ]
      }
     ],
     "prompt_number": 107
    },
    {
     "cell_type": "code",
     "collapsed": false,
     "input": [],
     "language": "python",
     "metadata": {},
     "outputs": []
    }
   ],
   "metadata": {}
  }
 ]
}