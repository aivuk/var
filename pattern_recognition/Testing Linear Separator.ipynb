{
 "metadata": {
  "name": "",
  "signature": "sha256:1ca47ebb4eae4ab86f6aa0034ba91dbe6e6066536e51f6daeec80a04c888873f"
 },
 "nbformat": 3,
 "nbformat_minor": 0,
 "worksheets": [
  {
   "cells": [
    {
     "cell_type": "code",
     "collapsed": false,
     "input": [
      "%pylab inline\n",
      "\n",
      "import pandas as pd\n",
      "from cvxopt import matrix, solvers\n",
      "import numpy as np\n",
      "import pickle"
     ],
     "language": "python",
     "metadata": {},
     "outputs": [
      {
       "output_type": "stream",
       "stream": "stdout",
       "text": [
        "Populating the interactive namespace from numpy and matplotlib\n"
       ]
      },
      {
       "output_type": "stream",
       "stream": "stderr",
       "text": [
        "/home/walrus/.virtualenvs/py/local/lib/python2.7/site-packages/pandas/io/excel.py:626: UserWarning: Installed openpyxl is not supported at this time. Use >=1.6.1 and <2.0.0.\n",
        "  .format(openpyxl_compat.start_ver, openpyxl_compat.stop_ver))\n"
       ]
      }
     ],
     "prompt_number": 1
    },
    {
     "cell_type": "code",
     "collapsed": false,
     "input": [
      "data = pd.read_csv('./data_breast_cancer.csv', header=False)"
     ],
     "language": "python",
     "metadata": {},
     "outputs": [],
     "prompt_number": 5
    },
    {
     "cell_type": "code",
     "collapsed": false,
     "input": [
      "da = data.T\n"
     ],
     "language": "python",
     "metadata": {},
     "outputs": [],
     "prompt_number": 6
    },
    {
     "cell_type": "code",
     "collapsed": false,
     "input": [
      "lin_sep = pickle.load(open('line_sep','rb'))"
     ],
     "language": "python",
     "metadata": {},
     "outputs": [],
     "prompt_number": 2
    },
    {
     "cell_type": "code",
     "collapsed": false,
     "input": [
      "lin_sep[10000]"
     ],
     "language": "python",
     "metadata": {},
     "outputs": [
      {
       "metadata": {},
       "output_type": "pyout",
       "prompt_number": 21,
       "text": [
        "(91, 2344)"
       ]
      }
     ],
     "prompt_number": 21
    },
    {
     "cell_type": "code",
     "collapsed": false,
     "input": [
      "braca1 = da[da[3226] == 'BRACA1']\n",
      "braca2 = da[da[3226] == 'BRACA2']\n",
      "not_braca1 = da[da[3226] != 'BRACA1'][1:]\n",
      "not_braca2 = da[da[3226] != 'BRACA2'][1:]\n"
     ],
     "language": "python",
     "metadata": {},
     "outputs": [],
     "prompt_number": 7
    },
    {
     "cell_type": "code",
     "collapsed": false,
     "input": [
      "gene1 = 91\n",
      "gene2 = 2344\n",
      "\n",
      "braca1_gene1 = map(float, braca1[gene1])\n",
      "braca1_gene2 = map(float, braca1[gene2])\n",
      "braca2_gene1 = map(float, braca2[gene1])\n",
      "braca2_gene2 = map(float, braca2[gene2])\n",
      "P = matrix(np.diag([1.0,1,0]))\n",
      "q = matrix([0.0]*3)\n",
      "h = matrix(-1*np.ones(len(braca1_gene1) + len(braca2_gene1)))\n",
      "G1 = np.column_stack([braca1_gene1, braca1_gene2, np.ones(len(braca1_gene1))])\n",
      "G2 = -1.0*np.column_stack([braca2_gene1, braca2_gene2, np.ones(len(braca2_gene1))])\n",
      "G = matrix(np.vstack([G1, G2]))"
     ],
     "language": "python",
     "metadata": {},
     "outputs": [],
     "prompt_number": 117
    },
    {
     "cell_type": "code",
     "collapsed": false,
     "input": [
      "sol = solvers.qp(P, q, G, h)"
     ],
     "language": "python",
     "metadata": {},
     "outputs": [
      {
       "output_type": "stream",
       "stream": "stdout",
       "text": [
        "     pcost       dcost       gap    pres   dres\n",
        " 0:  2.2987e-01  1.6712e+01  5e+01  2e+00  4e+01\n",
        " 1:  2.2739e+00  1.1447e+01  2e+01  9e-01  2e+01\n",
        " 2:  6.6179e+00  2.9865e+01  2e+01  7e-01  1e+01\n",
        " 3:  3.0749e+01  2.8563e+01  2e+01  2e-01  5e+00\n",
        " 4:  3.9633e+01  3.9392e+01  2e+00  2e-02  5e-01\n",
        " 5:  4.0748e+01  4.0691e+01  1e-01  9e-04  2e-02\n",
        " 6:  4.0785e+01  4.0785e+01  1e-03  9e-06  2e-04\n",
        " 7:  4.0786e+01  4.0786e+01  1e-05  9e-08  2e-06\n",
        " 8:  4.0786e+01  4.0786e+01  1e-07  9e-10  2e-08\n",
        "Optimal solution found.\n"
       ]
      }
     ],
     "prompt_number": 118
    },
    {
     "cell_type": "code",
     "collapsed": false,
     "input": [
      "scatter(list(braca1[gene1]), list(braca1[gene2]), c='red')\n",
      "scatter(list(braca2[gene1]), list(braca2[gene2]))\n",
      "\n",
      "xmin, xmax = xlim()\n",
      "\n",
      "xspace = np.linspace(xmin+1, xmax-1)\n",
      "a = - sol['x'][0] / sol['x'][1]\n",
      "b = - sol['x'][2] / sol['x'][1]\n",
      "yspace = a * xspace + b \n",
      "plt.plot(xspace,yspace, 'k--')"
     ],
     "language": "python",
     "metadata": {},
     "outputs": [
      {
       "metadata": {},
       "output_type": "pyout",
       "prompt_number": 119,
       "text": [
        "[<matplotlib.lines.Line2D at 0x5847dd0>]"
       ]
      },
      {
       "metadata": {},
       "output_type": "display_data",
       "png": "[encoded data removed]",
       "text": [
        "<matplotlib.figure.Figure at 0x669eb50>"
       ]
      }
     ],
     "prompt_number": 119
    },
    {
     "cell_type": "code",
     "collapsed": false,
     "input": [],
     "language": "python",
     "metadata": {},
     "outputs": []
    }
   ],
   "metadata": {}
  }
 ]
}