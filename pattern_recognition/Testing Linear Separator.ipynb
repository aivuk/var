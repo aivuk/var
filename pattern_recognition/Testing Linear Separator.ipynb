{
 "metadata": {
  "name": "",
  "signature": "sha256:2fc2481ee260223b7344380a76030b4d9a1ed44910b42ed1b84f8a7c8addcf65"
 },
 "nbformat": 3,
 "nbformat_minor": 0,
 "worksheets": [
  {
   "cells": [
    {
     "cell_type": "code",
     "collapsed": false,
     "input": [
      "%pylab inline\n",
      "\n",
      "import pandas as pd\n",
      "from cvxopt import matrix, solvers\n",
      "import numpy as np\n",
      "import pickle\n",
      "import bz2\n"
     ],
     "language": "python",
     "metadata": {},
     "outputs": [
      {
       "output_type": "stream",
       "stream": "stdout",
       "text": [
        "Populating the interactive namespace from numpy and matplotlib\n"
       ]
      },
      {
       "output_type": "stream",
       "stream": "stderr",
       "text": [
        "WARNING: pylab import has clobbered these variables: ['matrix']\n",
        "`%matplotlib` prevents importing * from pylab and numpy\n"
       ]
      }
     ],
     "prompt_number": 4
    },
    {
     "cell_type": "code",
     "collapsed": false,
     "input": [
      "? bz2.decompress"
     ],
     "language": "python",
     "metadata": {},
     "outputs": [],
     "prompt_number": 5
    },
    {
     "cell_type": "code",
     "collapsed": false,
     "input": [
      "da = pd.read_csv('./data_breast_cancer.csv', header=False).T"
     ],
     "language": "python",
     "metadata": {},
     "outputs": [],
     "prompt_number": 34
    },
    {
     "cell_type": "code",
     "collapsed": false,
     "input": [
      "#f = open('solutions_soft.braca1_x_braca2.bz2','rb')\n",
      "solutions = pickle.load(bz2.BZ2File('solutions_soft.braca1_x_braca2.bz2'))"
     ],
     "language": "python",
     "metadata": {},
     "outputs": [],
     "prompt_number": 14
    },
    {
     "cell_type": "code",
     "collapsed": false,
     "input": [
      "w = np.array(solutions.items()[0][1]['x'])"
     ],
     "language": "python",
     "metadata": {},
     "outputs": [],
     "prompt_number": 18
    },
    {
     "cell_type": "code",
     "collapsed": false,
     "input": [
      "sum(w[0:3]**2)"
     ],
     "language": "python",
     "metadata": {},
     "outputs": [
      {
       "metadata": {},
       "output_type": "pyout",
       "prompt_number": 24,
       "text": [
        "110.09550714223795"
       ]
      }
     ],
     "prompt_number": 24
    },
    {
     "cell_type": "code",
     "collapsed": false,
     "input": [
      "sorted_solutions = sorted(solutions.items(), key=lambda s: sum(s[1]['x']**2))"
     ],
     "language": "python",
     "metadata": {},
     "outputs": [],
     "prompt_number": 25
    },
    {
     "cell_type": "code",
     "collapsed": false,
     "input": [],
     "language": "python",
     "metadata": {},
     "outputs": [
      {
       "metadata": {},
       "output_type": "pyout",
       "prompt_number": 31,
       "text": [
        "3.0572755720057896"
       ]
      }
     ],
     "prompt_number": 31
    },
    {
     "cell_type": "code",
     "collapsed": false,
     "input": [
      "braca1 = da[da[3226] == 'BRACA1']\n",
      "braca2 = da[da[3226] == 'BRACA2']\n",
      "not_braca1 = da[da[3226] != 'BRACA1'][1:]\n",
      "not_braca2 = da[da[3226] != 'BRACA2'][1:]\n",
      "\n",
      "group1 = braca1\n",
      "group2 = braca2"
     ],
     "language": "python",
     "metadata": {},
     "outputs": [],
     "prompt_number": 35
    },
    {
     "cell_type": "code",
     "collapsed": false,
     "input": [
      "sol_num = 10001\n",
      "\n",
      "gene1, gene2 = sorted_solutions[sol_num][0]\n",
      "scatter(list(group1[gene1]), list(group1[gene2]), c='red')\n",
      "scatter(list(group2[gene1]), list(group2[gene2]))\n",
      "xmin, xmax = xlim()\n",
      "sol = sorted_solutions[sol_num][1]['x']\n",
      "sol_w = sqrt(sum(sorted_solutions[sol_num][1]['x']**2))\n",
      "xspace = np.linspace(xmin, xmax)\n",
      "a = - sol[0] / sol[1]\n",
      "b = - sol[2] / sol[1]\n",
      "yspace = a * xspace + b \n",
      "yspace_a = a * xspace + b + (1/sol_w)\n",
      "yspace_b = a * xspace + b - (1/sol_w)\n",
      "#plt.subplot(2,5, sol_num)\n",
      "plt.plot(xspace,yspace, 'k--')\n",
      "plt.plot(xspace,yspace_a, 'k-')\n",
      "plt.plot(xspace,yspace_b, 'k-')"
     ],
     "language": "python",
     "metadata": {},
     "outputs": [
      {
       "metadata": {},
       "output_type": "pyout",
       "prompt_number": 56,
       "text": [
        "[<matplotlib.lines.Line2D at 0x5710dfd0>]"
       ]
      },
      {
       "metadata": {},
       "output_type": "display_data",
       "png": "[encoded data removed]",
       "text": [
        "<matplotlib.figure.Figure at 0x2b4aee10>"
       ]
      }
     ],
     "prompt_number": 56
    },
    {
     "cell_type": "code",
     "collapsed": false,
     "input": [
      "plot(map(lambda w: sqrt(sum(w[1]['x']**2)), sorted_solutions[0:10000]))"
     ],
     "language": "python",
     "metadata": {},
     "outputs": [
      {
       "metadata": {},
       "output_type": "pyout",
       "prompt_number": 50,
       "text": [
        "[<matplotlib.lines.Line2D at 0x5a0fcdd0>]"
       ]
      },
      {
       "metadata": {},
       "output_type": "display_data",
       "png": "[encoded data removed]",
       "text": [
        "<matplotlib.figure.Figure at 0x137eb4d0>"
       ]
      }
     ],
     "prompt_number": 50
    },
    {
     "cell_type": "code",
     "collapsed": false,
     "input": [
      "len(sorted_solutions)"
     ],
     "language": "python",
     "metadata": {},
     "outputs": [
      {
       "metadata": {},
       "output_type": "pyout",
       "prompt_number": 49,
       "text": [
        "203672"
       ]
      }
     ],
     "prompt_number": 49
    },
    {
     "cell_type": "code",
     "collapsed": false,
     "input": [],
     "language": "python",
     "metadata": {},
     "outputs": []
    }
   ],
   "metadata": {}
  }
 ]
}